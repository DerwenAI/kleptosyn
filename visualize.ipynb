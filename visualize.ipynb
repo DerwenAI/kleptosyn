{
 "cells": [
  {
   "cell_type": "markdown",
   "id": "8465af96-7638-4a2e-81fe-04951700b07f",
   "metadata": {},
   "source": [
    "# Interactive visualization of the loaded graph"
   ]
  },
  {
   "cell_type": "markdown",
   "id": "fc806069-91bc-49ea-9428-2b15c04ec61c",
   "metadata": {
    "execution": {
     "iopub.execute_input": "2025-01-13T22:17:48.002751Z",
     "iopub.status.busy": "2025-01-13T22:17:48.002447Z",
     "iopub.status.idle": "2025-01-13T22:17:48.005334Z",
     "shell.execute_reply": "2025-01-13T22:17:48.004815Z",
     "shell.execute_reply.started": "2025-01-13T22:17:48.002732Z"
    }
   },
   "source": [
    "## set up environment"
   ]
  },
  {
   "cell_type": "markdown",
   "id": "39daed36-7d51-47d6-9372-404636cda02f",
   "metadata": {},
   "source": [
    "Load the library dependencies"
   ]
  },
  {
   "cell_type": "code",
   "execution_count": 1,
   "id": "58fb4f2a-f76f-4132-ba3b-1deda5cceb64",
   "metadata": {
    "execution": {
     "iopub.execute_input": "2025-02-24T19:04:55.675419Z",
     "iopub.status.busy": "2025-02-24T19:04:55.675266Z",
     "iopub.status.idle": "2025-02-24T19:04:55.756990Z",
     "shell.execute_reply": "2025-02-24T19:04:55.756594Z",
     "shell.execute_reply.started": "2025-02-24T19:04:55.675405Z"
    }
   },
   "outputs": [],
   "source": [
    "import json\n",
    "import pathlib\n",
    "\n",
    "import networkx as nx\n",
    "import pyvis\n",
    "import watermark"
   ]
  },
  {
   "cell_type": "markdown",
   "id": "49c7a33f-a46d-4f02-8fb6-bba3f4757bf6",
   "metadata": {},
   "source": [
    "Optional: filter the less useful warnings"
   ]
  },
  {
   "cell_type": "code",
   "execution_count": 2,
   "id": "db7bc1f6-641e-4317-82b7-9870de17a080",
   "metadata": {
    "execution": {
     "iopub.execute_input": "2025-02-24T19:04:55.757447Z",
     "iopub.status.busy": "2025-02-24T19:04:55.757331Z",
     "iopub.status.idle": "2025-02-24T19:04:55.759102Z",
     "shell.execute_reply": "2025-02-24T19:04:55.758782Z",
     "shell.execute_reply.started": "2025-02-24T19:04:55.757438Z"
    }
   },
   "outputs": [],
   "source": [
    "#warnings.filterwarnings(\"ignore\")"
   ]
  },
  {
   "cell_type": "markdown",
   "id": "1f49722f-0ab8-4586-90e8-dfaa106472cc",
   "metadata": {},
   "source": [
    "Show a watermark of the OS, hardware, language environment, and dependent library versions."
   ]
  },
  {
   "cell_type": "code",
   "execution_count": 3,
   "id": "83359524-0f7b-4c79-9de5-b4e18bfc4369",
   "metadata": {
    "execution": {
     "iopub.execute_input": "2025-02-24T19:04:55.759495Z",
     "iopub.status.busy": "2025-02-24T19:04:55.759430Z",
     "iopub.status.idle": "2025-02-24T19:04:55.768913Z",
     "shell.execute_reply": "2025-02-24T19:04:55.768584Z",
     "shell.execute_reply.started": "2025-02-24T19:04:55.759488Z"
    }
   },
   "outputs": [
    {
     "name": "stdout",
     "output_type": "stream",
     "text": [
      "Last updated: 2025-02-24T11:04:55.760231-08:00\n",
      "\n",
      "Python implementation: CPython\n",
      "Python version       : 3.13.2\n",
      "IPython version      : 8.32.0\n",
      "\n",
      "Compiler    : Clang 16.0.0 (clang-1600.0.26.6)\n",
      "OS          : Darwin\n",
      "Release     : 23.6.0\n",
      "Machine     : arm64\n",
      "Processor   : arm\n",
      "CPU cores   : 14\n",
      "Architecture: 64bit\n",
      "\n",
      "networkx : 3.4.2\n",
      "json     : 2.0.9\n",
      "pyvis    : 0.3.2\n",
      "watermark: 2.5.0\n",
      "\n"
     ]
    }
   ],
   "source": [
    "%load_ext watermark\n",
    "%watermark\n",
    "%watermark --iversions"
   ]
  },
  {
   "cell_type": "markdown",
   "id": "99dccb73-28f2-4176-8bcd-939101092c9d",
   "metadata": {},
   "source": [
    "## visualize results"
   ]
  },
  {
   "cell_type": "code",
   "execution_count": 4,
   "id": "43c5c707-9192-45d6-8205-ff014e52bbe9",
   "metadata": {
    "execution": {
     "iopub.execute_input": "2025-02-24T19:04:55.769598Z",
     "iopub.status.busy": "2025-02-24T19:04:55.769474Z",
     "iopub.status.idle": "2025-02-24T19:04:55.772290Z",
     "shell.execute_reply": "2025-02-24T19:04:55.772071Z",
     "shell.execute_reply.started": "2025-02-24T19:04:55.769586Z"
    }
   },
   "outputs": [],
   "source": [
    "MIN_CLIQUE_SIZE: int = 8\n",
    "\n",
    "def render_graph (\n",
    "    graph: nx.DiGraph,\n",
    "    ) -> pyvis.network.Network:\n",
    "    \"\"\"\n",
    "    Generate a `PyVis` network visualization from the DiGraph\n",
    "    \"\"\"\n",
    "    net: pyvis.network.Network = pyvis.network.Network(\n",
    "        notebook = True,\n",
    "        cdn_resources = \"in_line\",\n",
    "        directed = True,\n",
    "        height = \"900px\", \n",
    "        width = \"100%\",\n",
    "    )\n",
    "\n",
    "    # filter to only show the usable subgraphs\n",
    "    usable: set = set()\n",
    "    \n",
    "    for clique in nx.weakly_connected_components(graph):\n",
    "        if len(clique) >= MIN_CLIQUE_SIZE:\n",
    "            usable.update(clique)\n",
    "\n",
    "    for node_id in (set(graph.nodes) - usable):\n",
    "        if node_id not in usable:\n",
    "            graph.remove_node(node_id)\n",
    "\n",
    "    # calculate the _betweenness centrality_ measures for each country\n",
    "    for node_id, rank in nx.betweenness_centrality(graph, weight = \"weight\").items():\n",
    "        graph.nodes[node_id][\"value\"] = rank\n",
    "\n",
    "    \n",
    "    # load the network and adjust attributes for visualization\n",
    "    net.from_nx(graph)\n",
    "\n",
    "    for node in net.nodes:\n",
    "        node[\"label\"] = node[\"name\"]\n",
    "\n",
    "        if node[\"kind\"] == \"data\":\n",
    "            node[\"color\"] = \"#F690EB\"\n",
    "        else:\n",
    "            node[\"color\"] = \"#BDC561\"\n",
    "\n",
    "        if node[\"type\"] == \"ftm:Person\":\n",
    "            node[\"shape\"] = \"square\"\n",
    "        else:\n",
    "            node[\"shape\"] = \"dot\"\n",
    "\n",
    "    for edge in net.edges:\n",
    "        #edge[\"value\"] = edge[\"width\"]\n",
    "        pass\n",
    "\n",
    "    return net"
   ]
  },
  {
   "cell_type": "code",
   "execution_count": 5,
   "id": "9ac666d4-44c2-41d7-937a-dd598f66a070",
   "metadata": {
    "execution": {
     "iopub.execute_input": "2025-02-24T19:04:55.772931Z",
     "iopub.status.busy": "2025-02-24T19:04:55.772706Z",
     "iopub.status.idle": "2025-02-24T19:04:55.778090Z",
     "shell.execute_reply": "2025-02-24T19:04:55.777822Z",
     "shell.execute_reply.started": "2025-02-24T19:04:55.772919Z"
    }
   },
   "outputs": [],
   "source": [
    "graph: nx.DiGraph = nx.DiGraph() # placeholder\n",
    "\n",
    "graph_file: pathlib.Path = pathlib.Path(\"graph.json\")\n",
    "\n",
    "with open(graph_file, \"r\", encoding = \"utf-8\") as fp:\n",
    "    graph = nx.node_link_graph(\n",
    "        json.load(fp),\n",
    "        edges = \"edges\",\n",
    "    )"
   ]
  },
  {
   "cell_type": "code",
   "execution_count": 6,
   "id": "86c4d50b-9e2b-45b0-9cda-578e64207f10",
   "metadata": {
    "execution": {
     "iopub.execute_input": "2025-02-24T19:04:55.779408Z",
     "iopub.status.busy": "2025-02-24T19:04:55.779298Z",
     "iopub.status.idle": "2025-02-24T19:04:55.858892Z",
     "shell.execute_reply": "2025-02-24T19:04:55.858618Z",
     "shell.execute_reply.started": "2025-02-24T19:04:55.779394Z"
    },
    "scrolled": true
   },
   "outputs": [
    {
     "name": "stdout",
     "output_type": "stream",
     "text": [
      "networkx-pyvis.html\n"
     ]
    },
    {
     "data": {
      "text/html": [
       "\n",
       "        <iframe\n",
       "            width=\"100%\"\n",
       "            height=\"900px\"\n",
       "            src=\"networkx-pyvis.html\"\n",
       "            frameborder=\"0\"\n",
       "            allowfullscreen\n",
       "            \n",
       "        ></iframe>\n",
       "        "
      ],
      "text/plain": [
       "<IPython.lib.display.IFrame at 0x112d00590>"
      ]
     },
     "execution_count": 6,
     "metadata": {},
     "output_type": "execute_result"
    }
   ],
   "source": [
    "net: pyvis.network.Network = render_graph(graph)\n",
    "\n",
    "net.force_atlas_2based()\n",
    "net.toggle_physics(True)\n",
    "\n",
    "net.prep_notebook()\n",
    "net.show_buttons(filter_ = [\"physics\"])\n",
    "\n",
    "net.show(\"networkx-pyvis.html\")"
   ]
  },
  {
   "cell_type": "markdown",
   "id": "0d9fb86d-81e7-48b1-a649-7b509e2d0da1",
   "metadata": {
    "jp-MarkdownHeadingCollapsed": true
   },
   "source": [
    "Note: to see the final graph, load the HTML file `network-pyvis.html` in your browser."
   ]
  }
 ],
 "metadata": {
  "kernelspec": {
   "display_name": "Python 3 (ipykernel)",
   "language": "python",
   "name": "python3"
  },
  "language_info": {
   "codemirror_mode": {
    "name": "ipython",
    "version": 3
   },
   "file_extension": ".py",
   "mimetype": "text/x-python",
   "name": "python",
   "nbconvert_exporter": "python",
   "pygments_lexer": "ipython3",
   "version": "3.11.9"
  }
 },
 "nbformat": 4,
 "nbformat_minor": 5
}
