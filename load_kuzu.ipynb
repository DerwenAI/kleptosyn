{
 "cells": [
  {
   "cell_type": "markdown",
   "id": "434391af-f6e2-4535-9609-09c2d8de5f93",
   "metadata": {},
   "source": [
    "# Load data records into KùzuDB"
   ]
  },
  {
   "cell_type": "markdown",
   "id": "29b53a05-6615-4063-ac67-3f453047bc34",
   "metadata": {
    "jp-MarkdownHeadingCollapsed": true
   },
   "source": [
    "## set up environment"
   ]
  },
  {
   "cell_type": "markdown",
   "id": "be646727-95a1-46cc-8e34-8d33b2e3e009",
   "metadata": {},
   "source": [
    "Load the library dependencies:"
   ]
  },
  {
   "cell_type": "code",
   "execution_count": 1,
   "id": "41bb2ab2-9715-4b6f-bcb7-382626ee6c6e",
   "metadata": {
    "execution": {
     "iopub.execute_input": "2025-03-20T21:14:23.776687Z",
     "iopub.status.busy": "2025-03-20T21:14:23.776022Z",
     "iopub.status.idle": "2025-03-20T21:14:23.927922Z",
     "shell.execute_reply": "2025-03-20T21:14:23.927599Z",
     "shell.execute_reply.started": "2025-03-20T21:14:23.776645Z"
    }
   },
   "outputs": [],
   "source": [
    "import json\n",
    "import pathlib\n",
    "import sys\n",
    "import traceback\n",
    "import typing\n",
    "\n",
    "from icecream import ic\n",
    "import kuzu\n",
    "import pandas as pd\n",
    "import watermark"
   ]
  },
  {
   "cell_type": "markdown",
   "id": "5a93f085-efd7-4b2e-a275-ec3935b0073c",
   "metadata": {},
   "source": [
    "Show a watermark of the OS, hardware, language environment, and dependent library versions."
   ]
  },
  {
   "cell_type": "code",
   "execution_count": 2,
   "id": "df310a7b-fa18-4738-809c-37557f50f2c7",
   "metadata": {
    "execution": {
     "iopub.execute_input": "2025-03-20T21:14:23.928446Z",
     "iopub.status.busy": "2025-03-20T21:14:23.928339Z",
     "iopub.status.idle": "2025-03-20T21:14:23.938587Z",
     "shell.execute_reply": "2025-03-20T21:14:23.938347Z",
     "shell.execute_reply.started": "2025-03-20T21:14:23.928439Z"
    }
   },
   "outputs": [
    {
     "name": "stdout",
     "output_type": "stream",
     "text": [
      "Last updated: 2025-03-20T14:14:23.929043-07:00\n",
      "\n",
      "Python implementation: CPython\n",
      "Python version       : 3.13.2\n",
      "IPython version      : 8.32.0\n",
      "\n",
      "Compiler    : Clang 16.0.0 (clang-1600.0.26.6)\n",
      "OS          : Darwin\n",
      "Release     : 23.6.0\n",
      "Machine     : arm64\n",
      "Processor   : arm\n",
      "CPU cores   : 14\n",
      "Architecture: 64bit\n",
      "\n",
      "json     : 2.0.9\n",
      "kuzu     : 0.8.2\n",
      "pandas   : 2.2.3\n",
      "watermark: 2.5.0\n",
      "sys      : 3.13.2 (main, Feb  4 2025, 14:51:09) [Clang 16.0.0 (clang-1600.0.26.6)]\n",
      "\n"
     ]
    }
   ],
   "source": [
    "%load_ext watermark\n",
    "%watermark\n",
    "%watermark --iversions"
   ]
  },
  {
   "cell_type": "markdown",
   "id": "fdb19fff-7a70-446d-8124-788a8a0db4be",
   "metadata": {
    "jp-MarkdownHeadingCollapsed": true
   },
   "source": [
    "## helper function definitions"
   ]
  },
  {
   "cell_type": "markdown",
   "id": "139702cb-7e99-43e3-9d68-ca0957e2194e",
   "metadata": {},
   "source": [
    "Helper method to extract names from the Senzing-formatted datasets."
   ]
  },
  {
   "cell_type": "code",
   "execution_count": 3,
   "id": "1b3d75d3-dd62-4a90-afd8-1ddba336ac57",
   "metadata": {
    "execution": {
     "iopub.execute_input": "2025-03-20T21:14:23.939085Z",
     "iopub.status.busy": "2025-03-20T21:14:23.939001Z",
     "iopub.status.idle": "2025-03-20T21:14:23.941606Z",
     "shell.execute_reply": "2025-03-20T21:14:23.941415Z",
     "shell.execute_reply.started": "2025-03-20T21:14:23.939075Z"
    }
   },
   "outputs": [],
   "source": [
    "def extract_name (\n",
    "    dat: dict,\n",
    "    ) -> str:\n",
    "    \"\"\"Extract names from the input data records\"\"\"\n",
    "    try:\n",
    "        name: typing.Optional[ str ] = None\n",
    "\n",
    "        if \"PRIMARY_NAME_FULL\" in dat:\n",
    "            name = dat[\"PRIMARY_NAME_FULL\"]\n",
    "        else:\n",
    "            for rec in dat[\"NAMES\"]:\n",
    "                if \"NAME_TYPE\" in rec and rec[\"NAME_TYPE\"] == \"PRIMARY\":\n",
    "                    if \"NAME_FULL\" in rec:\n",
    "                        name = rec[\"NAME_FULL\"]\n",
    "                        break\n",
    "                    if \"NAME_ORG\" in rec:\n",
    "                        name = rec[\"NAME_ORG\"]\n",
    "                        break\n",
    "                elif \"PRIMARY_NAME_ORG\" in rec:\n",
    "                    name = rec[\"PRIMARY_NAME_ORG\"]\n",
    "                    break\n",
    "\n",
    "        if name is not None:\n",
    "            if name == \"-\" or len(name) < 1:\n",
    "                name = None\n",
    "        else:\n",
    "            print(\"extract_name DQ:\", dat)\n",
    "            sys.exit(0)\n",
    "\n",
    "        return name\n",
    "\n",
    "    except Exception as ex:\n",
    "        ic(ex)\n",
    "        traceback.print_exc()\n",
    "\n",
    "        ic(dat)\n",
    "        sys.exit(0)"
   ]
  },
  {
   "cell_type": "markdown",
   "id": "4b81cc20-b53d-4860-9c8f-1deb4046c679",
   "metadata": {},
   "source": [
    "Helper method to extract addresses from the Senzing-formatted datasets."
   ]
  },
  {
   "cell_type": "code",
   "execution_count": 4,
   "id": "43f16b49-01c3-47f3-a20a-6b0ecc92daef",
   "metadata": {
    "execution": {
     "iopub.execute_input": "2025-03-20T21:14:23.941935Z",
     "iopub.status.busy": "2025-03-20T21:14:23.941871Z",
     "iopub.status.idle": "2025-03-20T21:14:23.943802Z",
     "shell.execute_reply": "2025-03-20T21:14:23.943569Z",
     "shell.execute_reply.started": "2025-03-20T21:14:23.941927Z"
    }
   },
   "outputs": [],
   "source": [
    "def extract_addr (\n",
    "    dat: dict,\n",
    "    ) -> typing.Optional[ str ]:\n",
    "    \"\"\"Extract addresses from the input data records\"\"\"\n",
    "    try:\n",
    "        addr: typing.Optional[ str ] = None\n",
    "\n",
    "        if \"ADDRESSES\" in dat:\n",
    "            for rec in dat[\"ADDRESSES\"]:\n",
    "                if \"ADDR_FULL\" in rec:\n",
    "                    addr = rec[\"ADDR_FULL\"]\n",
    "                    break\n",
    "\n",
    "        if addr is not None:\n",
    "            if addr == \"-\" or len(addr) < 1:\n",
    "                addr = None\n",
    "\n",
    "        return addr\n",
    "\n",
    "    except Exception as ex:\n",
    "        ic(ex)\n",
    "        traceback.print_exc()\n",
    "\n",
    "        ic(dat)\n",
    "        sys.exit(0)"
   ]
  },
  {
   "cell_type": "markdown",
   "id": "c7d58175-4ee4-42f7-9085-dc999f3fcb5e",
   "metadata": {},
   "source": [
    "## load datasets"
   ]
  },
  {
   "cell_type": "markdown",
   "id": "cc9416c7-5b4e-4fc2-92ff-eb009e22971b",
   "metadata": {},
   "source": [
    "Load the slice of the OpenSanctions dataset <https://www.opensanctions.org/>"
   ]
  },
  {
   "cell_type": "code",
   "execution_count": 5,
   "id": "2bbdb2ac-d70e-4bbd-9e8d-3b01b52c6cf2",
   "metadata": {
    "execution": {
     "iopub.execute_input": "2025-03-20T21:14:23.944060Z",
     "iopub.status.busy": "2025-03-20T21:14:23.944008Z",
     "iopub.status.idle": "2025-03-20T21:14:23.951104Z",
     "shell.execute_reply": "2025-03-20T21:14:23.950885Z",
     "shell.execute_reply.started": "2025-03-20T21:14:23.944054Z"
    }
   },
   "outputs": [
    {
     "data": {
      "text/html": [
       "<div>\n",
       "<style scoped>\n",
       "    .dataframe tbody tr th:only-of-type {\n",
       "        vertical-align: middle;\n",
       "    }\n",
       "\n",
       "    .dataframe tbody tr th {\n",
       "        vertical-align: top;\n",
       "    }\n",
       "\n",
       "    .dataframe thead th {\n",
       "        text-align: right;\n",
       "    }\n",
       "</style>\n",
       "<table border=\"1\" class=\"dataframe\">\n",
       "  <thead>\n",
       "    <tr style=\"text-align: right;\">\n",
       "      <th></th>\n",
       "      <th>id</th>\n",
       "      <th>kind</th>\n",
       "      <th>name</th>\n",
       "      <th>addr</th>\n",
       "      <th>url</th>\n",
       "    </tr>\n",
       "  </thead>\n",
       "  <tbody>\n",
       "    <tr>\n",
       "      <th>0</th>\n",
       "      <td>NK-25vyVFzt8vdJGgAXMRTwTJ</td>\n",
       "      <td>PERSON</td>\n",
       "      <td>Abassin BADSHAH</td>\n",
       "      <td>31 Quernmore Close, Bromley, Kent, United King...</td>\n",
       "      <td>https://www.opensanctions.org/entities/NK-25vy...</td>\n",
       "    </tr>\n",
       "    <tr>\n",
       "      <th>1</th>\n",
       "      <td>NK-3p3mmVWmjwVtTfKchz4kNE</td>\n",
       "      <td>ORGANIZATION</td>\n",
       "      <td>LMAR (GB) LTD</td>\n",
       "      <td>31 Quernmore Close, Bromley, Kent, United King...</td>\n",
       "      <td>https://www.opensanctions.org/entities/NK-3p3m...</td>\n",
       "    </tr>\n",
       "    <tr>\n",
       "      <th>2</th>\n",
       "      <td>NK-auyPsLrBzRoxjCRWgjBvas</td>\n",
       "      <td>ORGANIZATION</td>\n",
       "      <td>WANDLE HOLDINGS LIMITED</td>\n",
       "      <td>DEANA BEACH APTS, BLOCK A, Flat 212, Προμαχών...</td>\n",
       "      <td>https://opensanctions.org/entities/NK-auyPsLrB...</td>\n",
       "    </tr>\n",
       "    <tr>\n",
       "      <th>3</th>\n",
       "      <td>NK-cf4Q3KcmUnQbt8Cy7iTtwK</td>\n",
       "      <td>ORGANIZATION</td>\n",
       "      <td>POLYUS GOLD INTERNATIONAL LIMITED</td>\n",
       "      <td>3RD FLOOR CHARTER PLACE 23-27 SEATON PALCE, ST...</td>\n",
       "      <td>https://opensanctions.org/entities/NK-cf4Q3Kcm...</td>\n",
       "    </tr>\n",
       "    <tr>\n",
       "      <th>4</th>\n",
       "      <td>NK-dNNN56A4ApVfUFvfzniLCF</td>\n",
       "      <td>PERSON</td>\n",
       "      <td>Firuza Nazimovna Kerimova</td>\n",
       "      <td>MOSCOW, RUS, 123430</td>\n",
       "      <td>https://www.opensanctions.org/entities/NK-dNNN...</td>\n",
       "    </tr>\n",
       "  </tbody>\n",
       "</table>\n",
       "</div>"
      ],
      "text/plain": [
       "                          id          kind                               name  \\\n",
       "0  NK-25vyVFzt8vdJGgAXMRTwTJ        PERSON                    Abassin BADSHAH   \n",
       "1  NK-3p3mmVWmjwVtTfKchz4kNE  ORGANIZATION                      LMAR (GB) LTD   \n",
       "2  NK-auyPsLrBzRoxjCRWgjBvas  ORGANIZATION            WANDLE HOLDINGS LIMITED   \n",
       "3  NK-cf4Q3KcmUnQbt8Cy7iTtwK  ORGANIZATION  POLYUS GOLD INTERNATIONAL LIMITED   \n",
       "4  NK-dNNN56A4ApVfUFvfzniLCF        PERSON          Firuza Nazimovna Kerimova   \n",
       "\n",
       "                                                addr  \\\n",
       "0  31 Quernmore Close, Bromley, Kent, United King...   \n",
       "1  31 Quernmore Close, Bromley, Kent, United King...   \n",
       "2  DEANA BEACH APTS, BLOCK A, Flat 212, Προμαχών...   \n",
       "3  3RD FLOOR CHARTER PLACE 23-27 SEATON PALCE, ST...   \n",
       "4                                MOSCOW, RUS, 123430   \n",
       "\n",
       "                                                 url  \n",
       "0  https://www.opensanctions.org/entities/NK-25vy...  \n",
       "1  https://www.opensanctions.org/entities/NK-3p3m...  \n",
       "2  https://opensanctions.org/entities/NK-auyPsLrB...  \n",
       "3  https://opensanctions.org/entities/NK-cf4Q3Kcm...  \n",
       "4  https://www.opensanctions.org/entities/NK-dNNN...  "
      ]
     },
     "execution_count": 5,
     "metadata": {},
     "output_type": "execute_result"
    }
   ],
   "source": [
    "dat_file: pathlib.Path = pathlib.Path(\"open-sanctions.json\")\n",
    "data_rows: typing.List[ dict ] = []\n",
    "risk_rows: typing.List[ dict ] = []\n",
    "\n",
    "with open(dat_file, \"rb\") as fp:\n",
    "    for line in fp:\n",
    "        dat: dict = json.loads(line)\n",
    "        risks: list = []\n",
    "\n",
    "        if \"RISKS\" in dat:\n",
    "            for risk in dat[\"RISKS\"]:\n",
    "                risk_rows.append({\n",
    "                    \"id\": dat[\"RECORD_ID\"],\n",
    "                    \"topic\": risk[\"TOPIC\"],\n",
    "                })\n",
    "\n",
    "        data_rows.append({\n",
    "            \"id\": dat[\"RECORD_ID\"],\n",
    "            \"kind\": dat[\"RECORD_TYPE\"],\n",
    "            \"name\": extract_name(dat),\n",
    "            \"addr\": extract_addr(dat),\n",
    "            \"url\": dat[\"URL\"],\n",
    "        })\n",
    "\n",
    "df_os: pd.DataFrame = pd.DataFrame.from_dict(\n",
    "    data_rows,\n",
    "    orient = \"columns\"\n",
    ").drop_duplicates(subset = [\"id\"])\n",
    "\n",
    "df_os.head()"
   ]
  },
  {
   "cell_type": "code",
   "execution_count": 6,
   "id": "2fb7c061-98b6-49de-8f42-c7f75487adb6",
   "metadata": {
    "execution": {
     "iopub.execute_input": "2025-03-20T21:14:23.952511Z",
     "iopub.status.busy": "2025-03-20T21:14:23.952422Z",
     "iopub.status.idle": "2025-03-20T21:14:23.957094Z",
     "shell.execute_reply": "2025-03-20T21:14:23.956874Z",
     "shell.execute_reply.started": "2025-03-20T21:14:23.952504Z"
    }
   },
   "outputs": [
    {
     "data": {
      "text/html": [
       "<div>\n",
       "<style scoped>\n",
       "    .dataframe tbody tr th:only-of-type {\n",
       "        vertical-align: middle;\n",
       "    }\n",
       "\n",
       "    .dataframe tbody tr th {\n",
       "        vertical-align: top;\n",
       "    }\n",
       "\n",
       "    .dataframe thead th {\n",
       "        text-align: right;\n",
       "    }\n",
       "</style>\n",
       "<table border=\"1\" class=\"dataframe\">\n",
       "  <thead>\n",
       "    <tr style=\"text-align: right;\">\n",
       "      <th></th>\n",
       "      <th>id</th>\n",
       "      <th>kind</th>\n",
       "      <th>name</th>\n",
       "      <th>addr</th>\n",
       "      <th>url</th>\n",
       "    </tr>\n",
       "  </thead>\n",
       "  <tbody>\n",
       "    <tr>\n",
       "      <th>count</th>\n",
       "      <td>24</td>\n",
       "      <td>24</td>\n",
       "      <td>24</td>\n",
       "      <td>19</td>\n",
       "      <td>24</td>\n",
       "    </tr>\n",
       "    <tr>\n",
       "      <th>freq</th>\n",
       "      <td>1</td>\n",
       "      <td>14</td>\n",
       "      <td>2</td>\n",
       "      <td>4</td>\n",
       "      <td>1</td>\n",
       "    </tr>\n",
       "    <tr>\n",
       "      <th>unique</th>\n",
       "      <td>24</td>\n",
       "      <td>2</td>\n",
       "      <td>23</td>\n",
       "      <td>12</td>\n",
       "      <td>24</td>\n",
       "    </tr>\n",
       "  </tbody>\n",
       "</table>\n",
       "</div>"
      ],
      "text/plain": [
       "        id kind name addr url\n",
       "count   24   24   24   19  24\n",
       "freq     1   14    2    4   1\n",
       "unique  24    2   23   12  24"
      ]
     },
     "execution_count": 6,
     "metadata": {},
     "output_type": "execute_result"
    }
   ],
   "source": [
    "df_os.describe(include = \"all\").loc[[ \"count\", \"freq\", \"unique\", ]]"
   ]
  },
  {
   "cell_type": "markdown",
   "id": "e44fcd31-d731-4f7a-b1d0-59feefdfedc7",
   "metadata": {},
   "source": [
    "OpenSanctions provides the \"risk\" category of data, so handle this specially:"
   ]
  },
  {
   "cell_type": "code",
   "execution_count": 7,
   "id": "79e5c5db-65a8-40bc-b38d-ebc174922ac0",
   "metadata": {
    "execution": {
     "iopub.execute_input": "2025-03-20T21:14:23.957695Z",
     "iopub.status.busy": "2025-03-20T21:14:23.957599Z",
     "iopub.status.idle": "2025-03-20T21:14:23.960960Z",
     "shell.execute_reply": "2025-03-20T21:14:23.960720Z",
     "shell.execute_reply.started": "2025-03-20T21:14:23.957686Z"
    }
   },
   "outputs": [
    {
     "data": {
      "text/html": [
       "<div>\n",
       "<style scoped>\n",
       "    .dataframe tbody tr th:only-of-type {\n",
       "        vertical-align: middle;\n",
       "    }\n",
       "\n",
       "    .dataframe tbody tr th {\n",
       "        vertical-align: top;\n",
       "    }\n",
       "\n",
       "    .dataframe thead th {\n",
       "        text-align: right;\n",
       "    }\n",
       "</style>\n",
       "<table border=\"1\" class=\"dataframe\">\n",
       "  <thead>\n",
       "    <tr style=\"text-align: right;\">\n",
       "      <th></th>\n",
       "      <th>id</th>\n",
       "      <th>topic</th>\n",
       "    </tr>\n",
       "  </thead>\n",
       "  <tbody>\n",
       "    <tr>\n",
       "      <th>0</th>\n",
       "      <td>NK-25vyVFzt8vdJGgAXMRTwTJ</td>\n",
       "      <td>corp.disqual</td>\n",
       "    </tr>\n",
       "    <tr>\n",
       "      <th>1</th>\n",
       "      <td>NK-auyPsLrBzRoxjCRWgjBvas</td>\n",
       "      <td>sanction.linked</td>\n",
       "    </tr>\n",
       "    <tr>\n",
       "      <th>2</th>\n",
       "      <td>NK-cf4Q3KcmUnQbt8Cy7iTtwK</td>\n",
       "      <td>sanction.linked</td>\n",
       "    </tr>\n",
       "    <tr>\n",
       "      <th>3</th>\n",
       "      <td>NK-dNNN56A4ApVfUFvfzniLCF</td>\n",
       "      <td>role.rca</td>\n",
       "    </tr>\n",
       "    <tr>\n",
       "      <th>4</th>\n",
       "      <td>NK-dNNN56A4ApVfUFvfzniLCF</td>\n",
       "      <td>sanction</td>\n",
       "    </tr>\n",
       "  </tbody>\n",
       "</table>\n",
       "</div>"
      ],
      "text/plain": [
       "                          id            topic\n",
       "0  NK-25vyVFzt8vdJGgAXMRTwTJ     corp.disqual\n",
       "1  NK-auyPsLrBzRoxjCRWgjBvas  sanction.linked\n",
       "2  NK-cf4Q3KcmUnQbt8Cy7iTtwK  sanction.linked\n",
       "3  NK-dNNN56A4ApVfUFvfzniLCF         role.rca\n",
       "4  NK-dNNN56A4ApVfUFvfzniLCF         sanction"
      ]
     },
     "execution_count": 7,
     "metadata": {},
     "output_type": "execute_result"
    }
   ],
   "source": [
    "df_risk: pd.DataFrame = pd.DataFrame.from_dict(\n",
    "    risk_rows,\n",
    "    orient = \"columns\"\n",
    ")\n",
    "\n",
    "df_risk.head()"
   ]
  },
  {
   "cell_type": "code",
   "execution_count": 8,
   "id": "4f19cf25-a035-4c91-8274-6aee0641d79f",
   "metadata": {
    "execution": {
     "iopub.execute_input": "2025-03-20T21:14:23.961368Z",
     "iopub.status.busy": "2025-03-20T21:14:23.961297Z",
     "iopub.status.idle": "2025-03-20T21:14:23.964951Z",
     "shell.execute_reply": "2025-03-20T21:14:23.964593Z",
     "shell.execute_reply.started": "2025-03-20T21:14:23.961361Z"
    }
   },
   "outputs": [
    {
     "data": {
      "text/html": [
       "<div>\n",
       "<style scoped>\n",
       "    .dataframe tbody tr th:only-of-type {\n",
       "        vertical-align: middle;\n",
       "    }\n",
       "\n",
       "    .dataframe tbody tr th {\n",
       "        vertical-align: top;\n",
       "    }\n",
       "\n",
       "    .dataframe thead th {\n",
       "        text-align: right;\n",
       "    }\n",
       "</style>\n",
       "<table border=\"1\" class=\"dataframe\">\n",
       "  <thead>\n",
       "    <tr style=\"text-align: right;\">\n",
       "      <th></th>\n",
       "      <th>id</th>\n",
       "      <th>topic</th>\n",
       "    </tr>\n",
       "  </thead>\n",
       "  <tbody>\n",
       "    <tr>\n",
       "      <th>count</th>\n",
       "      <td>29</td>\n",
       "      <td>29</td>\n",
       "    </tr>\n",
       "    <tr>\n",
       "      <th>freq</th>\n",
       "      <td>4</td>\n",
       "      <td>10</td>\n",
       "    </tr>\n",
       "    <tr>\n",
       "      <th>unique</th>\n",
       "      <td>19</td>\n",
       "      <td>7</td>\n",
       "    </tr>\n",
       "  </tbody>\n",
       "</table>\n",
       "</div>"
      ],
      "text/plain": [
       "        id topic\n",
       "count   29    29\n",
       "freq     4    10\n",
       "unique  19     7"
      ]
     },
     "execution_count": 8,
     "metadata": {},
     "output_type": "execute_result"
    }
   ],
   "source": [
    "df_risk.describe(include = \"all\").loc[[ \"count\", \"freq\", \"unique\", ]]"
   ]
  },
  {
   "cell_type": "markdown",
   "id": "1b586645-e4ee-4d58-a42a-2d15fcf3822d",
   "metadata": {},
   "source": [
    "Load the slice of the Open Ownership datasets <https://www.openownership.org/>"
   ]
  },
  {
   "cell_type": "code",
   "execution_count": 9,
   "id": "d924d2e9-6d18-47b3-b191-8980d6b7ae2b",
   "metadata": {
    "execution": {
     "iopub.execute_input": "2025-03-20T21:14:23.965474Z",
     "iopub.status.busy": "2025-03-20T21:14:23.965382Z",
     "iopub.status.idle": "2025-03-20T21:14:23.973429Z",
     "shell.execute_reply": "2025-03-20T21:14:23.973155Z",
     "shell.execute_reply.started": "2025-03-20T21:14:23.965467Z"
    }
   },
   "outputs": [
    {
     "data": {
      "text/html": [
       "<div>\n",
       "<style scoped>\n",
       "    .dataframe tbody tr th:only-of-type {\n",
       "        vertical-align: middle;\n",
       "    }\n",
       "\n",
       "    .dataframe tbody tr th {\n",
       "        vertical-align: top;\n",
       "    }\n",
       "\n",
       "    .dataframe thead th {\n",
       "        text-align: right;\n",
       "    }\n",
       "</style>\n",
       "<table border=\"1\" class=\"dataframe\">\n",
       "  <thead>\n",
       "    <tr style=\"text-align: right;\">\n",
       "      <th></th>\n",
       "      <th>id</th>\n",
       "      <th>kind</th>\n",
       "      <th>name</th>\n",
       "      <th>addr</th>\n",
       "      <th>country</th>\n",
       "    </tr>\n",
       "  </thead>\n",
       "  <tbody>\n",
       "    <tr>\n",
       "      <th>0</th>\n",
       "      <td>10094521532396971848</td>\n",
       "      <td>ORGANIZATION</td>\n",
       "      <td>GOLD WYNN UK HOLDINGS LIMITED</td>\n",
       "      <td>C/O Fladgate Llp, 16 Great Queen Street, Londo...</td>\n",
       "      <td>GB</td>\n",
       "    </tr>\n",
       "    <tr>\n",
       "      <th>1</th>\n",
       "      <td>10165632722354515453</td>\n",
       "      <td>ORGANIZATION</td>\n",
       "      <td>UPSIDE TECHNOLOGY LIMITED</td>\n",
       "      <td>Apt 52, 3 Whitehall Court, London, SW1A 2EL</td>\n",
       "      <td>GB</td>\n",
       "    </tr>\n",
       "    <tr>\n",
       "      <th>2</th>\n",
       "      <td>10264459789712927869</td>\n",
       "      <td>PERSON</td>\n",
       "      <td>Kenneth Kurt Hansen</td>\n",
       "      <td>Finderupvej 61, Kastrup, 2770</td>\n",
       "      <td>DK</td>\n",
       "    </tr>\n",
       "    <tr>\n",
       "      <th>3</th>\n",
       "      <td>10369029484097831758</td>\n",
       "      <td>PERSON</td>\n",
       "      <td>Daniel Simmons</td>\n",
       "      <td>17 St Andrews Crescent, Cardiff, South Glamorg...</td>\n",
       "      <td>GB</td>\n",
       "    </tr>\n",
       "    <tr>\n",
       "      <th>4</th>\n",
       "      <td>10390699576067371333</td>\n",
       "      <td>PERSON</td>\n",
       "      <td>Wyndham James Alexander Plumptre</td>\n",
       "      <td>Apt 52, 3, Whitehall Court, London, SW1A 2EL</td>\n",
       "      <td>GB</td>\n",
       "    </tr>\n",
       "  </tbody>\n",
       "</table>\n",
       "</div>"
      ],
      "text/plain": [
       "                     id          kind                              name  \\\n",
       "0  10094521532396971848  ORGANIZATION     GOLD WYNN UK HOLDINGS LIMITED   \n",
       "1  10165632722354515453  ORGANIZATION         UPSIDE TECHNOLOGY LIMITED   \n",
       "2  10264459789712927869        PERSON               Kenneth Kurt Hansen   \n",
       "3  10369029484097831758        PERSON                    Daniel Simmons   \n",
       "4  10390699576067371333        PERSON  Wyndham James Alexander Plumptre   \n",
       "\n",
       "                                                addr country  \n",
       "0  C/O Fladgate Llp, 16 Great Queen Street, Londo...      GB  \n",
       "1        Apt 52, 3 Whitehall Court, London, SW1A 2EL      GB  \n",
       "2                      Finderupvej 61, Kastrup, 2770      DK  \n",
       "3  17 St Andrews Crescent, Cardiff, South Glamorg...      GB  \n",
       "4       Apt 52, 3, Whitehall Court, London, SW1A 2EL      GB  "
      ]
     },
     "execution_count": 9,
     "metadata": {},
     "output_type": "execute_result"
    }
   ],
   "source": [
    "dat_file: pathlib.Path = pathlib.Path(\"open-ownership.json\")\n",
    "data_rows: typing.List[ dict ] = []\n",
    "role_rows: typing.List[ dict ] = []\n",
    "\n",
    "with open(dat_file, \"rb\") as fp:\n",
    "    for line in fp:\n",
    "        dat: dict = json.loads(line)\n",
    "        kv: dict = {\n",
    "            \"id\": dat[\"RECORD_ID\"],\n",
    "            \"kind\": dat[\"RECORD_TYPE\"],\n",
    "            \"name\": extract_name(dat),\n",
    "            \"addr\": extract_addr(dat),\n",
    "        }\n",
    "\n",
    "        if dat[\"RECORD_TYPE\"] == \"PERSON\" and len(dat[\"ATTRIBUTES\"]) > 0:\n",
    "            kv[\"country\"] = dat[\"ATTRIBUTES\"][0][\"NATIONALITY\"]\n",
    "        elif dat[\"RECORD_TYPE\"] == \"ORGANIZATION\" and \"REGISTRATION_COUNTRY\" in dat:\n",
    "            kv[\"country\"] = dat[\"REGISTRATION_COUNTRY\"]\n",
    "            \n",
    "        data_rows.append(kv)\n",
    "\n",
    "        if \"RELATIONSHIPS\" in dat:\n",
    "            for rel in dat[\"RELATIONSHIPS\"]:\n",
    "                if \"REL_ANCHOR_DOMAIN\" not in rel:\n",
    "                    role_rows.append({\n",
    "                        \"src_id\": dat[\"RECORD_ID\"],\n",
    "                        \"dst_id\": rel[\"REL_POINTER_KEY\"],\n",
    "                        \"role\": rel[\"REL_POINTER_ROLE\"],\n",
    "                        \"date\": rel[\"REL_POINTER_FROM_DATE\"],\n",
    "                    })\n",
    "\n",
    "df_oa: pd.DataFrame = pd.DataFrame.from_dict(\n",
    "    data_rows,\n",
    "    orient = \"columns\"\n",
    ").drop_duplicates(subset = [\"id\"])\n",
    "\n",
    "df_oa.head()"
   ]
  },
  {
   "cell_type": "code",
   "execution_count": 10,
   "id": "623f4f1a-f6a0-4879-9ec1-3a8183a38bad",
   "metadata": {
    "execution": {
     "iopub.execute_input": "2025-03-20T21:14:23.973842Z",
     "iopub.status.busy": "2025-03-20T21:14:23.973779Z",
     "iopub.status.idle": "2025-03-20T21:14:23.978401Z",
     "shell.execute_reply": "2025-03-20T21:14:23.978171Z",
     "shell.execute_reply.started": "2025-03-20T21:14:23.973834Z"
    }
   },
   "outputs": [
    {
     "data": {
      "text/html": [
       "<div>\n",
       "<style scoped>\n",
       "    .dataframe tbody tr th:only-of-type {\n",
       "        vertical-align: middle;\n",
       "    }\n",
       "\n",
       "    .dataframe tbody tr th {\n",
       "        vertical-align: top;\n",
       "    }\n",
       "\n",
       "    .dataframe thead th {\n",
       "        text-align: right;\n",
       "    }\n",
       "</style>\n",
       "<table border=\"1\" class=\"dataframe\">\n",
       "  <thead>\n",
       "    <tr style=\"text-align: right;\">\n",
       "      <th></th>\n",
       "      <th>id</th>\n",
       "      <th>kind</th>\n",
       "      <th>name</th>\n",
       "      <th>addr</th>\n",
       "      <th>country</th>\n",
       "    </tr>\n",
       "  </thead>\n",
       "  <tbody>\n",
       "    <tr>\n",
       "      <th>count</th>\n",
       "      <td>258</td>\n",
       "      <td>258</td>\n",
       "      <td>258</td>\n",
       "      <td>239</td>\n",
       "      <td>247</td>\n",
       "    </tr>\n",
       "    <tr>\n",
       "      <th>freq</th>\n",
       "      <td>1</td>\n",
       "      <td>160</td>\n",
       "      <td>4</td>\n",
       "      <td>22</td>\n",
       "      <td>165</td>\n",
       "    </tr>\n",
       "    <tr>\n",
       "      <th>unique</th>\n",
       "      <td>258</td>\n",
       "      <td>2</td>\n",
       "      <td>197</td>\n",
       "      <td>116</td>\n",
       "      <td>7</td>\n",
       "    </tr>\n",
       "  </tbody>\n",
       "</table>\n",
       "</div>"
      ],
      "text/plain": [
       "         id kind name addr country\n",
       "count   258  258  258  239     247\n",
       "freq      1  160    4   22     165\n",
       "unique  258    2  197  116       7"
      ]
     },
     "execution_count": 10,
     "metadata": {},
     "output_type": "execute_result"
    }
   ],
   "source": [
    "df_oa.describe(include = \"all\").loc[[ \"count\", \"freq\", \"unique\", ]]"
   ]
  },
  {
   "cell_type": "markdown",
   "id": "5f3d74d2-cadf-4250-a4c3-65d8068a08da",
   "metadata": {},
   "source": [
    "Open Ownership describes _ultimate beneficial ownership_ (UBO) details, which provides the \"link\" category of data:"
   ]
  },
  {
   "cell_type": "code",
   "execution_count": 11,
   "id": "b1f9c6bc-598d-4e53-a4a6-22f228aac2fd",
   "metadata": {
    "execution": {
     "iopub.execute_input": "2025-03-20T21:14:23.978879Z",
     "iopub.status.busy": "2025-03-20T21:14:23.978802Z",
     "iopub.status.idle": "2025-03-20T21:14:23.982772Z",
     "shell.execute_reply": "2025-03-20T21:14:23.982455Z",
     "shell.execute_reply.started": "2025-03-20T21:14:23.978873Z"
    }
   },
   "outputs": [
    {
     "data": {
      "text/html": [
       "<div>\n",
       "<style scoped>\n",
       "    .dataframe tbody tr th:only-of-type {\n",
       "        vertical-align: middle;\n",
       "    }\n",
       "\n",
       "    .dataframe tbody tr th {\n",
       "        vertical-align: top;\n",
       "    }\n",
       "\n",
       "    .dataframe thead th {\n",
       "        text-align: right;\n",
       "    }\n",
       "</style>\n",
       "<table border=\"1\" class=\"dataframe\">\n",
       "  <thead>\n",
       "    <tr style=\"text-align: right;\">\n",
       "      <th></th>\n",
       "      <th>src_id</th>\n",
       "      <th>dst_id</th>\n",
       "      <th>role</th>\n",
       "      <th>date</th>\n",
       "    </tr>\n",
       "  </thead>\n",
       "  <tbody>\n",
       "    <tr>\n",
       "      <th>0</th>\n",
       "      <td>10094521532396971848</td>\n",
       "      <td>7584591804488095167</td>\n",
       "      <td>shareholding 75% 100%</td>\n",
       "      <td>2020-03-18</td>\n",
       "    </tr>\n",
       "    <tr>\n",
       "      <th>1</th>\n",
       "      <td>10094521532396971848</td>\n",
       "      <td>7584591804488095167</td>\n",
       "      <td>voting_rights 75% 100%</td>\n",
       "      <td>2020-03-18</td>\n",
       "    </tr>\n",
       "    <tr>\n",
       "      <th>2</th>\n",
       "      <td>10094521532396971848</td>\n",
       "      <td>7584591804488095167</td>\n",
       "      <td>appointment_of_board</td>\n",
       "      <td>2020-03-18</td>\n",
       "    </tr>\n",
       "    <tr>\n",
       "      <th>3</th>\n",
       "      <td>10165632722354515453</td>\n",
       "      <td>598161773989218568</td>\n",
       "      <td>shareholding 75% 100%</td>\n",
       "      <td>2019-08-20</td>\n",
       "    </tr>\n",
       "    <tr>\n",
       "      <th>4</th>\n",
       "      <td>10165632722354515453</td>\n",
       "      <td>598161773989218568</td>\n",
       "      <td>voting_rights 75% 100%</td>\n",
       "      <td>2019-08-20</td>\n",
       "    </tr>\n",
       "  </tbody>\n",
       "</table>\n",
       "</div>"
      ],
      "text/plain": [
       "                 src_id               dst_id                    role  \\\n",
       "0  10094521532396971848  7584591804488095167   shareholding 75% 100%   \n",
       "1  10094521532396971848  7584591804488095167  voting_rights 75% 100%   \n",
       "2  10094521532396971848  7584591804488095167    appointment_of_board   \n",
       "3  10165632722354515453   598161773989218568   shareholding 75% 100%   \n",
       "4  10165632722354515453   598161773989218568  voting_rights 75% 100%   \n",
       "\n",
       "         date  \n",
       "0  2020-03-18  \n",
       "1  2020-03-18  \n",
       "2  2020-03-18  \n",
       "3  2019-08-20  \n",
       "4  2019-08-20  "
      ]
     },
     "execution_count": 11,
     "metadata": {},
     "output_type": "execute_result"
    }
   ],
   "source": [
    "ids: set = set(df_oa[\"id\"].tolist())\n",
    "closed_role_rows: list = []\n",
    "\n",
    "for row in role_rows:\n",
    "    if row[\"src_id\"] in ids and row[\"dst_id\"] in ids:\n",
    "        closed_role_rows.append(row)\n",
    "\n",
    "df_role: pd.DataFrame = pd.DataFrame.from_dict(\n",
    "    closed_role_rows,\n",
    "    orient = \"columns\"\n",
    ")\n",
    "\n",
    "df_role.head()"
   ]
  },
  {
   "cell_type": "code",
   "execution_count": 12,
   "id": "4ad73bc2-12a6-470b-92bb-e878045a99bb",
   "metadata": {
    "execution": {
     "iopub.execute_input": "2025-03-20T21:14:23.983347Z",
     "iopub.status.busy": "2025-03-20T21:14:23.983235Z",
     "iopub.status.idle": "2025-03-20T21:14:23.988037Z",
     "shell.execute_reply": "2025-03-20T21:14:23.987775Z",
     "shell.execute_reply.started": "2025-03-20T21:14:23.983337Z"
    }
   },
   "outputs": [
    {
     "data": {
      "text/html": [
       "<div>\n",
       "<style scoped>\n",
       "    .dataframe tbody tr th:only-of-type {\n",
       "        vertical-align: middle;\n",
       "    }\n",
       "\n",
       "    .dataframe tbody tr th {\n",
       "        vertical-align: top;\n",
       "    }\n",
       "\n",
       "    .dataframe thead th {\n",
       "        text-align: right;\n",
       "    }\n",
       "</style>\n",
       "<table border=\"1\" class=\"dataframe\">\n",
       "  <thead>\n",
       "    <tr style=\"text-align: right;\">\n",
       "      <th></th>\n",
       "      <th>src_id</th>\n",
       "      <th>dst_id</th>\n",
       "      <th>role</th>\n",
       "      <th>date</th>\n",
       "    </tr>\n",
       "  </thead>\n",
       "  <tbody>\n",
       "    <tr>\n",
       "      <th>count</th>\n",
       "      <td>536</td>\n",
       "      <td>536</td>\n",
       "      <td>536</td>\n",
       "      <td>536</td>\n",
       "    </tr>\n",
       "    <tr>\n",
       "      <th>freq</th>\n",
       "      <td>22</td>\n",
       "      <td>27</td>\n",
       "      <td>145</td>\n",
       "      <td>114</td>\n",
       "    </tr>\n",
       "    <tr>\n",
       "      <th>unique</th>\n",
       "      <td>113</td>\n",
       "      <td>99</td>\n",
       "      <td>29</td>\n",
       "      <td>77</td>\n",
       "    </tr>\n",
       "  </tbody>\n",
       "</table>\n",
       "</div>"
      ],
      "text/plain": [
       "       src_id dst_id role date\n",
       "count     536    536  536  536\n",
       "freq       22     27  145  114\n",
       "unique    113     99   29   77"
      ]
     },
     "execution_count": 12,
     "metadata": {},
     "output_type": "execute_result"
    }
   ],
   "source": [
    "df_role.describe(include = \"all\").loc[[ \"count\", \"freq\", \"unique\", ]]"
   ]
  },
  {
   "cell_type": "markdown",
   "id": "e0c12f1f-6182-4411-a709-ab1f58b886b6",
   "metadata": {},
   "source": [
    "## load Senzing export"
   ]
  },
  {
   "cell_type": "markdown",
   "id": "89c87f86-70c6-4bdb-aaea-a6832e2aa6a9",
   "metadata": {},
   "source": [
    "Load the entity resolution results exported from Senzing:"
   ]
  },
  {
   "cell_type": "code",
   "execution_count": 20,
   "id": "e781b8bf-9c55-4b0d-ac2b-14ab6eec7a0d",
   "metadata": {
    "execution": {
     "iopub.execute_input": "2025-03-20T21:36:07.047160Z",
     "iopub.status.busy": "2025-03-20T21:36:07.046760Z",
     "iopub.status.idle": "2025-03-20T21:36:07.065928Z",
     "shell.execute_reply": "2025-03-20T21:36:07.065266Z",
     "shell.execute_reply.started": "2025-03-20T21:36:07.047137Z"
    }
   },
   "outputs": [
    {
     "data": {
      "text/html": [
       "<div>\n",
       "<style scoped>\n",
       "    .dataframe tbody tr th:only-of-type {\n",
       "        vertical-align: middle;\n",
       "    }\n",
       "\n",
       "    .dataframe tbody tr th {\n",
       "        vertical-align: top;\n",
       "    }\n",
       "\n",
       "    .dataframe thead th {\n",
       "        text-align: right;\n",
       "    }\n",
       "</style>\n",
       "<table border=\"1\" class=\"dataframe\">\n",
       "  <thead>\n",
       "    <tr style=\"text-align: right;\">\n",
       "      <th></th>\n",
       "      <th>id</th>\n",
       "      <th>desc</th>\n",
       "    </tr>\n",
       "  </thead>\n",
       "  <tbody>\n",
       "    <tr>\n",
       "      <th>0</th>\n",
       "      <td>sz_1</td>\n",
       "      <td>Abassin Badshah</td>\n",
       "    </tr>\n",
       "    <tr>\n",
       "      <th>1</th>\n",
       "      <td>sz_2</td>\n",
       "      <td>LMAR (GB) LTD</td>\n",
       "    </tr>\n",
       "    <tr>\n",
       "      <th>2</th>\n",
       "      <td>sz_3</td>\n",
       "      <td>WANDLE HOLDINGS LIMITED</td>\n",
       "    </tr>\n",
       "    <tr>\n",
       "      <th>3</th>\n",
       "      <td>sz_4</td>\n",
       "      <td>POLYUS GOLD INTERNATIONAL LIMITED</td>\n",
       "    </tr>\n",
       "    <tr>\n",
       "      <th>4</th>\n",
       "      <td>sz_5</td>\n",
       "      <td>フィルザ・ケリモヴァ（ハンバラエヴァ）</td>\n",
       "    </tr>\n",
       "  </tbody>\n",
       "</table>\n",
       "</div>"
      ],
      "text/plain": [
       "     id                               desc\n",
       "0  sz_1                    Abassin Badshah\n",
       "1  sz_2                      LMAR (GB) LTD\n",
       "2  sz_3            WANDLE HOLDINGS LIMITED\n",
       "3  sz_4  POLYUS GOLD INTERNATIONAL LIMITED\n",
       "4  sz_5                フィルザ・ケリモヴァ（ハンバラエヴァ）"
      ]
     },
     "execution_count": 20,
     "metadata": {},
     "output_type": "execute_result"
    }
   ],
   "source": [
    "er_export_file: pathlib.Path = pathlib.Path(\"export.json\")\n",
    "ER_ENTITY_PREFIX: str = \"sz_\"\n",
    "ent_rows: typing.List[ dict ] = []\n",
    "rec_rows: typing.List[ dict ] = []\n",
    "rel_rows: typing.List[ dict ] = []\n",
    "\n",
    "with open(er_export_file, \"rb\") as fp:\n",
    "    for line in fp:\n",
    "        dat: dict = json.loads(line)\n",
    "        ent_id: str = ER_ENTITY_PREFIX + str(dat[\"RESOLVED_ENTITY\"][\"ENTITY_ID\"]).strip()\n",
    "        ent_desc: typing.Optional[ str ] = None\n",
    "\n",
    "        # link to resolved data records\n",
    "        for dat_rec in dat[\"RESOLVED_ENTITY\"][\"RECORDS\"]:\n",
    "            rec_id = dat_rec[\"RECORD_ID\"]\n",
    "\n",
    "            rec_rows.append({\n",
    "                \"ent_id\": ent_id,\n",
    "                \"rec_id\": rec_id,\n",
    "                \"why\": dat_rec[\"MATCH_KEY\"],\n",
    "                \"level\": dat_rec[\"MATCH_LEVEL\"],\n",
    "            })\n",
    "\n",
    "            desc: str = dat_rec[\"ENTITY_DESC\"].strip()\n",
    "\n",
    "            if len(desc) > 0:\n",
    "                ent_desc = desc\n",
    "\n",
    "        ent_rows.append({\n",
    "            \"id\": ent_id,\n",
    "            \"desc\": ent_desc,\n",
    "        })\n",
    "\n",
    "        # link to related entities\n",
    "        for rel_rec in dat[\"RELATED_ENTITIES\"]:\n",
    "            rel_id: str = ER_ENTITY_PREFIX + str(rel_rec[\"ENTITY_ID\"]).strip()\n",
    "\n",
    "            rel_rows.append({\n",
    "                \"ent_id\": ent_id,\n",
    "                \"rel_id\": rel_id,\n",
    "                \"why\": rel_rec[\"MATCH_KEY\"],\n",
    "                \"level\": rel_rec[\"MATCH_LEVEL\"],\n",
    "            })\n",
    "\n",
    "df_ent: pd.DataFrame = pd.DataFrame.from_dict(\n",
    "    ent_rows,\n",
    "    orient = \"columns\"\n",
    ")\n",
    "\n",
    "df_ent.head()"
   ]
  },
  {
   "cell_type": "code",
   "execution_count": 21,
   "id": "16ce130e-4b26-4898-be26-c3235f733049",
   "metadata": {
    "execution": {
     "iopub.execute_input": "2025-03-20T21:36:07.762116Z",
     "iopub.status.busy": "2025-03-20T21:36:07.761573Z",
     "iopub.status.idle": "2025-03-20T21:36:07.776244Z",
     "shell.execute_reply": "2025-03-20T21:36:07.775493Z",
     "shell.execute_reply.started": "2025-03-20T21:36:07.762077Z"
    }
   },
   "outputs": [
    {
     "data": {
      "text/html": [
       "<div>\n",
       "<style scoped>\n",
       "    .dataframe tbody tr th:only-of-type {\n",
       "        vertical-align: middle;\n",
       "    }\n",
       "\n",
       "    .dataframe tbody tr th {\n",
       "        vertical-align: top;\n",
       "    }\n",
       "\n",
       "    .dataframe thead th {\n",
       "        text-align: right;\n",
       "    }\n",
       "</style>\n",
       "<table border=\"1\" class=\"dataframe\">\n",
       "  <thead>\n",
       "    <tr style=\"text-align: right;\">\n",
       "      <th></th>\n",
       "      <th>id</th>\n",
       "      <th>desc</th>\n",
       "    </tr>\n",
       "  </thead>\n",
       "  <tbody>\n",
       "    <tr>\n",
       "      <th>count</th>\n",
       "      <td>193</td>\n",
       "      <td>193</td>\n",
       "    </tr>\n",
       "    <tr>\n",
       "      <th>freq</th>\n",
       "      <td>1</td>\n",
       "      <td>2</td>\n",
       "    </tr>\n",
       "    <tr>\n",
       "      <th>unique</th>\n",
       "      <td>193</td>\n",
       "      <td>189</td>\n",
       "    </tr>\n",
       "  </tbody>\n",
       "</table>\n",
       "</div>"
      ],
      "text/plain": [
       "         id desc\n",
       "count   193  193\n",
       "freq      1    2\n",
       "unique  193  189"
      ]
     },
     "execution_count": 21,
     "metadata": {},
     "output_type": "execute_result"
    }
   ],
   "source": [
    "df_ent.describe(include = \"all\").loc[[ \"count\", \"freq\", \"unique\", ]]"
   ]
  },
  {
   "cell_type": "code",
   "execution_count": 22,
   "id": "056f040f-d12f-4d6d-befa-c2fcef4d50c8",
   "metadata": {
    "execution": {
     "iopub.execute_input": "2025-03-20T21:36:57.284940Z",
     "iopub.status.busy": "2025-03-20T21:36:57.284231Z",
     "iopub.status.idle": "2025-03-20T21:36:57.296597Z",
     "shell.execute_reply": "2025-03-20T21:36:57.295917Z",
     "shell.execute_reply.started": "2025-03-20T21:36:57.284893Z"
    }
   },
   "outputs": [
    {
     "data": {
      "text/html": [
       "<div>\n",
       "<style scoped>\n",
       "    .dataframe tbody tr th:only-of-type {\n",
       "        vertical-align: middle;\n",
       "    }\n",
       "\n",
       "    .dataframe tbody tr th {\n",
       "        vertical-align: top;\n",
       "    }\n",
       "\n",
       "    .dataframe thead th {\n",
       "        text-align: right;\n",
       "    }\n",
       "</style>\n",
       "<table border=\"1\" class=\"dataframe\">\n",
       "  <thead>\n",
       "    <tr style=\"text-align: right;\">\n",
       "      <th></th>\n",
       "      <th>ent_id</th>\n",
       "      <th>rec_id</th>\n",
       "      <th>why</th>\n",
       "      <th>level</th>\n",
       "    </tr>\n",
       "  </thead>\n",
       "  <tbody>\n",
       "    <tr>\n",
       "      <th>0</th>\n",
       "      <td>sz_1</td>\n",
       "      <td>NK-25vyVFzt8vdJGgAXMRTwTJ</td>\n",
       "      <td></td>\n",
       "      <td>0</td>\n",
       "    </tr>\n",
       "    <tr>\n",
       "      <th>1</th>\n",
       "      <td>sz_1</td>\n",
       "      <td>17207853441353212969</td>\n",
       "      <td>+NAME+ADDRESS+NATIONALITY</td>\n",
       "      <td>1</td>\n",
       "    </tr>\n",
       "    <tr>\n",
       "      <th>2</th>\n",
       "      <td>sz_1</td>\n",
       "      <td>6747548100436839873</td>\n",
       "      <td>+NAME+DOB+NATIONALITY</td>\n",
       "      <td>1</td>\n",
       "    </tr>\n",
       "    <tr>\n",
       "      <th>3</th>\n",
       "      <td>sz_2</td>\n",
       "      <td>NK-3p3mmVWmjwVtTfKchz4kNE</td>\n",
       "      <td></td>\n",
       "      <td>0</td>\n",
       "    </tr>\n",
       "    <tr>\n",
       "      <th>4</th>\n",
       "      <td>sz_3</td>\n",
       "      <td>NK-auyPsLrBzRoxjCRWgjBvas</td>\n",
       "      <td></td>\n",
       "      <td>0</td>\n",
       "    </tr>\n",
       "  </tbody>\n",
       "</table>\n",
       "</div>"
      ],
      "text/plain": [
       "  ent_id                     rec_id                        why  level\n",
       "0   sz_1  NK-25vyVFzt8vdJGgAXMRTwTJ                                 0\n",
       "1   sz_1       17207853441353212969  +NAME+ADDRESS+NATIONALITY      1\n",
       "2   sz_1        6747548100436839873      +NAME+DOB+NATIONALITY      1\n",
       "3   sz_2  NK-3p3mmVWmjwVtTfKchz4kNE                                 0\n",
       "4   sz_3  NK-auyPsLrBzRoxjCRWgjBvas                                 0"
      ]
     },
     "execution_count": 22,
     "metadata": {},
     "output_type": "execute_result"
    }
   ],
   "source": [
    "df_rec: pd.DataFrame = pd.DataFrame.from_dict(\n",
    "    rec_rows,\n",
    "    orient = \"columns\"\n",
    ")\n",
    "\n",
    "df_rec.head()"
   ]
  },
  {
   "cell_type": "code",
   "execution_count": 23,
   "id": "d3f51559-ada7-4714-abd8-31a16fe15667",
   "metadata": {
    "execution": {
     "iopub.execute_input": "2025-03-20T21:36:58.191303Z",
     "iopub.status.busy": "2025-03-20T21:36:58.190673Z",
     "iopub.status.idle": "2025-03-20T21:36:58.210951Z",
     "shell.execute_reply": "2025-03-20T21:36:58.210356Z",
     "shell.execute_reply.started": "2025-03-20T21:36:58.191259Z"
    }
   },
   "outputs": [
    {
     "data": {
      "text/html": [
       "<div>\n",
       "<style scoped>\n",
       "    .dataframe tbody tr th:only-of-type {\n",
       "        vertical-align: middle;\n",
       "    }\n",
       "\n",
       "    .dataframe tbody tr th {\n",
       "        vertical-align: top;\n",
       "    }\n",
       "\n",
       "    .dataframe thead th {\n",
       "        text-align: right;\n",
       "    }\n",
       "</style>\n",
       "<table border=\"1\" class=\"dataframe\">\n",
       "  <thead>\n",
       "    <tr style=\"text-align: right;\">\n",
       "      <th></th>\n",
       "      <th>ent_id</th>\n",
       "      <th>rec_id</th>\n",
       "      <th>why</th>\n",
       "      <th>level</th>\n",
       "    </tr>\n",
       "  </thead>\n",
       "  <tbody>\n",
       "    <tr>\n",
       "      <th>count</th>\n",
       "      <td>282</td>\n",
       "      <td>282</td>\n",
       "      <td>282</td>\n",
       "      <td>282.0</td>\n",
       "    </tr>\n",
       "    <tr>\n",
       "      <th>freq</th>\n",
       "      <td>4</td>\n",
       "      <td>1</td>\n",
       "      <td>193</td>\n",
       "      <td>NaN</td>\n",
       "    </tr>\n",
       "    <tr>\n",
       "      <th>unique</th>\n",
       "      <td>193</td>\n",
       "      <td>282</td>\n",
       "      <td>18</td>\n",
       "      <td>NaN</td>\n",
       "    </tr>\n",
       "  </tbody>\n",
       "</table>\n",
       "</div>"
      ],
      "text/plain": [
       "       ent_id rec_id  why  level\n",
       "count     282    282  282  282.0\n",
       "freq        4      1  193    NaN\n",
       "unique    193    282   18    NaN"
      ]
     },
     "execution_count": 23,
     "metadata": {},
     "output_type": "execute_result"
    }
   ],
   "source": [
    "df_rec.describe(include = \"all\").loc[[ \"count\", \"freq\", \"unique\", ]]"
   ]
  },
  {
   "cell_type": "code",
   "execution_count": 24,
   "id": "3c0bc249-fe3b-4342-b285-4d726c396e4c",
   "metadata": {
    "execution": {
     "iopub.execute_input": "2025-03-20T21:37:40.389777Z",
     "iopub.status.busy": "2025-03-20T21:37:40.388904Z",
     "iopub.status.idle": "2025-03-20T21:37:40.402197Z",
     "shell.execute_reply": "2025-03-20T21:37:40.401402Z",
     "shell.execute_reply.started": "2025-03-20T21:37:40.389730Z"
    }
   },
   "outputs": [
    {
     "data": {
      "text/html": [
       "<div>\n",
       "<style scoped>\n",
       "    .dataframe tbody tr th:only-of-type {\n",
       "        vertical-align: middle;\n",
       "    }\n",
       "\n",
       "    .dataframe tbody tr th {\n",
       "        vertical-align: top;\n",
       "    }\n",
       "\n",
       "    .dataframe thead th {\n",
       "        text-align: right;\n",
       "    }\n",
       "</style>\n",
       "<table border=\"1\" class=\"dataframe\">\n",
       "  <thead>\n",
       "    <tr style=\"text-align: right;\">\n",
       "      <th></th>\n",
       "      <th>ent_id</th>\n",
       "      <th>rel_id</th>\n",
       "      <th>why</th>\n",
       "      <th>level</th>\n",
       "    </tr>\n",
       "  </thead>\n",
       "  <tbody>\n",
       "    <tr>\n",
       "      <th>0</th>\n",
       "      <td>sz_1</td>\n",
       "      <td>sz_2</td>\n",
       "      <td>+OPEN-SANCTIONS(DIRECTORSHIP:)</td>\n",
       "      <td>11</td>\n",
       "    </tr>\n",
       "    <tr>\n",
       "      <th>1</th>\n",
       "      <td>sz_1</td>\n",
       "      <td>sz_9</td>\n",
       "      <td>+ADDRESS+OOR(:SHAREHOLDING 50% 75%,VOTING_RIGH...</td>\n",
       "      <td>11</td>\n",
       "    </tr>\n",
       "    <tr>\n",
       "      <th>2</th>\n",
       "      <td>sz_1</td>\n",
       "      <td>sz_100075</td>\n",
       "      <td>+ADDRESS+OOR(:APPOINTMENT_OF_BOARD,SHAREHOLDIN...</td>\n",
       "      <td>11</td>\n",
       "    </tr>\n",
       "    <tr>\n",
       "      <th>3</th>\n",
       "      <td>sz_1</td>\n",
       "      <td>sz_100132</td>\n",
       "      <td>+ADDRESS+NATIONALITY</td>\n",
       "      <td>3</td>\n",
       "    </tr>\n",
       "    <tr>\n",
       "      <th>4</th>\n",
       "      <td>sz_2</td>\n",
       "      <td>sz_1</td>\n",
       "      <td>+OPEN-SANCTIONS(:DIRECTORSHIP)</td>\n",
       "      <td>11</td>\n",
       "    </tr>\n",
       "  </tbody>\n",
       "</table>\n",
       "</div>"
      ],
      "text/plain": [
       "  ent_id     rel_id                                                why  level\n",
       "0   sz_1       sz_2                     +OPEN-SANCTIONS(DIRECTORSHIP:)     11\n",
       "1   sz_1       sz_9  +ADDRESS+OOR(:SHAREHOLDING 50% 75%,VOTING_RIGH...     11\n",
       "2   sz_1  sz_100075  +ADDRESS+OOR(:APPOINTMENT_OF_BOARD,SHAREHOLDIN...     11\n",
       "3   sz_1  sz_100132                               +ADDRESS+NATIONALITY      3\n",
       "4   sz_2       sz_1                     +OPEN-SANCTIONS(:DIRECTORSHIP)     11"
      ]
     },
     "execution_count": 24,
     "metadata": {},
     "output_type": "execute_result"
    }
   ],
   "source": [
    "df_rel: pd.DataFrame = pd.DataFrame.from_dict(\n",
    "    rel_rows,\n",
    "    orient = \"columns\"\n",
    ")\n",
    "\n",
    "df_rel.head()"
   ]
  },
  {
   "cell_type": "code",
   "execution_count": 25,
   "id": "f9c628cd-d474-4af8-b958-75522e9f06d8",
   "metadata": {
    "execution": {
     "iopub.execute_input": "2025-03-20T21:37:41.009155Z",
     "iopub.status.busy": "2025-03-20T21:37:41.008585Z",
     "iopub.status.idle": "2025-03-20T21:37:41.024923Z",
     "shell.execute_reply": "2025-03-20T21:37:41.024413Z",
     "shell.execute_reply.started": "2025-03-20T21:37:41.009119Z"
    }
   },
   "outputs": [
    {
     "data": {
      "text/html": [
       "<div>\n",
       "<style scoped>\n",
       "    .dataframe tbody tr th:only-of-type {\n",
       "        vertical-align: middle;\n",
       "    }\n",
       "\n",
       "    .dataframe tbody tr th {\n",
       "        vertical-align: top;\n",
       "    }\n",
       "\n",
       "    .dataframe thead th {\n",
       "        text-align: right;\n",
       "    }\n",
       "</style>\n",
       "<table border=\"1\" class=\"dataframe\">\n",
       "  <thead>\n",
       "    <tr style=\"text-align: right;\">\n",
       "      <th></th>\n",
       "      <th>ent_id</th>\n",
       "      <th>rel_id</th>\n",
       "      <th>why</th>\n",
       "      <th>level</th>\n",
       "    </tr>\n",
       "  </thead>\n",
       "  <tbody>\n",
       "    <tr>\n",
       "      <th>count</th>\n",
       "      <td>732</td>\n",
       "      <td>732</td>\n",
       "      <td>732</td>\n",
       "      <td>732.0</td>\n",
       "    </tr>\n",
       "    <tr>\n",
       "      <th>freq</th>\n",
       "      <td>20</td>\n",
       "      <td>20</td>\n",
       "      <td>95</td>\n",
       "      <td>NaN</td>\n",
       "    </tr>\n",
       "    <tr>\n",
       "      <th>unique</th>\n",
       "      <td>188</td>\n",
       "      <td>188</td>\n",
       "      <td>140</td>\n",
       "      <td>NaN</td>\n",
       "    </tr>\n",
       "  </tbody>\n",
       "</table>\n",
       "</div>"
      ],
      "text/plain": [
       "       ent_id rel_id  why  level\n",
       "count     732    732  732  732.0\n",
       "freq       20     20   95    NaN\n",
       "unique    188    188  140    NaN"
      ]
     },
     "execution_count": 25,
     "metadata": {},
     "output_type": "execute_result"
    }
   ],
   "source": [
    "df_rel.describe(include = \"all\").loc[[ \"count\", \"freq\", \"unique\", ]]"
   ]
  },
  {
   "cell_type": "markdown",
   "id": "f928838f-5ef0-48f6-a776-57554e97cf1e",
   "metadata": {},
   "source": [
    "## create graph tables"
   ]
  },
  {
   "cell_type": "markdown",
   "id": "ede256f8-f4a0-4c38-9e29-a85eecc9d317",
   "metadata": {},
   "source": [
    "Create an empty on-disk graph database and connect to it:"
   ]
  },
  {
   "cell_type": "code",
   "execution_count": 35,
   "id": "d55cf03d-387e-46d8-a4a6-ae57c581c71e",
   "metadata": {
    "execution": {
     "iopub.execute_input": "2025-03-20T21:48:15.283030Z",
     "iopub.status.busy": "2025-03-20T21:48:15.282397Z",
     "iopub.status.idle": "2025-03-20T21:48:15.332035Z",
     "shell.execute_reply": "2025-03-20T21:48:15.331493Z",
     "shell.execute_reply.started": "2025-03-20T21:48:15.282988Z"
    }
   },
   "outputs": [],
   "source": [
    "db: kuzu.Database = kuzu.Database(\"./db\")\n",
    "conn: kuzu.Connection = kuzu.Connection(db)"
   ]
  },
  {
   "cell_type": "markdown",
   "id": "a9697333-c774-4a9c-905b-687c97f093ec",
   "metadata": {},
   "source": [
    "Define the schema for node tables"
   ]
  },
  {
   "cell_type": "code",
   "execution_count": 38,
   "id": "a0863754-cc15-4d2c-afae-846939d9b435",
   "metadata": {
    "execution": {
     "iopub.execute_input": "2025-03-20T22:54:03.487186Z",
     "iopub.status.busy": "2025-03-20T22:54:03.486752Z",
     "iopub.status.idle": "2025-03-20T22:54:03.505186Z",
     "shell.execute_reply": "2025-03-20T22:54:03.504522Z",
     "shell.execute_reply.started": "2025-03-20T22:54:03.487159Z"
    }
   },
   "outputs": [
    {
     "data": {
      "text/plain": [
       "<kuzu.query_result.QueryResult at 0x12d50acf0>"
      ]
     },
     "execution_count": 38,
     "metadata": {},
     "output_type": "execute_result"
    }
   ],
   "source": [
    "conn.execute(\"DROP TABLE IF EXISTS Related\")\n",
    "conn.execute(\"DROP TABLE IF EXISTS Matched\")\n",
    "conn.execute(\"DROP TABLE IF EXISTS Entity\")\n",
    "conn.execute(\"DROP TABLE IF EXISTS Role\")\n",
    "conn.execute(\"DROP TABLE IF EXISTS Risk\")\n",
    "conn.execute(\"DROP TABLE IF EXISTS OpenOwnership\")\n",
    "conn.execute(\"DROP TABLE IF EXISTS OpenSanctions\")\n",
    "\n",
    "conn.execute(\"CREATE NODE TABLE OpenSanctions(id STRING, kind STRING, name STRING, addr STRING, url STRING, PRIMARY KEY (id))\")\n",
    "conn.execute(\"CREATE NODE TABLE OpenOwnership(id STRING, kind STRING, name STRING, addr STRING, country STRING, PRIMARY KEY (id))\")\n",
    "conn.execute(\"CREATE NODE TABLE Risk(uid SERIAL, id STRING, topic STRING, PRIMARY KEY(uid))\")\n",
    "conn.execute(\"CREATE REL TABLE Role(FROM OpenOwnership TO OpenOwnership, role STRING, date DATE)\")\n",
    "conn.execute(\"CREATE NODE TABLE Entity(id STRING, descript STRING, PRIMARY KEY(id))\")\n",
    "conn.execute(\"CREATE REL TABLE Matched(FROM Entity TO OpenSanctions, why STRING, level INT8)\")\n",
    "conn.execute(\"CREATE REL TABLE Related(FROM Entity TO Entity, why STRING, level INT8)\")"
   ]
  },
  {
   "cell_type": "code",
   "execution_count": 39,
   "id": "ee330aa1-c5fb-4042-bd60-2fb45b42e87a",
   "metadata": {
    "execution": {
     "iopub.execute_input": "2025-03-20T22:54:04.028593Z",
     "iopub.status.busy": "2025-03-20T22:54:04.028149Z",
     "iopub.status.idle": "2025-03-20T22:54:04.154506Z",
     "shell.execute_reply": "2025-03-20T22:54:04.154146Z",
     "shell.execute_reply.started": "2025-03-20T22:54:04.028566Z"
    }
   },
   "outputs": [
    {
     "data": {
      "text/plain": [
       "<kuzu.query_result.QueryResult at 0x12d50adb0>"
      ]
     },
     "execution_count": 39,
     "metadata": {},
     "output_type": "execute_result"
    }
   ],
   "source": [
    "conn.execute(\"COPY OpenSanctions FROM df_os\")\n",
    "conn.execute(\"COPY OpenOwnership FROM df_oa\")\n",
    "conn.execute(\"COPY Risk FROM df_risk\")\n",
    "conn.execute(\"COPY Role FROM df_role\")\n",
    "conn.execute(\"COPY Entity FROM df_ent\")\n",
    "#conn.execute(\"COPY Entity FROM df_rec\")\n",
    "#conn.execute(\"COPY Entity FROM df_rel\")"
   ]
  }
 ],
 "metadata": {
  "kernelspec": {
   "display_name": "Python 3 (ipykernel)",
   "language": "python",
   "name": "python3"
  },
  "language_info": {
   "codemirror_mode": {
    "name": "ipython",
    "version": 3
   },
   "file_extension": ".py",
   "mimetype": "text/x-python",
   "name": "python",
   "nbconvert_exporter": "python",
   "pygments_lexer": "ipython3",
   "version": "3.13.2"
  }
 },
 "nbformat": 4,
 "nbformat_minor": 5
}
