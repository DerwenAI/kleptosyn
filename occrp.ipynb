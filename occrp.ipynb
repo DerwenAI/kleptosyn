{
 "cells": [
  {
   "cell_type": "markdown",
   "id": "75922827-b8fa-4cae-9378-47976e141c7a",
   "metadata": {},
   "source": [
    "# Analysis of \"Azerbaijani Laundromat\" transaction data"
   ]
  },
  {
   "cell_type": "markdown",
   "id": "f70677c5-06bf-441d-b659-b02e10efdea8",
   "metadata": {},
   "source": [
    "## set up environment"
   ]
  },
  {
   "cell_type": "markdown",
   "id": "cd71e9de-eb63-41d9-b90e-1d8f745d2b93",
   "metadata": {},
   "source": [
    "Load the library dependencies"
   ]
  },
  {
   "cell_type": "code",
   "execution_count": 1,
   "id": "4272d417-ded4-4a28-9e26-acecbd7fdc9e",
   "metadata": {
    "execution": {
     "iopub.execute_input": "2025-06-19T19:48:39.163688Z",
     "iopub.status.busy": "2025-06-19T19:48:39.163261Z",
     "iopub.status.idle": "2025-06-19T19:48:40.006847Z",
     "shell.execute_reply": "2025-06-19T19:48:40.006556Z",
     "shell.execute_reply.started": "2025-06-19T19:48:39.163648Z"
    }
   },
   "outputs": [],
   "source": [
    "from collections import defaultdict\n",
    "from datetime import datetime, timedelta\n",
    "import itertools\n",
    "import json\n",
    "import pathlib\n",
    "import statistics\n",
    "import typing\n",
    "\n",
    "from icecream import ic\n",
    "from matplotlib.ticker import FuncFormatter\n",
    "import matplotlib.pyplot as plt\n",
    "import networkx as nx\n",
    "import pandas as pd\n",
    "import pyvis\n",
    "import scipy\n",
    "import seaborn as sns\n",
    "import watermark"
   ]
  },
  {
   "cell_type": "markdown",
   "id": "b212ce85-06f8-4f54-a21a-818090ccadf3",
   "metadata": {},
   "source": [
    "Show a watermark of the OS, hardware, language environment, and dependent library versions."
   ]
  },
  {
   "cell_type": "code",
   "execution_count": 2,
   "id": "b0dbe92a-ed37-4a39-98bb-ce5c4ee07bc0",
   "metadata": {
    "execution": {
     "iopub.execute_input": "2025-06-19T19:48:41.352466Z",
     "iopub.status.busy": "2025-06-19T19:48:41.351874Z",
     "iopub.status.idle": "2025-06-19T19:48:41.381852Z",
     "shell.execute_reply": "2025-06-19T19:48:41.381083Z",
     "shell.execute_reply.started": "2025-06-19T19:48:41.352436Z"
    }
   },
   "outputs": [
    {
     "name": "stdout",
     "output_type": "stream",
     "text": [
      "Last updated: 2025-06-19T12:48:41.355133-07:00\n",
      "\n",
      "Python implementation: CPython\n",
      "Python version       : 3.11.9\n",
      "IPython version      : 8.26.0\n",
      "\n",
      "Compiler    : Clang 13.0.0 (clang-1300.0.29.30)\n",
      "OS          : Darwin\n",
      "Release     : 24.5.0\n",
      "Machine     : arm64\n",
      "Processor   : arm\n",
      "CPU cores   : 14\n",
      "Architecture: 64bit\n",
      "\n",
      "watermark : 2.4.3\n",
      "seaborn   : 0.13.2\n",
      "pandas    : 2.2.2\n",
      "pyvis     : 0.3.2\n",
      "networkx  : 3.3\n",
      "matplotlib: 3.9.1\n",
      "scipy     : 1.14.0\n",
      "json      : 2.0.9\n",
      "\n"
     ]
    }
   ],
   "source": [
    "%load_ext watermark\n",
    "%watermark\n",
    "%watermark --iversions"
   ]
  },
  {
   "cell_type": "markdown",
   "id": "2447b630-0913-4791-b2aa-3f8828433fc7",
   "metadata": {},
   "source": [
    "Configure `pandas`"
   ]
  },
  {
   "cell_type": "code",
   "execution_count": 3,
   "id": "afe2ea5f-cba2-4588-a9ad-6699d02cfe87",
   "metadata": {
    "execution": {
     "iopub.execute_input": "2025-06-19T19:48:42.485680Z",
     "iopub.status.busy": "2025-06-19T19:48:42.485239Z",
     "iopub.status.idle": "2025-06-19T19:48:42.489277Z",
     "shell.execute_reply": "2025-06-19T19:48:42.488733Z",
     "shell.execute_reply.started": "2025-06-19T19:48:42.485647Z"
    }
   },
   "outputs": [],
   "source": [
    "pd.set_option(\"display.max_rows\", None)"
   ]
  },
  {
   "cell_type": "markdown",
   "id": "acf7d589-2af6-4fc5-a2a9-165850db7677",
   "metadata": {},
   "source": [
    "## load the money transfer data"
   ]
  },
  {
   "cell_type": "markdown",
   "id": "a479bf3c-6b43-4796-9f65-0e6211920189",
   "metadata": {},
   "source": [
    "Load the OCCRP data for the \"Azerbaijani Laundromat\" leaked bank transactions <https://github.com/cj2001/senzing_occrp_mapping_demo/blob/main/occrp_17k.csv>"
   ]
  },
  {
   "cell_type": "code",
   "execution_count": 4,
   "id": "92419809-e94f-46cf-9154-0d84c3ac809b",
   "metadata": {
    "execution": {
     "iopub.execute_input": "2025-06-19T19:48:44.389120Z",
     "iopub.status.busy": "2025-06-19T19:48:44.388860Z",
     "iopub.status.idle": "2025-06-19T19:48:44.391739Z",
     "shell.execute_reply": "2025-06-19T19:48:44.391307Z",
     "shell.execute_reply.started": "2025-06-19T19:48:44.389104Z"
    }
   },
   "outputs": [],
   "source": [
    "data_path: pathlib.Path = pathlib.Path(\"data\")"
   ]
  },
  {
   "cell_type": "code",
   "execution_count": 5,
   "id": "164cfe7e-a6e9-49e9-8b02-248cd288c1d8",
   "metadata": {
    "execution": {
     "iopub.execute_input": "2025-06-19T19:48:45.207121Z",
     "iopub.status.busy": "2025-06-19T19:48:45.206489Z",
     "iopub.status.idle": "2025-06-19T19:48:45.294896Z",
     "shell.execute_reply": "2025-06-19T19:48:45.294456Z",
     "shell.execute_reply.started": "2025-06-19T19:48:45.207080Z"
    }
   },
   "outputs": [],
   "source": [
    "occrp_file: pathlib.Path = data_path / \"occrp_17k.csv\"\n",
    "df_orig: pd.DataFrame = pd.read_csv(occrp_file)"
   ]
  },
  {
   "cell_type": "code",
   "execution_count": 6,
   "id": "5474d93d-e6b3-4050-9069-30e5852c8702",
   "metadata": {
    "execution": {
     "iopub.execute_input": "2025-06-19T19:48:47.104731Z",
     "iopub.status.busy": "2025-06-19T19:48:47.104356Z",
     "iopub.status.idle": "2025-06-19T19:48:47.120961Z",
     "shell.execute_reply": "2025-06-19T19:48:47.120500Z",
     "shell.execute_reply.started": "2025-06-19T19:48:47.104713Z"
    }
   },
   "outputs": [
    {
     "data": {
      "text/html": [
       "<div>\n",
       "<style scoped>\n",
       "    .dataframe tbody tr th:only-of-type {\n",
       "        vertical-align: middle;\n",
       "    }\n",
       "\n",
       "    .dataframe tbody tr th {\n",
       "        vertical-align: top;\n",
       "    }\n",
       "\n",
       "    .dataframe thead th {\n",
       "        text-align: right;\n",
       "    }\n",
       "</style>\n",
       "<table border=\"1\" class=\"dataframe\">\n",
       "  <thead>\n",
       "    <tr style=\"text-align: right;\">\n",
       "      <th></th>\n",
       "      <th>payer_name</th>\n",
       "      <th>payer_jurisdiction</th>\n",
       "      <th>payer_account</th>\n",
       "      <th>source_file</th>\n",
       "      <th>amount_orig</th>\n",
       "      <th>id</th>\n",
       "      <th>beneficiary_type</th>\n",
       "      <th>beneficiary_core</th>\n",
       "      <th>amount_orig_currency</th>\n",
       "      <th>beneficiary_name</th>\n",
       "      <th>...</th>\n",
       "      <th>beneficiary_name_norm</th>\n",
       "      <th>payer_core</th>\n",
       "      <th>beneficiary_account</th>\n",
       "      <th>purpose</th>\n",
       "      <th>date</th>\n",
       "      <th>amount_usd</th>\n",
       "      <th>amount_eur</th>\n",
       "      <th>payer_type</th>\n",
       "      <th>payer_name_norm</th>\n",
       "      <th>payer_bank_country</th>\n",
       "    </tr>\n",
       "  </thead>\n",
       "  <tbody>\n",
       "    <tr>\n",
       "      <th>0</th>\n",
       "      <td>AZARBAYCAN METANOL KOMPANI MMC</td>\n",
       "      <td>AZ</td>\n",
       "      <td>33817018409333311204</td>\n",
       "      <td>pdf/LCM ALLIANCE Account statement 30.06.12-31...</td>\n",
       "      <td>535470.00</td>\n",
       "      <td>6049</td>\n",
       "      <td>Company</td>\n",
       "      <td>True</td>\n",
       "      <td>USD</td>\n",
       "      <td>LCM ALLIANCE LLP</td>\n",
       "      <td>...</td>\n",
       "      <td>LCM ALLIANCE LLP</td>\n",
       "      <td>False</td>\n",
       "      <td>EE27 3300 3335 0561 0002</td>\n",
       "      <td>1206295100052180 OCT4121800021 ADVANCE PAYM FO...</td>\n",
       "      <td>2012-06-30</td>\n",
       "      <td>535470</td>\n",
       "      <td>$431,762.31</td>\n",
       "      <td>Company</td>\n",
       "      <td>AZARBAYCAN METANOL KOMPANI MMC</td>\n",
       "      <td>33</td>\n",
       "    </tr>\n",
       "    <tr>\n",
       "      <th>1</th>\n",
       "      <td>LCM ALLIANCE LLP</td>\n",
       "      <td>GB</td>\n",
       "      <td>EE27 3300 3335 0561 0002</td>\n",
       "      <td>pdf/LCM ALLIANCE Account statement 30.06.12-31...</td>\n",
       "      <td>-535000.00</td>\n",
       "      <td>6050</td>\n",
       "      <td>Company</td>\n",
       "      <td>False</td>\n",
       "      <td>USD</td>\n",
       "      <td>MOBILA LLP</td>\n",
       "      <td>...</td>\n",
       "      <td>MOBILA LLP</td>\n",
       "      <td>True</td>\n",
       "      <td>333504500003</td>\n",
       "      <td>1207035026699176 INVOICE.No 6215 DD 25.05.2012</td>\n",
       "      <td>2012-07-03</td>\n",
       "      <td>535000</td>\n",
       "      <td>$423,688.44</td>\n",
       "      <td>Company</td>\n",
       "      <td>LCM ALLIANCE LLP</td>\n",
       "      <td>EE</td>\n",
       "    </tr>\n",
       "    <tr>\n",
       "      <th>2</th>\n",
       "      <td>SKN ELECTRICAL SERVICES LIMITEDACCO</td>\n",
       "      <td>GB</td>\n",
       "      <td>20100374548222</td>\n",
       "      <td>pdf/METASTAR Account statement 30.06.12-31.12....</td>\n",
       "      <td>90535.19</td>\n",
       "      <td>10623</td>\n",
       "      <td>Company</td>\n",
       "      <td>True</td>\n",
       "      <td>USD</td>\n",
       "      <td>METASTAR INVEST LLP</td>\n",
       "      <td>...</td>\n",
       "      <td>METASTAR INVEST LLP</td>\n",
       "      <td>False</td>\n",
       "      <td>EE77 3300 3334 8704 0004</td>\n",
       "      <td>1207065103089249   /FEE/USD4,81</td>\n",
       "      <td>2012-07-06</td>\n",
       "      <td>90536</td>\n",
       "      <td>$71,698.53</td>\n",
       "      <td>Company</td>\n",
       "      <td>SKN ELECTRICAL SERVICES LIMITED</td>\n",
       "      <td>20</td>\n",
       "    </tr>\n",
       "    <tr>\n",
       "      <th>3</th>\n",
       "      <td>METASTAR INVEST LLP</td>\n",
       "      <td>GB</td>\n",
       "      <td>EE77 3300 3334 8704 0004</td>\n",
       "      <td>pdf/METASTAR Account statement 30.06.12-31.12....</td>\n",
       "      <td>-90520.00</td>\n",
       "      <td>15589</td>\n",
       "      <td>Company</td>\n",
       "      <td>False</td>\n",
       "      <td>USD</td>\n",
       "      <td>INMAXO CAPITAL CORP</td>\n",
       "      <td>...</td>\n",
       "      <td>INMAXO CAPITAL CORP.</td>\n",
       "      <td>True</td>\n",
       "      <td>333455870002</td>\n",
       "      <td>1207095022358525 DOGOVOR ZAYMA</td>\n",
       "      <td>2012-07-09</td>\n",
       "      <td>90520</td>\n",
       "      <td>$71,686.50</td>\n",
       "      <td>Company</td>\n",
       "      <td>METASTAR INVEST LLP</td>\n",
       "      <td>EE</td>\n",
       "    </tr>\n",
       "    <tr>\n",
       "      <th>4</th>\n",
       "      <td>METASTAR INVEST LLP</td>\n",
       "      <td>GB</td>\n",
       "      <td>EE77 3300 3334 8704 0004</td>\n",
       "      <td>pdf/METASTAR Account statement 30.06.12-31.12....</td>\n",
       "      <td>-60.00</td>\n",
       "      <td>10624</td>\n",
       "      <td>Company</td>\n",
       "      <td>False</td>\n",
       "      <td>USD</td>\n",
       "      <td>INMAXO CAPITAL CORP</td>\n",
       "      <td>...</td>\n",
       "      <td>INMAXO CAPITAL CORP.</td>\n",
       "      <td>True</td>\n",
       "      <td>333455870002</td>\n",
       "      <td>1207135024578077 DOGOVOR ZAYMA</td>\n",
       "      <td>2012-07-13</td>\n",
       "      <td>60</td>\n",
       "      <td>$47.52</td>\n",
       "      <td>Company</td>\n",
       "      <td>METASTAR INVEST LLP</td>\n",
       "      <td>EE</td>\n",
       "    </tr>\n",
       "  </tbody>\n",
       "</table>\n",
       "<p>5 rows × 23 columns</p>\n",
       "</div>"
      ],
      "text/plain": [
       "                            payer_name payer_jurisdiction  \\\n",
       "0       AZARBAYCAN METANOL KOMPANI MMC                 AZ   \n",
       "1                     LCM ALLIANCE LLP                 GB   \n",
       "2  SKN ELECTRICAL SERVICES LIMITEDACCO                 GB   \n",
       "3                  METASTAR INVEST LLP                 GB   \n",
       "4                  METASTAR INVEST LLP                 GB   \n",
       "\n",
       "              payer_account  \\\n",
       "0      33817018409333311204   \n",
       "1  EE27 3300 3335 0561 0002   \n",
       "2            20100374548222   \n",
       "3  EE77 3300 3334 8704 0004   \n",
       "4  EE77 3300 3334 8704 0004   \n",
       "\n",
       "                                         source_file  amount_orig     id  \\\n",
       "0  pdf/LCM ALLIANCE Account statement 30.06.12-31...    535470.00   6049   \n",
       "1  pdf/LCM ALLIANCE Account statement 30.06.12-31...   -535000.00   6050   \n",
       "2  pdf/METASTAR Account statement 30.06.12-31.12....     90535.19  10623   \n",
       "3  pdf/METASTAR Account statement 30.06.12-31.12....    -90520.00  15589   \n",
       "4  pdf/METASTAR Account statement 30.06.12-31.12....       -60.00  10624   \n",
       "\n",
       "  beneficiary_type  beneficiary_core amount_orig_currency  \\\n",
       "0          Company              True                  USD   \n",
       "1          Company             False                  USD   \n",
       "2          Company              True                  USD   \n",
       "3          Company             False                  USD   \n",
       "4          Company             False                  USD   \n",
       "\n",
       "      beneficiary_name  ... beneficiary_name_norm payer_core  \\\n",
       "0     LCM ALLIANCE LLP  ...      LCM ALLIANCE LLP      False   \n",
       "1           MOBILA LLP  ...            MOBILA LLP       True   \n",
       "2  METASTAR INVEST LLP  ...   METASTAR INVEST LLP      False   \n",
       "3  INMAXO CAPITAL CORP  ...  INMAXO CAPITAL CORP.       True   \n",
       "4  INMAXO CAPITAL CORP  ...  INMAXO CAPITAL CORP.       True   \n",
       "\n",
       "        beneficiary_account  \\\n",
       "0  EE27 3300 3335 0561 0002   \n",
       "1              333504500003   \n",
       "2  EE77 3300 3334 8704 0004   \n",
       "3              333455870002   \n",
       "4              333455870002   \n",
       "\n",
       "                                             purpose        date amount_usd  \\\n",
       "0  1206295100052180 OCT4121800021 ADVANCE PAYM FO...  2012-06-30     535470   \n",
       "1     1207035026699176 INVOICE.No 6215 DD 25.05.2012  2012-07-03     535000   \n",
       "2                    1207065103089249   /FEE/USD4,81  2012-07-06      90536   \n",
       "3                     1207095022358525 DOGOVOR ZAYMA  2012-07-09      90520   \n",
       "4                     1207135024578077 DOGOVOR ZAYMA  2012-07-13         60   \n",
       "\n",
       "    amount_eur payer_type                  payer_name_norm payer_bank_country  \n",
       "0  $431,762.31    Company   AZARBAYCAN METANOL KOMPANI MMC                 33  \n",
       "1  $423,688.44    Company                 LCM ALLIANCE LLP                 EE  \n",
       "2   $71,698.53    Company  SKN ELECTRICAL SERVICES LIMITED                 20  \n",
       "3   $71,686.50    Company              METASTAR INVEST LLP                 EE  \n",
       "4       $47.52    Company              METASTAR INVEST LLP                 EE  \n",
       "\n",
       "[5 rows x 23 columns]"
      ]
     },
     "execution_count": 6,
     "metadata": {},
     "output_type": "execute_result"
    }
   ],
   "source": [
    "df_orig.head()"
   ]
  },
  {
   "cell_type": "code",
   "execution_count": 7,
   "id": "816d33f3-0a9d-4d89-923d-e0c2f2360d45",
   "metadata": {
    "execution": {
     "iopub.execute_input": "2025-06-19T19:48:48.093420Z",
     "iopub.status.busy": "2025-06-19T19:48:48.093109Z",
     "iopub.status.idle": "2025-06-19T19:48:48.097289Z",
     "shell.execute_reply": "2025-06-19T19:48:48.096855Z",
     "shell.execute_reply.started": "2025-06-19T19:48:48.093399Z"
    }
   },
   "outputs": [
    {
     "data": {
      "text/plain": [
       "Index(['payer_name', 'payer_jurisdiction', 'payer_account', 'source_file',\n",
       "       'amount_orig', 'id', 'beneficiary_type', 'beneficiary_core',\n",
       "       'amount_orig_currency', 'beneficiary_name', 'beneficiary_jurisdiction',\n",
       "       'investigation', 'beneficiary_bank_country', 'beneficiary_name_norm',\n",
       "       'payer_core', 'beneficiary_account', 'purpose', 'date', 'amount_usd',\n",
       "       'amount_eur', 'payer_type', 'payer_name_norm', 'payer_bank_country'],\n",
       "      dtype='object')"
      ]
     },
     "execution_count": 7,
     "metadata": {},
     "output_type": "execute_result"
    }
   ],
   "source": [
    "df_orig.columns"
   ]
  },
  {
   "cell_type": "markdown",
   "id": "4210a479-1a33-4416-a734-248edf592ac0",
   "metadata": {},
   "source": [
    "reduce the dataframe to just the slice needed for this analysis"
   ]
  },
  {
   "cell_type": "code",
   "execution_count": 8,
   "id": "364b82ce-b57b-4a6b-9501-eff3ebae3c85",
   "metadata": {
    "execution": {
     "iopub.execute_input": "2025-06-19T19:48:49.660372Z",
     "iopub.status.busy": "2025-06-19T19:48:49.659918Z",
     "iopub.status.idle": "2025-06-19T19:48:49.689355Z",
     "shell.execute_reply": "2025-06-19T19:48:49.688728Z",
     "shell.execute_reply.started": "2025-06-19T19:48:49.660347Z"
    }
   },
   "outputs": [
    {
     "data": {
      "text/html": [
       "<div>\n",
       "<style scoped>\n",
       "    .dataframe tbody tr th:only-of-type {\n",
       "        vertical-align: middle;\n",
       "    }\n",
       "\n",
       "    .dataframe tbody tr th {\n",
       "        vertical-align: top;\n",
       "    }\n",
       "\n",
       "    .dataframe thead th {\n",
       "        text-align: right;\n",
       "    }\n",
       "</style>\n",
       "<table border=\"1\" class=\"dataframe\">\n",
       "  <thead>\n",
       "    <tr style=\"text-align: right;\">\n",
       "      <th></th>\n",
       "      <th>date</th>\n",
       "      <th>amount_orig</th>\n",
       "      <th>payer_name</th>\n",
       "      <th>beneficiary_name</th>\n",
       "      <th>purpose</th>\n",
       "    </tr>\n",
       "  </thead>\n",
       "  <tbody>\n",
       "    <tr>\n",
       "      <th>0</th>\n",
       "      <td>2012-06-30</td>\n",
       "      <td>535470.00</td>\n",
       "      <td>AZARBAYCAN METANOL KOMPANI MMC</td>\n",
       "      <td>LCM ALLIANCE LLP</td>\n",
       "      <td>1206295100052180 OCT4121800021 ADVANCE PAYM FO...</td>\n",
       "    </tr>\n",
       "    <tr>\n",
       "      <th>2</th>\n",
       "      <td>2012-07-06</td>\n",
       "      <td>90535.19</td>\n",
       "      <td>SKN ELECTRICAL SERVICES LIMITEDACCO</td>\n",
       "      <td>METASTAR INVEST LLP</td>\n",
       "      <td>1207065103089249   /FEE/USD4,81</td>\n",
       "    </tr>\n",
       "    <tr>\n",
       "      <th>5</th>\n",
       "      <td>2012-07-13</td>\n",
       "      <td>189352.15</td>\n",
       "      <td>INMAXO CAPITAL CORP.</td>\n",
       "      <td>METASTAR INVEST LLP</td>\n",
       "      <td>CONTRACT N 001 DD 24.12.2009</td>\n",
       "    </tr>\n",
       "    <tr>\n",
       "      <th>6</th>\n",
       "      <td>2012-07-13</td>\n",
       "      <td>225850.00</td>\n",
       "      <td>INMAXO CAPITAL CORP.</td>\n",
       "      <td>METASTAR INVEST LLP</td>\n",
       "      <td>1207135026233261 CONTRACT N 001 DD 24.12.2009</td>\n",
       "    </tr>\n",
       "    <tr>\n",
       "      <th>21</th>\n",
       "      <td>2012-07-16</td>\n",
       "      <td>150000.00</td>\n",
       "      <td>MOBILA LLP</td>\n",
       "      <td>METASTAR INVEST LLP</td>\n",
       "      <td>1207165026198353 INVOICE.No 69 DD 13.07.2012</td>\n",
       "    </tr>\n",
       "  </tbody>\n",
       "</table>\n",
       "</div>"
      ],
      "text/plain": [
       "         date  amount_orig                           payer_name  \\\n",
       "0  2012-06-30    535470.00       AZARBAYCAN METANOL KOMPANI MMC   \n",
       "2  2012-07-06     90535.19  SKN ELECTRICAL SERVICES LIMITEDACCO   \n",
       "5  2012-07-13    189352.15                 INMAXO CAPITAL CORP.   \n",
       "6  2012-07-13    225850.00                 INMAXO CAPITAL CORP.   \n",
       "21 2012-07-16    150000.00                           MOBILA LLP   \n",
       "\n",
       "       beneficiary_name                                            purpose  \n",
       "0      LCM ALLIANCE LLP  1206295100052180 OCT4121800021 ADVANCE PAYM FO...  \n",
       "2   METASTAR INVEST LLP                    1207065103089249   /FEE/USD4,81  \n",
       "5   METASTAR INVEST LLP                       CONTRACT N 001 DD 24.12.2009  \n",
       "6   METASTAR INVEST LLP      1207135026233261 CONTRACT N 001 DD 24.12.2009  \n",
       "21  METASTAR INVEST LLP       1207165026198353 INVOICE.No 69 DD 13.07.2012  "
      ]
     },
     "execution_count": 8,
     "metadata": {},
     "output_type": "execute_result"
    }
   ],
   "source": [
    "cols_keep: typing.List[ str ] = [\n",
    "    \"date\",\n",
    "    \"amount_orig\",\n",
    "    \"payer_name\",\n",
    "    \"beneficiary_name\",\n",
    "    \"purpose\",\n",
    "    ]\n",
    "\n",
    "diff: typing.Set[ str ] = set(df_orig.columns) - set(cols_keep)\n",
    "    \n",
    "df: pd.DataFrame = df_orig.drop(\n",
    "    diff,\n",
    "    axis = 1,\n",
    "    inplace = False,\n",
    ").sort_values(by = \"date\").reindex(columns = cols_keep)\n",
    "\n",
    "df = df[df[\"amount_orig\"] >= 0]\n",
    "df.date = pd.to_datetime(df.date)\n",
    "\n",
    "df.head()"
   ]
  },
  {
   "cell_type": "code",
   "execution_count": 9,
   "id": "f3af5540-a8f1-4143-8891-451e387d7b4f",
   "metadata": {
    "execution": {
     "iopub.execute_input": "2025-06-19T19:48:50.179277Z",
     "iopub.status.busy": "2025-06-19T19:48:50.178638Z",
     "iopub.status.idle": "2025-06-19T19:48:50.211689Z",
     "shell.execute_reply": "2025-06-19T19:48:50.211236Z",
     "shell.execute_reply.started": "2025-06-19T19:48:50.179236Z"
    }
   },
   "outputs": [],
   "source": [
    "azeri_file: pathlib.Path = data_path / \"azeri.csv\"\n",
    "df.to_csv(azeri_file, sep = \"\\t\", encoding = \"utf-8\")"
   ]
  },
  {
   "cell_type": "markdown",
   "id": "285e8463-d41c-4896-85c1-be36f1edf995",
   "metadata": {},
   "source": [
    "## descriptive statistics"
   ]
  },
  {
   "cell_type": "code",
   "execution_count": 10,
   "id": "ba0e121a-e0e2-47d2-bf68-cb5856d7149d",
   "metadata": {
    "execution": {
     "iopub.execute_input": "2025-06-19T19:48:52.670743Z",
     "iopub.status.busy": "2025-06-19T19:48:52.670257Z",
     "iopub.status.idle": "2025-06-19T19:48:52.687570Z",
     "shell.execute_reply": "2025-06-19T19:48:52.687060Z",
     "shell.execute_reply.started": "2025-06-19T19:48:52.670722Z"
    }
   },
   "outputs": [
    {
     "data": {
      "text/html": [
       "<div>\n",
       "<style scoped>\n",
       "    .dataframe tbody tr th:only-of-type {\n",
       "        vertical-align: middle;\n",
       "    }\n",
       "\n",
       "    .dataframe tbody tr th {\n",
       "        vertical-align: top;\n",
       "    }\n",
       "\n",
       "    .dataframe thead th {\n",
       "        text-align: right;\n",
       "    }\n",
       "</style>\n",
       "<table border=\"1\" class=\"dataframe\">\n",
       "  <thead>\n",
       "    <tr style=\"text-align: right;\">\n",
       "      <th></th>\n",
       "      <th>date</th>\n",
       "      <th>amount_orig</th>\n",
       "      <th>payer_name</th>\n",
       "      <th>beneficiary_name</th>\n",
       "      <th>purpose</th>\n",
       "    </tr>\n",
       "  </thead>\n",
       "  <tbody>\n",
       "    <tr>\n",
       "      <th>count</th>\n",
       "      <td>4069</td>\n",
       "      <td>4.069000e+03</td>\n",
       "      <td>4069</td>\n",
       "      <td>4069</td>\n",
       "      <td>4069</td>\n",
       "    </tr>\n",
       "    <tr>\n",
       "      <th>mean</th>\n",
       "      <td>2013-06-24 13:09:11.191939072</td>\n",
       "      <td>7.512028e+05</td>\n",
       "      <td>NaN</td>\n",
       "      <td>NaN</td>\n",
       "      <td>NaN</td>\n",
       "    </tr>\n",
       "    <tr>\n",
       "      <th>min</th>\n",
       "      <td>2012-06-30 00:00:00</td>\n",
       "      <td>6.600000e-01</td>\n",
       "      <td>NaN</td>\n",
       "      <td>NaN</td>\n",
       "      <td>NaN</td>\n",
       "    </tr>\n",
       "    <tr>\n",
       "      <th>max</th>\n",
       "      <td>2014-12-31 00:00:00</td>\n",
       "      <td>2.055997e+07</td>\n",
       "      <td>NaN</td>\n",
       "      <td>NaN</td>\n",
       "      <td>NaN</td>\n",
       "    </tr>\n",
       "    <tr>\n",
       "      <th>std</th>\n",
       "      <td>NaN</td>\n",
       "      <td>1.206048e+06</td>\n",
       "      <td>NaN</td>\n",
       "      <td>NaN</td>\n",
       "      <td>NaN</td>\n",
       "    </tr>\n",
       "    <tr>\n",
       "      <th>freq</th>\n",
       "      <td>NaN</td>\n",
       "      <td>NaN</td>\n",
       "      <td>530</td>\n",
       "      <td>1708</td>\n",
       "      <td>37</td>\n",
       "    </tr>\n",
       "    <tr>\n",
       "      <th>unique</th>\n",
       "      <td>NaN</td>\n",
       "      <td>NaN</td>\n",
       "      <td>437</td>\n",
       "      <td>4</td>\n",
       "      <td>3781</td>\n",
       "    </tr>\n",
       "  </tbody>\n",
       "</table>\n",
       "</div>"
      ],
      "text/plain": [
       "                                 date   amount_orig payer_name  \\\n",
       "count                            4069  4.069000e+03       4069   \n",
       "mean    2013-06-24 13:09:11.191939072  7.512028e+05        NaN   \n",
       "min               2012-06-30 00:00:00  6.600000e-01        NaN   \n",
       "max               2014-12-31 00:00:00  2.055997e+07        NaN   \n",
       "std                               NaN  1.206048e+06        NaN   \n",
       "freq                              NaN           NaN        530   \n",
       "unique                            NaN           NaN        437   \n",
       "\n",
       "       beneficiary_name purpose  \n",
       "count              4069    4069  \n",
       "mean                NaN     NaN  \n",
       "min                 NaN     NaN  \n",
       "max                 NaN     NaN  \n",
       "std                 NaN     NaN  \n",
       "freq               1708      37  \n",
       "unique                4    3781  "
      ]
     },
     "execution_count": 10,
     "metadata": {},
     "output_type": "execute_result"
    }
   ],
   "source": [
    "df.describe(include = \"all\").loc[[ \"count\", \"mean\", \"min\", \"max\", \"std\", \"freq\", \"unique\", ]]"
   ]
  },
  {
   "cell_type": "code",
   "execution_count": 11,
   "id": "1b3346a2-bad7-4428-b9e0-9c9ebf9d35f6",
   "metadata": {
    "execution": {
     "iopub.execute_input": "2025-06-19T19:48:53.764506Z",
     "iopub.status.busy": "2025-06-19T19:48:53.764042Z",
     "iopub.status.idle": "2025-06-19T19:48:53.769350Z",
     "shell.execute_reply": "2025-06-19T19:48:53.768827Z",
     "shell.execute_reply.started": "2025-06-19T19:48:53.764480Z"
    }
   },
   "outputs": [
    {
     "data": {
      "text/plain": [
       "3.05664418321"
      ]
     },
     "execution_count": 11,
     "metadata": {},
     "output_type": "execute_result"
    }
   ],
   "source": [
    "float(df[\"amount_orig\"].sum()) / 10**9"
   ]
  },
  {
   "cell_type": "markdown",
   "id": "f969fda9-17c1-4c7e-9774-d689e77919ae",
   "metadata": {},
   "source": [
    "insights:\n",
    "\n",
    "  * a total of \\$3.06B in money transfers flowed through ~4K transactions\n",
    "  * mean transfer amount is \\$751K\n",
    "  * max transfer amount is \\$20.6M\n",
    "  * funds drain into 4 companies"
   ]
  },
  {
   "cell_type": "markdown",
   "id": "94ea45fe-99a0-43c4-b0bf-69bfae5d5a76",
   "metadata": {},
   "source": [
    "## graph construction"
   ]
  },
  {
   "cell_type": "markdown",
   "id": "69637d88-6901-4157-8652-4d422cceb955",
   "metadata": {},
   "source": [
    "construct a graph in `NetworkX` for analysis, while also tallying the transaction flows, amounts, and inter-arrival times"
   ]
  },
  {
   "cell_type": "code",
   "execution_count": 12,
   "id": "228420d8-9aad-49d4-a88a-42f978b9698d",
   "metadata": {
    "execution": {
     "iopub.execute_input": "2025-06-19T19:48:57.094346Z",
     "iopub.status.busy": "2025-06-19T19:48:57.093955Z",
     "iopub.status.idle": "2025-06-19T19:48:57.203089Z",
     "shell.execute_reply": "2025-06-19T19:48:57.202794Z",
     "shell.execute_reply.started": "2025-06-19T19:48:57.094318Z"
    }
   },
   "outputs": [],
   "source": [
    "graph: nx.DiGraph = nx.DiGraph()\n",
    "node_names: list = []\n",
    "\n",
    "edge_xact: dict = defaultdict(list)\n",
    "\n",
    "for index, row in df.iterrows():\n",
    "    src_label: str = row[\"payer_name\"]\n",
    "    dst_label: str = row[\"beneficiary_name\"]\n",
    "\n",
    "    if src_label not in node_names:\n",
    "        node_names.append(src_label)\n",
    "        src_id: int = node_names.index(src_label)\n",
    "\n",
    "        graph.add_node(\n",
    "            src_id,\n",
    "            name = src_label,\n",
    "        )            \n",
    "    else:\n",
    "        src_id = node_names.index(src_label)\n",
    "\n",
    "    if dst_label not in node_names:\n",
    "        node_names.append(dst_label)\n",
    "        dst_id: int = node_names.index(dst_label)\n",
    "\n",
    "        graph.add_node(\n",
    "            dst_id,\n",
    "            name = dst_label,\n",
    "        )\n",
    "    else:\n",
    "        dst_id = node_names.index(dst_label)\n",
    "\n",
    "    graph.add_edge(\n",
    "        src_id,\n",
    "        dst_id,\n",
    "    )\n",
    "\n",
    "    edge_xact[ (src_id, dst_id) ].append({\n",
    "        \"amount\": row[\"amount_orig\"],\n",
    "        \"date\": datetime.fromisoformat(str(row[\"date\"])),\n",
    "    })    "
   ]
  },
  {
   "cell_type": "code",
   "execution_count": 13,
   "id": "135edca5-7061-4e2c-ba7e-36453ec9ca01",
   "metadata": {
    "execution": {
     "iopub.execute_input": "2025-06-19T19:48:58.564295Z",
     "iopub.status.busy": "2025-06-19T19:48:58.563845Z",
     "iopub.status.idle": "2025-06-19T19:48:58.569322Z",
     "shell.execute_reply": "2025-06-19T19:48:58.568540Z",
     "shell.execute_reply.started": "2025-06-19T19:48:58.564272Z"
    }
   },
   "outputs": [],
   "source": [
    "for node_id, degree in sorted(nx.degree(graph), key = lambda x: x[1], reverse = True):\n",
    "    graph.nodes[node_id][\"degree\"] = degree"
   ]
  },
  {
   "cell_type": "markdown",
   "id": "a3b14286-f1c0-4895-97d0-fcd0fc85272e",
   "metadata": {},
   "source": [
    "## inter-arrival modeling"
   ]
  },
  {
   "cell_type": "markdown",
   "id": "c3a68ea6-6ef5-46a7-a4ce-f2fee601ce65",
   "metadata": {},
   "source": [
    "describe the distributions of transaction inter-arrival times (days in-between) and amounts"
   ]
  },
  {
   "cell_type": "code",
   "execution_count": 14,
   "id": "b7222874-cf87-4e1f-abda-a2e70531aebf",
   "metadata": {
    "execution": {
     "iopub.execute_input": "2025-06-19T19:49:00.560388Z",
     "iopub.status.busy": "2025-06-19T19:49:00.559847Z",
     "iopub.status.idle": "2025-06-19T19:49:00.572743Z",
     "shell.execute_reply": "2025-06-19T19:49:00.572365Z",
     "shell.execute_reply.started": "2025-06-19T19:49:00.560358Z"
    },
    "scrolled": true
   },
   "outputs": [
    {
     "data": {
      "text/html": [
       "<div>\n",
       "<style scoped>\n",
       "    .dataframe tbody tr th:only-of-type {\n",
       "        vertical-align: middle;\n",
       "    }\n",
       "\n",
       "    .dataframe tbody tr th {\n",
       "        vertical-align: top;\n",
       "    }\n",
       "\n",
       "    .dataframe thead th {\n",
       "        text-align: right;\n",
       "    }\n",
       "</style>\n",
       "<table border=\"1\" class=\"dataframe\">\n",
       "  <thead>\n",
       "    <tr style=\"text-align: right;\">\n",
       "      <th></th>\n",
       "      <th>src_id</th>\n",
       "      <th>dst_id</th>\n",
       "      <th>median_amount</th>\n",
       "      <th>total_amount</th>\n",
       "    </tr>\n",
       "  </thead>\n",
       "  <tbody>\n",
       "    <tr>\n",
       "      <th>0</th>\n",
       "      <td>0</td>\n",
       "      <td>1</td>\n",
       "      <td>109510.00</td>\n",
       "      <td>1511916.50</td>\n",
       "    </tr>\n",
       "    <tr>\n",
       "      <th>1</th>\n",
       "      <td>2</td>\n",
       "      <td>3</td>\n",
       "      <td>10101.00</td>\n",
       "      <td>110063.19</td>\n",
       "    </tr>\n",
       "    <tr>\n",
       "      <th>2</th>\n",
       "      <td>4</td>\n",
       "      <td>3</td>\n",
       "      <td>189352.15</td>\n",
       "      <td>415231.08</td>\n",
       "    </tr>\n",
       "    <tr>\n",
       "      <th>3</th>\n",
       "      <td>5</td>\n",
       "      <td>3</td>\n",
       "      <td>300000.00</td>\n",
       "      <td>4729714.00</td>\n",
       "    </tr>\n",
       "    <tr>\n",
       "      <th>4</th>\n",
       "      <td>6</td>\n",
       "      <td>3</td>\n",
       "      <td>50000.00</td>\n",
       "      <td>12747647.00</td>\n",
       "    </tr>\n",
       "  </tbody>\n",
       "</table>\n",
       "</div>"
      ],
      "text/plain": [
       "   src_id  dst_id  median_amount  total_amount\n",
       "0       0       1      109510.00    1511916.50\n",
       "1       2       3       10101.00     110063.19\n",
       "2       4       3      189352.15     415231.08\n",
       "3       5       3      300000.00    4729714.00\n",
       "4       6       3       50000.00   12747647.00"
      ]
     },
     "execution_count": 14,
     "metadata": {},
     "output_type": "execute_result"
    }
   ],
   "source": [
    "summary_data: list = []\n",
    "timing_data: list = []\n",
    "\n",
    "for edge, dat in edge_xact.items():        \n",
    "    dates: list = sorted([\n",
    "        xact[\"date\"]\n",
    "        for xact in dat\n",
    "    ], reverse = False)\n",
    "\n",
    "    inter_arrival: list = [\n",
    "        (pair[1] - pair[0]).days\n",
    "        for pair in itertools.pairwise(dates)\n",
    "    ]\n",
    "\n",
    "    timing_data.extend(inter_arrival)\n",
    "\n",
    "    amounts: list = [\n",
    "        xact[\"amount\"]\n",
    "        for xact in dat\n",
    "    ]\n",
    "\n",
    "    summary_data.append({\n",
    "        \"src_id\": edge[0],\n",
    "        \"dst_id\": edge[1],\n",
    "        \"median_amount\": statistics.median(amounts),\n",
    "        \"total_amount\": sum(amounts),\n",
    "    })\n",
    "\n",
    "df_summary: pd.DataFrame = pd.DataFrame.from_dict(\n",
    "    summary_data,\n",
    "    orient = \"columns\"\n",
    ")\n",
    "\n",
    "df_summary.head()"
   ]
  },
  {
   "cell_type": "code",
   "execution_count": 15,
   "id": "e21ac1d5-1f55-4e1f-beaf-258bd4ea82b5",
   "metadata": {
    "execution": {
     "iopub.execute_input": "2025-06-19T19:49:01.120697Z",
     "iopub.status.busy": "2025-06-19T19:49:01.120076Z",
     "iopub.status.idle": "2025-06-19T19:49:02.071436Z",
     "shell.execute_reply": "2025-06-19T19:49:02.071136Z",
     "shell.execute_reply.started": "2025-06-19T19:49:01.120656Z"
    }
   },
   "outputs": [
    {
     "data": {
      "image/png": "[encoded data removed]",
      "text/plain": [
       "<Figure size 1000x600 with 1 Axes>"
      ]
     },
     "metadata": {},
     "output_type": "display_data"
    }
   ],
   "source": [
    "fig, ax = plt.subplots(figsize = (10, 6))\n",
    "plt.rcParams[\"font.family\"] = \"sans-serif\"\n",
    "\n",
    "y = sns.histplot(timing_data)\n",
    "y.tick_params(axis = \"y\", size = 9, colors = \"gray\")\n",
    "y.bar_label(y.containers[0], padding = 3, color = \"gray\", fontsize = 7)\n",
    "\n",
    "plt.xlabel(\"inter-arrival (days)\", size = 10, fontstyle = \"italic\")\n",
    "plt.ylabel(\"count\", size = 10, fontstyle = \"italic\")\n",
    "\n",
    "sns.despine(bottom = True, left = True)\n",
    "\n",
    "plt.axvline(x = statistics.mean(timing_data), color = \"red\", lw = 5, alpha = 0.3)\n",
    "plt.yscale(\"log\")\n",
    "\n",
    "plt.legend([], [], frameon = False);"
   ]
  },
  {
   "cell_type": "code",
   "execution_count": 16,
   "id": "9cb21c37-ade7-4270-953a-f06e4b9439c3",
   "metadata": {
    "execution": {
     "iopub.execute_input": "2025-06-19T19:49:02.072283Z",
     "iopub.status.busy": "2025-06-19T19:49:02.072188Z",
     "iopub.status.idle": "2025-06-19T19:49:02.074659Z",
     "shell.execute_reply": "2025-06-19T19:49:02.074255Z",
     "shell.execute_reply.started": "2025-06-19T19:49:02.072274Z"
    }
   },
   "outputs": [
    {
     "data": {
      "text/plain": [
       "377"
      ]
     },
     "execution_count": 16,
     "metadata": {},
     "output_type": "execute_result"
    }
   ],
   "source": [
    "max(timing_data)"
   ]
  },
  {
   "cell_type": "code",
   "execution_count": 17,
   "id": "ccb6f824-46e3-48a8-8901-d754a7d0635e",
   "metadata": {
    "execution": {
     "iopub.execute_input": "2025-06-19T19:49:02.075137Z",
     "iopub.status.busy": "2025-06-19T19:49:02.075053Z",
     "iopub.status.idle": "2025-06-19T19:49:02.077273Z",
     "shell.execute_reply": "2025-06-19T19:49:02.077054Z",
     "shell.execute_reply.started": "2025-06-19T19:49:02.075130Z"
    }
   },
   "outputs": [
    {
     "data": {
      "text/plain": [
       "0"
      ]
     },
     "execution_count": 17,
     "metadata": {},
     "output_type": "execute_result"
    }
   ],
   "source": [
    "min(timing_data)"
   ]
  },
  {
   "cell_type": "code",
   "execution_count": 18,
   "id": "98cb9277-2aed-41ab-91f6-11d6c16c195d",
   "metadata": {
    "execution": {
     "iopub.execute_input": "2025-06-19T19:49:02.723831Z",
     "iopub.status.busy": "2025-06-19T19:49:02.723152Z",
     "iopub.status.idle": "2025-06-19T19:49:02.732576Z",
     "shell.execute_reply": "2025-06-19T19:49:02.731651Z",
     "shell.execute_reply.started": "2025-06-19T19:49:02.723781Z"
    }
   },
   "outputs": [
    {
     "data": {
      "text/plain": [
       "7.678282687482576"
      ]
     },
     "execution_count": 18,
     "metadata": {},
     "output_type": "execute_result"
    }
   ],
   "source": [
    "statistics.mean(timing_data)"
   ]
  },
  {
   "cell_type": "code",
   "execution_count": 19,
   "id": "6c4c6329-f586-40d6-ad87-4c6ee0bf8f19",
   "metadata": {
    "execution": {
     "iopub.execute_input": "2025-06-19T19:49:03.403785Z",
     "iopub.status.busy": "2025-06-19T19:49:03.403164Z",
     "iopub.status.idle": "2025-06-19T19:49:03.410384Z",
     "shell.execute_reply": "2025-06-19T19:49:03.409456Z",
     "shell.execute_reply.started": "2025-06-19T19:49:03.403740Z"
    }
   },
   "outputs": [
    {
     "data": {
      "text/plain": [
       "2"
      ]
     },
     "execution_count": 19,
     "metadata": {},
     "output_type": "execute_result"
    }
   ],
   "source": [
    "statistics.median(timing_data)"
   ]
  },
  {
   "cell_type": "code",
   "execution_count": 20,
   "id": "59740d2c-409b-4e75-94bf-ab2f73ccfffb",
   "metadata": {
    "execution": {
     "iopub.execute_input": "2025-06-19T19:49:04.061645Z",
     "iopub.status.busy": "2025-06-19T19:49:04.061036Z",
     "iopub.status.idle": "2025-06-19T19:49:04.070901Z",
     "shell.execute_reply": "2025-06-19T19:49:04.069856Z",
     "shell.execute_reply.started": "2025-06-19T19:49:04.061604Z"
    }
   },
   "outputs": [
    {
     "data": {
      "text/plain": [
       "20.509698291006327"
      ]
     },
     "execution_count": 20,
     "metadata": {},
     "output_type": "execute_result"
    }
   ],
   "source": [
    "statistics.stdev(timing_data)"
   ]
  },
  {
   "cell_type": "code",
   "execution_count": 21,
   "id": "5c9b347e-2f18-4f59-b882-7d119e0f6bcf",
   "metadata": {
    "execution": {
     "iopub.execute_input": "2025-06-19T19:49:04.681590Z",
     "iopub.status.busy": "2025-06-19T19:49:04.680970Z",
     "iopub.status.idle": "2025-06-19T19:49:04.702941Z",
     "shell.execute_reply": "2025-06-19T19:49:04.702310Z",
     "shell.execute_reply.started": "2025-06-19T19:49:04.681545Z"
    }
   },
   "outputs": [
    {
     "data": {
      "text/html": [
       "<div>\n",
       "<style scoped>\n",
       "    .dataframe tbody tr th:only-of-type {\n",
       "        vertical-align: middle;\n",
       "    }\n",
       "\n",
       "    .dataframe tbody tr th {\n",
       "        vertical-align: top;\n",
       "    }\n",
       "\n",
       "    .dataframe thead th {\n",
       "        text-align: right;\n",
       "    }\n",
       "</style>\n",
       "<table border=\"1\" class=\"dataframe\">\n",
       "  <thead>\n",
       "    <tr style=\"text-align: right;\">\n",
       "      <th></th>\n",
       "      <th>src_id</th>\n",
       "      <th>dst_id</th>\n",
       "      <th>median_amount</th>\n",
       "      <th>total_amount</th>\n",
       "    </tr>\n",
       "  </thead>\n",
       "  <tbody>\n",
       "    <tr>\n",
       "      <th>count</th>\n",
       "      <td>482.000000</td>\n",
       "      <td>482.000000</td>\n",
       "      <td>4.820000e+02</td>\n",
       "      <td>4.820000e+02</td>\n",
       "    </tr>\n",
       "    <tr>\n",
       "      <th>mean</th>\n",
       "      <td>208.769710</td>\n",
       "      <td>50.107884</td>\n",
       "      <td>4.667940e+05</td>\n",
       "      <td>6.341585e+06</td>\n",
       "    </tr>\n",
       "    <tr>\n",
       "      <th>std</th>\n",
       "      <td>129.118082</td>\n",
       "      <td>110.394929</td>\n",
       "      <td>1.286354e+06</td>\n",
       "      <td>5.817122e+07</td>\n",
       "    </tr>\n",
       "    <tr>\n",
       "      <th>min</th>\n",
       "      <td>0.000000</td>\n",
       "      <td>1.000000</td>\n",
       "      <td>6.600000e-01</td>\n",
       "      <td>6.600000e-01</td>\n",
       "    </tr>\n",
       "    <tr>\n",
       "      <th>25%</th>\n",
       "      <td>95.250000</td>\n",
       "      <td>1.000000</td>\n",
       "      <td>4.634000e+04</td>\n",
       "      <td>6.790158e+04</td>\n",
       "    </tr>\n",
       "    <tr>\n",
       "      <th>50%</th>\n",
       "      <td>205.000000</td>\n",
       "      <td>1.000000</td>\n",
       "      <td>1.641615e+05</td>\n",
       "      <td>4.745085e+05</td>\n",
       "    </tr>\n",
       "    <tr>\n",
       "      <th>75%</th>\n",
       "      <td>320.750000</td>\n",
       "      <td>3.000000</td>\n",
       "      <td>4.880025e+05</td>\n",
       "      <td>2.010612e+06</td>\n",
       "    </tr>\n",
       "    <tr>\n",
       "      <th>max</th>\n",
       "      <td>436.000000</td>\n",
       "      <td>302.000000</td>\n",
       "      <td>2.055997e+07</td>\n",
       "      <td>1.239991e+09</td>\n",
       "    </tr>\n",
       "  </tbody>\n",
       "</table>\n",
       "</div>"
      ],
      "text/plain": [
       "           src_id      dst_id  median_amount  total_amount\n",
       "count  482.000000  482.000000   4.820000e+02  4.820000e+02\n",
       "mean   208.769710   50.107884   4.667940e+05  6.341585e+06\n",
       "std    129.118082  110.394929   1.286354e+06  5.817122e+07\n",
       "min      0.000000    1.000000   6.600000e-01  6.600000e-01\n",
       "25%     95.250000    1.000000   4.634000e+04  6.790158e+04\n",
       "50%    205.000000    1.000000   1.641615e+05  4.745085e+05\n",
       "75%    320.750000    3.000000   4.880025e+05  2.010612e+06\n",
       "max    436.000000  302.000000   2.055997e+07  1.239991e+09"
      ]
     },
     "execution_count": 21,
     "metadata": {},
     "output_type": "execute_result"
    }
   ],
   "source": [
    "df_summary.describe()"
   ]
  },
  {
   "cell_type": "markdown",
   "id": "730f752c-3c4e-4492-bcda-ce144aaa41a6",
   "metadata": {},
   "source": [
    "insights:\n",
    "\n",
    "  * mean total transfer between two nodes is \\$6.34M\n",
    "  * max total transfer is \\$1.24B\n",
    "  * mean of the median transfer amount between two nodes is \\$46.7K\n",
    "\n",
    "  * exponential distribution for inter-arrival times (days)\n",
    "\t* min 0\n",
    "\t* median 2\n",
    "\t* mean 7.68\n",
    "\t* max 377\n",
    "\t* stdev 20.51"
   ]
  },
  {
   "cell_type": "markdown",
   "id": "f9a1efcf-e6e6-4070-9242-b8578b38c15b",
   "metadata": {},
   "source": [
    "## general ledger"
   ]
  },
  {
   "cell_type": "markdown",
   "id": "95700960-c847-4733-bbf6-fdbe4c1b544d",
   "metadata": {},
   "source": [
    "apply basic accounting practices to model the in-flows, out-flows, and resulting balances"
   ]
  },
  {
   "cell_type": "code",
   "execution_count": 22,
   "id": "78ee1097-4ef7-4314-9f9c-df7b6c0f39fa",
   "metadata": {
    "execution": {
     "iopub.execute_input": "2025-06-19T19:49:06.972167Z",
     "iopub.status.busy": "2025-06-19T19:49:06.971820Z",
     "iopub.status.idle": "2025-06-19T19:49:06.993103Z",
     "shell.execute_reply": "2025-06-19T19:49:06.992494Z",
     "shell.execute_reply.started": "2025-06-19T19:49:06.972128Z"
    }
   },
   "outputs": [],
   "source": [
    "for node_id in graph.nodes():\n",
    "    graph.nodes[node_id][\"count\"] = 0\n",
    "    graph.nodes[node_id][\"volume\"] = 0\n",
    "    graph.nodes[node_id][\"credits\"] = 0\n",
    "    graph.nodes[node_id][\"debits\"] = 0\n",
    "\n",
    "for index, row in df_summary.iterrows():\n",
    "    src_id: int = row[\"src_id\"]\n",
    "    dst_id: int = row[\"dst_id\"]\n",
    "    amount: float = float(row[\"total_amount\"])\n",
    "\n",
    "    graph.nodes[src_id][\"count\"] += 1\n",
    "    graph.nodes[src_id][\"volume\"] += amount\n",
    "    graph.nodes[src_id][\"debits\"] += amount\n",
    "\n",
    "    graph.nodes[dst_id][\"count\"] += 1\n",
    "    graph.nodes[dst_id][\"volume\"] += amount\n",
    "    graph.nodes[dst_id][\"credits\"] += amount\n",
    "\n",
    "for node_id in graph.nodes():\n",
    "    graph.nodes[node_id][\"balance\"] = round(graph.nodes[node_id][\"credits\"] - graph.nodes[node_id][\"debits\"], 2)"
   ]
  },
  {
   "cell_type": "code",
   "execution_count": 23,
   "id": "d39521cd-8b73-453e-a15f-0a0319995595",
   "metadata": {
    "execution": {
     "iopub.execute_input": "2025-06-19T19:49:07.578818Z",
     "iopub.status.busy": "2025-06-19T19:49:07.578157Z",
     "iopub.status.idle": "2025-06-19T19:49:07.596205Z",
     "shell.execute_reply": "2025-06-19T19:49:07.595400Z",
     "shell.execute_reply.started": "2025-06-19T19:49:07.578773Z"
    }
   },
   "outputs": [
    {
     "data": {
      "text/html": [
       "<div>\n",
       "<style scoped>\n",
       "    .dataframe tbody tr th:only-of-type {\n",
       "        vertical-align: middle;\n",
       "    }\n",
       "\n",
       "    .dataframe tbody tr th {\n",
       "        vertical-align: top;\n",
       "    }\n",
       "\n",
       "    .dataframe thead th {\n",
       "        text-align: right;\n",
       "    }\n",
       "</style>\n",
       "<table border=\"1\" class=\"dataframe\">\n",
       "  <thead>\n",
       "    <tr style=\"text-align: right;\">\n",
       "      <th></th>\n",
       "      <th>name</th>\n",
       "      <th>degree</th>\n",
       "      <th>count</th>\n",
       "      <th>volume</th>\n",
       "      <th>credits</th>\n",
       "      <th>debits</th>\n",
       "      <th>balance</th>\n",
       "    </tr>\n",
       "  </thead>\n",
       "  <tbody>\n",
       "    <tr>\n",
       "      <th>0</th>\n",
       "      <td>AZARBAYCAN METANOL KOMPANI MMC</td>\n",
       "      <td>1</td>\n",
       "      <td>1</td>\n",
       "      <td>1.511916e+06</td>\n",
       "      <td>0.000000e+00</td>\n",
       "      <td>1511916.50</td>\n",
       "      <td>-1.511916e+06</td>\n",
       "    </tr>\n",
       "    <tr>\n",
       "      <th>1</th>\n",
       "      <td>LCM ALLIANCE LLP</td>\n",
       "      <td>273</td>\n",
       "      <td>273</td>\n",
       "      <td>8.648721e+08</td>\n",
       "      <td>8.564284e+08</td>\n",
       "      <td>8443707.00</td>\n",
       "      <td>8.479847e+08</td>\n",
       "    </tr>\n",
       "    <tr>\n",
       "      <th>2</th>\n",
       "      <td>SKN ELECTRICAL SERVICES LIMITEDACCO</td>\n",
       "      <td>1</td>\n",
       "      <td>1</td>\n",
       "      <td>1.100632e+05</td>\n",
       "      <td>0.000000e+00</td>\n",
       "      <td>110063.19</td>\n",
       "      <td>-1.100632e+05</td>\n",
       "    </tr>\n",
       "    <tr>\n",
       "      <th>3</th>\n",
       "      <td>METASTAR INVEST LLP</td>\n",
       "      <td>134</td>\n",
       "      <td>134</td>\n",
       "      <td>4.296297e+08</td>\n",
       "      <td>3.557691e+08</td>\n",
       "      <td>73860598.00</td>\n",
       "      <td>2.819085e+08</td>\n",
       "    </tr>\n",
       "    <tr>\n",
       "      <th>4</th>\n",
       "      <td>INMAXO CAPITAL CORP.</td>\n",
       "      <td>1</td>\n",
       "      <td>1</td>\n",
       "      <td>4.152311e+05</td>\n",
       "      <td>0.000000e+00</td>\n",
       "      <td>415231.08</td>\n",
       "      <td>-4.152311e+05</td>\n",
       "    </tr>\n",
       "  </tbody>\n",
       "</table>\n",
       "</div>"
      ],
      "text/plain": [
       "                                  name  degree  count        volume  \\\n",
       "0       AZARBAYCAN METANOL KOMPANI MMC       1      1  1.511916e+06   \n",
       "1                     LCM ALLIANCE LLP     273    273  8.648721e+08   \n",
       "2  SKN ELECTRICAL SERVICES LIMITEDACCO       1      1  1.100632e+05   \n",
       "3                  METASTAR INVEST LLP     134    134  4.296297e+08   \n",
       "4                 INMAXO CAPITAL CORP.       1      1  4.152311e+05   \n",
       "\n",
       "        credits       debits       balance  \n",
       "0  0.000000e+00   1511916.50 -1.511916e+06  \n",
       "1  8.564284e+08   8443707.00  8.479847e+08  \n",
       "2  0.000000e+00    110063.19 -1.100632e+05  \n",
       "3  3.557691e+08  73860598.00  2.819085e+08  \n",
       "4  0.000000e+00    415231.08 -4.152311e+05  "
      ]
     },
     "execution_count": 23,
     "metadata": {},
     "output_type": "execute_result"
    }
   ],
   "source": [
    "nodes_dat: typing.List[ dict ] = [\n",
    "    dat\n",
    "    for _, dat in graph.nodes(data = True)\n",
    "]\n",
    "\n",
    "df_nodes: pd.DataFrame = pd.DataFrame.from_dict(\n",
    "    nodes_dat,\n",
    "    orient = \"columns\"\n",
    ")\n",
    "\n",
    "df_nodes.head()"
   ]
  },
  {
   "cell_type": "code",
   "execution_count": 24,
   "id": "cf366c8a-7875-41e7-8794-c793a0056ee6",
   "metadata": {
    "execution": {
     "iopub.execute_input": "2025-06-19T19:49:08.649095Z",
     "iopub.status.busy": "2025-06-19T19:49:08.648470Z",
     "iopub.status.idle": "2025-06-19T19:49:08.673710Z",
     "shell.execute_reply": "2025-06-19T19:49:08.673058Z",
     "shell.execute_reply.started": "2025-06-19T19:49:08.649053Z"
    }
   },
   "outputs": [
    {
     "data": {
      "text/html": [
       "<div>\n",
       "<style scoped>\n",
       "    .dataframe tbody tr th:only-of-type {\n",
       "        vertical-align: middle;\n",
       "    }\n",
       "\n",
       "    .dataframe tbody tr th {\n",
       "        vertical-align: top;\n",
       "    }\n",
       "\n",
       "    .dataframe thead th {\n",
       "        text-align: right;\n",
       "    }\n",
       "</style>\n",
       "<table border=\"1\" class=\"dataframe\">\n",
       "  <thead>\n",
       "    <tr style=\"text-align: right;\">\n",
       "      <th></th>\n",
       "      <th>degree</th>\n",
       "      <th>count</th>\n",
       "      <th>volume</th>\n",
       "      <th>credits</th>\n",
       "      <th>debits</th>\n",
       "      <th>balance</th>\n",
       "    </tr>\n",
       "  </thead>\n",
       "  <tbody>\n",
       "    <tr>\n",
       "      <th>count</th>\n",
       "      <td>437.000000</td>\n",
       "      <td>437.000000</td>\n",
       "      <td>4.370000e+02</td>\n",
       "      <td>4.370000e+02</td>\n",
       "      <td>4.370000e+02</td>\n",
       "      <td>4.370000e+02</td>\n",
       "    </tr>\n",
       "    <tr>\n",
       "      <th>mean</th>\n",
       "      <td>2.205950</td>\n",
       "      <td>2.205950</td>\n",
       "      <td>1.398922e+07</td>\n",
       "      <td>6.994609e+06</td>\n",
       "      <td>6.994609e+06</td>\n",
       "      <td>1.363951e-10</td>\n",
       "    </tr>\n",
       "    <tr>\n",
       "      <th>std</th>\n",
       "      <td>14.766024</td>\n",
       "      <td>14.766024</td>\n",
       "      <td>1.139791e+08</td>\n",
       "      <td>8.597658e+07</td>\n",
       "      <td>7.043787e+07</td>\n",
       "      <td>1.082390e+08</td>\n",
       "    </tr>\n",
       "    <tr>\n",
       "      <th>min</th>\n",
       "      <td>1.000000</td>\n",
       "      <td>1.000000</td>\n",
       "      <td>6.600000e-01</td>\n",
       "      <td>0.000000e+00</td>\n",
       "      <td>6.600000e-01</td>\n",
       "      <td>-1.452793e+09</td>\n",
       "    </tr>\n",
       "    <tr>\n",
       "      <th>25%</th>\n",
       "      <td>1.000000</td>\n",
       "      <td>1.000000</td>\n",
       "      <td>6.242700e+04</td>\n",
       "      <td>0.000000e+00</td>\n",
       "      <td>6.242700e+04</td>\n",
       "      <td>-1.720020e+06</td>\n",
       "    </tr>\n",
       "    <tr>\n",
       "      <th>50%</th>\n",
       "      <td>1.000000</td>\n",
       "      <td>1.000000</td>\n",
       "      <td>4.608160e+05</td>\n",
       "      <td>0.000000e+00</td>\n",
       "      <td>4.608160e+05</td>\n",
       "      <td>-4.012300e+05</td>\n",
       "    </tr>\n",
       "    <tr>\n",
       "      <th>75%</th>\n",
       "      <td>1.000000</td>\n",
       "      <td>1.000000</td>\n",
       "      <td>1.948477e+06</td>\n",
       "      <td>0.000000e+00</td>\n",
       "      <td>1.948477e+06</td>\n",
       "      <td>-5.490000e+04</td>\n",
       "    </tr>\n",
       "    <tr>\n",
       "      <th>max</th>\n",
       "      <td>273.000000</td>\n",
       "      <td>273.000000</td>\n",
       "      <td>1.586775e+09</td>\n",
       "      <td>1.506709e+09</td>\n",
       "      <td>1.452793e+09</td>\n",
       "      <td>1.426642e+09</td>\n",
       "    </tr>\n",
       "  </tbody>\n",
       "</table>\n",
       "</div>"
      ],
      "text/plain": [
       "           degree       count        volume       credits        debits  \\\n",
       "count  437.000000  437.000000  4.370000e+02  4.370000e+02  4.370000e+02   \n",
       "mean     2.205950    2.205950  1.398922e+07  6.994609e+06  6.994609e+06   \n",
       "std     14.766024   14.766024  1.139791e+08  8.597658e+07  7.043787e+07   \n",
       "min      1.000000    1.000000  6.600000e-01  0.000000e+00  6.600000e-01   \n",
       "25%      1.000000    1.000000  6.242700e+04  0.000000e+00  6.242700e+04   \n",
       "50%      1.000000    1.000000  4.608160e+05  0.000000e+00  4.608160e+05   \n",
       "75%      1.000000    1.000000  1.948477e+06  0.000000e+00  1.948477e+06   \n",
       "max    273.000000  273.000000  1.586775e+09  1.506709e+09  1.452793e+09   \n",
       "\n",
       "            balance  \n",
       "count  4.370000e+02  \n",
       "mean   1.363951e-10  \n",
       "std    1.082390e+08  \n",
       "min   -1.452793e+09  \n",
       "25%   -1.720020e+06  \n",
       "50%   -4.012300e+05  \n",
       "75%   -5.490000e+04  \n",
       "max    1.426642e+09  "
      ]
     },
     "execution_count": 24,
     "metadata": {},
     "output_type": "execute_result"
    }
   ],
   "source": [
    "df_nodes.describe()"
   ]
  },
  {
   "cell_type": "code",
   "execution_count": 25,
   "id": "0602912a-faf6-455c-aeb4-0abc4974cc54",
   "metadata": {
    "execution": {
     "iopub.execute_input": "2025-06-19T19:49:09.863416Z",
     "iopub.status.busy": "2025-06-19T19:49:09.863098Z",
     "iopub.status.idle": "2025-06-19T19:49:09.998399Z",
     "shell.execute_reply": "2025-06-19T19:49:09.998007Z",
     "shell.execute_reply.started": "2025-06-19T19:49:09.863398Z"
    }
   },
   "outputs": [
    {
     "data": {
      "image/png": "[encoded data removed]",
      "text/plain": [
       "<Figure size 640x480 with 1 Axes>"
      ]
     },
     "metadata": {},
     "output_type": "display_data"
    }
   ],
   "source": [
    "x: list = df_nodes[\"degree\"].to_list()\n",
    "y: list = df_nodes[\"volume\"].to_list()\n",
    "labels: list = df_nodes[\"name\"].to_list()\n",
    "\n",
    "sns.scatterplot(data = df_nodes, x = \"degree\", y = \"volume\")\n",
    "\n",
    "plt.yscale(\"log\")\n",
    "plt.xscale(\"log\")\n",
    "\n",
    "for i, label in enumerate(labels):\n",
    "    if x[i] > 2: # only label the top-ranked 14 companies\n",
    "        plt.annotate(label, (x[i], y[i]), alpha = 0.3, fontsize = 7)\n",
    "\n",
    "plt.show()"
   ]
  },
  {
   "cell_type": "code",
   "execution_count": 26,
   "id": "49944c46-c174-47bd-ab83-f3d780e152bd",
   "metadata": {
    "execution": {
     "iopub.execute_input": "2025-06-19T19:49:10.899047Z",
     "iopub.status.busy": "2025-06-19T19:49:10.898385Z",
     "iopub.status.idle": "2025-06-19T19:49:11.284008Z",
     "shell.execute_reply": "2025-06-19T19:49:11.283737Z",
     "shell.execute_reply.started": "2025-06-19T19:49:10.899004Z"
    }
   },
   "outputs": [
    {
     "data": {
      "image/png": "[encoded data removed]",
      "text/plain": [
       "<Figure size 640x480 with 1 Axes>"
      ]
     },
     "metadata": {},
     "output_type": "display_data"
    }
   ],
   "source": [
    "x: list = df_nodes[\"volume\"].to_list()\n",
    "y: list = df_nodes[\"debits\"].to_list()\n",
    "labels: list = df_nodes[\"name\"].to_list()\n",
    "\n",
    "sns.scatterplot(data = df_nodes, x = \"volume\", y = \"debits\")\n",
    "\n",
    "for i, label in enumerate(labels):\n",
    "    plt.annotate(label, (x[i], y[i]), alpha = 0.3, fontsize = 7)\n",
    "\n",
    "plt.show()"
   ]
  },
  {
   "cell_type": "markdown",
   "id": "9f1c6dda-7b2c-458e-9dac-1f5e97390910",
   "metadata": {},
   "source": [
    "this chart illustrates the \"sources\" (negative balance, below center) and \"drains\" (positive balance, above center)"
   ]
  },
  {
   "cell_type": "code",
   "execution_count": 27,
   "id": "1dec9fa8-f74a-484c-9fa4-a09cf016e7c3",
   "metadata": {
    "execution": {
     "iopub.execute_input": "2025-06-19T19:49:12.068779Z",
     "iopub.status.busy": "2025-06-19T19:49:12.068227Z",
     "iopub.status.idle": "2025-06-19T19:49:12.452435Z",
     "shell.execute_reply": "2025-06-19T19:49:12.452193Z",
     "shell.execute_reply.started": "2025-06-19T19:49:12.068740Z"
    }
   },
   "outputs": [
    {
     "data": {
      "image/png": "[encoded data removed]",
      "text/plain": [
       "<Figure size 500x600 with 1 Axes>"
      ]
     },
     "metadata": {},
     "output_type": "display_data"
    }
   ],
   "source": [
    "x: list = df_nodes[\"degree\"].to_list()\n",
    "y: list = df_nodes[\"balance\"].to_list()\n",
    "labels: list = df_nodes[\"name\"].to_list()\n",
    "\n",
    "fig, ax = plt.subplots(figsize = (5, 6))\n",
    "plt.rcParams[\"font.family\"] = \"sans-serif\"\n",
    "\n",
    "sns.scatterplot(data = df_nodes, x = \"degree\", y = \"balance\")\n",
    "\n",
    "for i, label in enumerate(labels):\n",
    "    plt.annotate(label, (x[i], y[i]), alpha = 0.3, fontsize = 7)\n",
    "\n",
    "plt.axhline(y = 0, color = \"red\", lw = 2, alpha = 0.2)\n",
    "\n",
    "plt.show()"
   ]
  },
  {
   "cell_type": "markdown",
   "id": "ad7a9996-2be1-43b8-a23d-8bc84368fc49",
   "metadata": {},
   "source": [
    "insights:\n",
    "\n",
    "  * mean credits/debits through a given node is \\$7M\n",
    "  * mean count of transfers through a given node is 2.2\n",
    "  * funds appear to have sourced through many shell companies, with \"BAKTELEKOM MMC\" being the largest\n",
    "  * funds appear to have drained from \"LCM\", \"HILUX\", \"POLUX\", and \"METASTAR\""
   ]
  },
  {
   "cell_type": "markdown",
   "id": "4ff3e3c8-4331-4a8f-87a6-29808a0cd96b",
   "metadata": {},
   "source": [
    "## centrality measure"
   ]
  },
  {
   "cell_type": "markdown",
   "id": "1ef46714-a22f-439b-966e-b746685af488",
   "metadata": {},
   "source": [
    "calculate _betweenness centrality_ measures for each node"
   ]
  },
  {
   "cell_type": "code",
   "execution_count": 28,
   "id": "e0885b5c-400d-4bcf-a1ec-ed0335b13632",
   "metadata": {
    "execution": {
     "iopub.execute_input": "2025-06-19T19:49:14.772455Z",
     "iopub.status.busy": "2025-06-19T19:49:14.772066Z",
     "iopub.status.idle": "2025-06-19T19:49:14.804264Z",
     "shell.execute_reply": "2025-06-19T19:49:14.804002Z",
     "shell.execute_reply.started": "2025-06-19T19:49:14.772432Z"
    }
   },
   "outputs": [
    {
     "name": "stdout",
     "output_type": "stream",
     "text": [
      "  1 rank 0.003894 LCM ALLIANCE LLP\n",
      "  3 rank 0.002837 METASTAR INVEST LLP\n",
      "302 rank 0.001128 HILUX SERVICES LP\n",
      "298 rank 0.001068 POLUX MANAGEMENT LP\n"
     ]
    }
   ],
   "source": [
    "ranks: dict = nx.betweenness_centrality(\n",
    "    graph,\n",
    "    weight = \"volume\",\n",
    "    normalized = True,\n",
    "    endpoints = True,\n",
    ")\n",
    "\n",
    "for node_id, rank in sorted(ranks.items(), key = lambda x: x[1], reverse = True):\n",
    "    graph.nodes[node_id][\"rank\"] = round(rank, 4)\n",
    "\n",
    "    if rank > 0.0001:\n",
    "        print(f\"{node_id:3} rank {rank:.4}\",  graph.nodes[node_id][\"name\"])"
   ]
  },
  {
   "cell_type": "markdown",
   "id": "0e360787-8af8-423f-b9ea-07929026e00c",
   "metadata": {},
   "source": [
    "## simple graph analytics"
   ]
  },
  {
   "cell_type": "markdown",
   "id": "8e5d12b2-18f7-4aca-8e76-88b082f8cf54",
   "metadata": {},
   "source": [
    "now we have some descriptive stats to use for modeling a simulation of these kinds of transactions; let's look into other potential parameters for simulation, based on graph analytics"
   ]
  },
  {
   "cell_type": "code",
   "execution_count": 29,
   "id": "eab0c463-1e86-4a15-9662-af5213a27828",
   "metadata": {
    "execution": {
     "iopub.execute_input": "2025-06-19T19:49:16.611431Z",
     "iopub.status.busy": "2025-06-19T19:49:16.611180Z",
     "iopub.status.idle": "2025-06-19T19:49:16.663816Z",
     "shell.execute_reply": "2025-06-19T19:49:16.663515Z",
     "shell.execute_reply.started": "2025-06-19T19:49:16.611416Z"
    },
    "scrolled": true
   },
   "outputs": [
    {
     "data": {
      "text/plain": [
       "4"
      ]
     },
     "execution_count": 29,
     "metadata": {},
     "output_type": "execute_result"
    }
   ],
   "source": [
    "nx.diameter(graph.to_undirected())"
   ]
  },
  {
   "cell_type": "code",
   "execution_count": 30,
   "id": "ea3950d5-853f-4f61-9a61-654941d2f5ef",
   "metadata": {
    "execution": {
     "iopub.execute_input": "2025-06-19T19:49:17.095960Z",
     "iopub.status.busy": "2025-06-19T19:49:17.095287Z",
     "iopub.status.idle": "2025-06-19T19:49:17.103151Z",
     "shell.execute_reply": "2025-06-19T19:49:17.102102Z",
     "shell.execute_reply.started": "2025-06-19T19:49:17.095917Z"
    }
   },
   "outputs": [
    {
     "data": {
      "text/plain": [
       "0.0025297587806772616"
      ]
     },
     "execution_count": 30,
     "metadata": {},
     "output_type": "execute_result"
    }
   ],
   "source": [
    "nx.density(graph)"
   ]
  },
  {
   "cell_type": "code",
   "execution_count": 31,
   "id": "a88f68c8-74ee-431e-8812-9982f1df3642",
   "metadata": {
    "execution": {
     "iopub.execute_input": "2025-06-19T19:49:17.873397Z",
     "iopub.status.busy": "2025-06-19T19:49:17.872758Z",
     "iopub.status.idle": "2025-06-19T19:49:17.890759Z",
     "shell.execute_reply": "2025-06-19T19:49:17.890221Z",
     "shell.execute_reply.started": "2025-06-19T19:49:17.873351Z"
    }
   },
   "outputs": [
    {
     "data": {
      "text/plain": [
       "1"
      ]
     },
     "execution_count": 31,
     "metadata": {},
     "output_type": "execute_result"
    }
   ],
   "source": [
    "nx.girth(graph.to_undirected())"
   ]
  },
  {
   "cell_type": "code",
   "execution_count": 32,
   "id": "a5939b30-6a60-43fb-8827-ae6abb608c6d",
   "metadata": {
    "execution": {
     "iopub.execute_input": "2025-06-19T19:49:18.470162Z",
     "iopub.status.busy": "2025-06-19T19:49:18.469520Z",
     "iopub.status.idle": "2025-06-19T19:49:18.477687Z",
     "shell.execute_reply": "2025-06-19T19:49:18.476699Z",
     "shell.execute_reply.started": "2025-06-19T19:49:18.470118Z"
    }
   },
   "outputs": [
    {
     "data": {
      "text/plain": [
       "273"
      ]
     },
     "execution_count": 32,
     "metadata": {},
     "output_type": "execute_result"
    }
   ],
   "source": [
    "node_degree: typing.List[ int ] = dict(nx.degree(graph)).values()\n",
    "max(node_degree)"
   ]
  },
  {
   "cell_type": "markdown",
   "id": "ceda319c-c341-43fc-b599-ac8b653f37b7",
   "metadata": {},
   "source": [
    "let's look in detail at the relatively higher degree nodes"
   ]
  },
  {
   "cell_type": "code",
   "execution_count": 33,
   "id": "4dfdc232-c581-48a4-84bd-a57bf09b226e",
   "metadata": {
    "execution": {
     "iopub.execute_input": "2025-06-19T19:49:19.550455Z",
     "iopub.status.busy": "2025-06-19T19:49:19.550066Z",
     "iopub.status.idle": "2025-06-19T19:49:19.556130Z",
     "shell.execute_reply": "2025-06-19T19:49:19.555232Z",
     "shell.execute_reply.started": "2025-06-19T19:49:19.550432Z"
    }
   },
   "outputs": [
    {
     "name": "stdout",
     "output_type": "stream",
     "text": [
      "  1 273 {'name': 'LCM ALLIANCE LLP', 'degree': 273, 'count': 273, 'volume': 864872099.2599998, 'credits': 856428392.2599998, 'debits': 8443707.0, 'balance': 847984685.26, 'rank': 0.0039}\n",
      "  3 134 {'name': 'METASTAR INVEST LLP', 'degree': 134, 'count': 134, 'volume': 429629674.48999995, 'credits': 355769076.48999995, 'debits': 73860598.0, 'balance': 281908478.49, 'rank': 0.0028}\n",
      "302  61 {'name': 'HILUX SERVICES LP', 'degree': 61, 'count': 61, 'volume': 1586775234.5099998, 'credits': 1506708859.3299997, 'debits': 80066375.18, 'balance': 1426642484.15, 'rank': 0.0011}\n",
      "298  20 {'name': 'POLUX MANAGEMENT LP', 'degree': 20, 'count': 20, 'volume': 356302899.13, 'credits': 337737855.13, 'debits': 18565044.0, 'balance': 319172811.13, 'rank': 0.0011}\n",
      " 17   4 {'name': 'GLOBECOM TRADE L.P', 'degree': 4, 'count': 4, 'volume': 15608252.0, 'credits': 0, 'debits': 15608252.0, 'balance': -15608252.0, 'rank': 0.0}\n",
      " 66   4 {'name': 'RIVERLANE LLP', 'degree': 4, 'count': 4, 'volume': 82016410.99000001, 'credits': 0, 'debits': 82016410.99000001, 'balance': -82016410.99, 'rank': 0.0}\n",
      "  7   3 {'name': 'DANSKE BANK A/S EESTI FILIAAL', 'degree': 3, 'count': 3, 'volume': 4800552.32, 'credits': 0, 'debits': 4800552.32, 'balance': -4800552.32, 'rank': 0.0}\n",
      " 11   3 {'name': 'DEUTDEFFXXX', 'degree': 3, 'count': 3, 'volume': 3260845.29, 'credits': 0, 'debits': 3260845.29, 'balance': -3260845.29, 'rank': 0.0}\n",
      "107   3 {'name': 'WILLROCK UNITED LLP', 'degree': 3, 'count': 3, 'volume': 15501000.0, 'credits': 0, 'debits': 15501000.0, 'balance': -15501000.0, 'rank': 0.0}\n",
      "170   3 {'name': 'MOLONEY TRADE LLP', 'degree': 3, 'count': 3, 'volume': 15548305.0, 'credits': 0, 'debits': 15548305.0, 'balance': -15548305.0, 'rank': 0.0}\n",
      "375   3 {'name': 'REDPARK SALES CORP', 'degree': 3, 'count': 3, 'volume': 2236020.0, 'credits': 0, 'debits': 2236020.0, 'balance': -2236020.0, 'rank': 0.0}\n"
     ]
    }
   ],
   "source": [
    "for node_id, degree in sorted(nx.degree(graph), key = lambda x: x[1], reverse = True):\n",
    "    if degree >= 3:\n",
    "        print(f\"{node_id:3} {degree:3}\", graph.nodes[node_id])"
   ]
  },
  {
   "cell_type": "code",
   "execution_count": 34,
   "id": "6d1e4407-fd7c-4826-81b3-70896b30fb5c",
   "metadata": {
    "execution": {
     "iopub.execute_input": "2025-06-19T19:49:20.228975Z",
     "iopub.status.busy": "2025-06-19T19:49:20.228418Z",
     "iopub.status.idle": "2025-06-19T19:49:20.354924Z",
     "shell.execute_reply": "2025-06-19T19:49:20.354665Z",
     "shell.execute_reply.started": "2025-06-19T19:49:20.228937Z"
    }
   },
   "outputs": [
    {
     "data": {
      "image/png": "[encoded data removed]",
      "text/plain": [
       "<Figure size 500x200 with 1 Axes>"
      ]
     },
     "metadata": {},
     "output_type": "display_data"
    }
   ],
   "source": [
    "fig, ax = plt.subplots(figsize = (5, 2))\n",
    "plt.rcParams[\"font.family\"] = \"sans-serif\"\n",
    "\n",
    "y = sns.histplot(node_degree)\n",
    "y.tick_params(axis = \"y\", size = 9, colors = \"gray\")\n",
    "y.bar_label(y.containers[0], padding = 3, color = \"gray\", fontsize = 7)\n",
    "\n",
    "plt.xlabel(\"node degree\", size = 10, fontstyle = \"italic\")\n",
    "plt.ylabel(\"count\", size = 10, fontstyle = \"italic\")\n",
    "\n",
    "sns.despine(bottom = True, left = True)\n",
    "plt.yscale(\"log\")\n",
    "\n",
    "plt.legend([], [], frameon = False);"
   ]
  },
  {
   "cell_type": "markdown",
   "id": "27f2e17f-98f3-4db1-ba85-ee617ad2d5bf",
   "metadata": {
    "execution": {
     "iopub.execute_input": "2025-02-23T18:34:27.165856Z",
     "iopub.status.busy": "2025-02-23T18:34:27.165546Z",
     "iopub.status.idle": "2025-02-23T18:34:27.170653Z",
     "shell.execute_reply": "2025-02-23T18:34:27.169993Z",
     "shell.execute_reply.started": "2025-02-23T18:34:27.165838Z"
    }
   },
   "source": [
    "insights:\n",
    "\n",
    "  * a sparse directed graph with cycles\n",
    "  * not wide, `diameter = 4`\n",
    "  * power law distribution on node degree"
   ]
  },
  {
   "cell_type": "markdown",
   "id": "07686732-0a93-47de-9f98-1f1277489030",
   "metadata": {},
   "source": [
    "## components and paths"
   ]
  },
  {
   "cell_type": "code",
   "execution_count": 35,
   "id": "04eccdd0-ca3f-413a-8d14-737726c8f431",
   "metadata": {
    "execution": {
     "iopub.execute_input": "2025-06-19T19:49:22.063381Z",
     "iopub.status.busy": "2025-06-19T19:49:22.063127Z",
     "iopub.status.idle": "2025-06-19T19:49:22.071043Z",
     "shell.execute_reply": "2025-06-19T19:49:22.070593Z",
     "shell.execute_reply.started": "2025-06-19T19:49:22.063366Z"
    }
   },
   "outputs": [
    {
     "name": "stdout",
     "output_type": "stream",
     "text": [
      "{0, 1, 2, 3, 4, 5, 6, 7, 8, 9, 10, 11, 12, 13, 14, 15, 16, 17, 18, 19, 20, 21, 22, 23, 24, 25, 26, 27, 28, 29, 30, 31, 32, 33, 34, 35, 36, 37, 38, 39, 40, 41, 42, 43, 44, 45, 46, 47, 48, 49, 50, 51, 52, 53, 54, 55, 56, 57, 58, 59, 60, 61, 62, 63, 64, 65, 66, 67, 68, 69, 70, 71, 72, 73, 74, 75, 76, 77, 78, 79, 80, 81, 82, 83, 84, 85, 86, 87, 88, 89, 90, 91, 92, 93, 94, 95, 96, 97, 98, 99, 100, 101, 102, 103, 104, 105, 106, 107, 108, 109, 110, 111, 112, 113, 114, 115, 116, 117, 118, 119, 120, 121, 122, 123, 124, 125, 126, 127, 128, 129, 130, 131, 132, 133, 134, 135, 136, 137, 138, 139, 140, 141, 142, 143, 144, 145, 146, 147, 148, 149, 150, 151, 152, 153, 154, 155, 156, 157, 158, 159, 160, 161, 162, 163, 164, 165, 166, 167, 168, 169, 170, 171, 172, 173, 174, 175, 176, 177, 178, 179, 180, 181, 182, 183, 184, 185, 186, 187, 188, 189, 190, 191, 192, 193, 194, 195, 196, 197, 198, 199, 200, 201, 202, 203, 204, 205, 206, 207, 208, 209, 210, 211, 212, 213, 214, 215, 216, 217, 218, 219, 220, 221, 222, 223, 224, 225, 226, 227, 228, 229, 230, 231, 232, 233, 234, 235, 236, 237, 238, 239, 240, 241, 242, 243, 244, 245, 246, 247, 248, 249, 250, 251, 252, 253, 254, 255, 256, 257, 258, 259, 260, 261, 262, 263, 264, 265, 266, 267, 268, 269, 270, 271, 272, 273, 274, 275, 276, 277, 278, 279, 280, 281, 282, 283, 284, 285, 286, 287, 288, 289, 290, 291, 292, 293, 294, 295, 296, 297, 298, 299, 300, 301, 302, 303, 304, 305, 306, 307, 308, 309, 310, 311, 312, 313, 314, 315, 316, 317, 318, 319, 320, 321, 322, 323, 324, 325, 326, 327, 328, 329, 330, 331, 332, 333, 334, 335, 336, 337, 338, 339, 340, 341, 342, 343, 344, 345, 346, 347, 348, 349, 350, 351, 352, 353, 354, 355, 356, 357, 358, 359, 360, 361, 362, 363, 364, 365, 366, 367, 368, 369, 370, 371, 372, 373, 374, 375, 376, 377, 378, 379, 380, 381, 382, 383, 384, 385, 386, 387, 388, 389, 390, 391, 392, 393, 394, 395, 396, 397, 398, 399, 400, 401, 402, 403, 404, 405, 406, 407, 408, 409, 410, 411, 412, 413, 414, 415, 416, 417, 418, 419, 420, 421, 422, 423, 424, 425, 426, 427, 428, 429, 430, 431, 432, 433, 434, 435, 436}\n"
     ]
    }
   ],
   "source": [
    "for clique in nx.connected_components(graph.to_undirected()):\n",
    "    print(clique)"
   ]
  },
  {
   "cell_type": "code",
   "execution_count": 36,
   "id": "cf3d5a86-27d4-4a26-a9ae-685b801b033a",
   "metadata": {
    "execution": {
     "iopub.execute_input": "2025-06-19T19:49:23.099832Z",
     "iopub.status.busy": "2025-06-19T19:49:23.099420Z",
     "iopub.status.idle": "2025-06-19T19:49:23.106499Z",
     "shell.execute_reply": "2025-06-19T19:49:23.105671Z",
     "shell.execute_reply.started": "2025-06-19T19:49:23.099804Z"
    }
   },
   "outputs": [
    {
     "data": {
      "text/plain": [
       "435"
      ]
     },
     "execution_count": 36,
     "metadata": {},
     "output_type": "execute_result"
    }
   ],
   "source": [
    "len(list(nx.strongly_connected_components(graph)))"
   ]
  },
  {
   "cell_type": "code",
   "execution_count": 37,
   "id": "faa9f7c2-7b6e-472d-b013-3ceb2e7c4f62",
   "metadata": {
    "execution": {
     "iopub.execute_input": "2025-06-19T19:49:23.807157Z",
     "iopub.status.busy": "2025-06-19T19:49:23.806534Z",
     "iopub.status.idle": "2025-06-19T19:49:23.815887Z",
     "shell.execute_reply": "2025-06-19T19:49:23.815036Z",
     "shell.execute_reply.started": "2025-06-19T19:49:23.807117Z"
    }
   },
   "outputs": [
    {
     "name": "stdout",
     "output_type": "stream",
     "text": [
      "\n",
      " {1, 3}\n",
      "  1 LCM ALLIANCE LLP\n",
      "  3 METASTAR INVEST LLP\n",
      "\n",
      " {298, 302}\n",
      "298 POLUX MANAGEMENT LP\n",
      "302 HILUX SERVICES LP\n"
     ]
    }
   ],
   "source": [
    "strong_edges: list = []\n",
    "\n",
    "for clique in nx.strongly_connected_components(graph):\n",
    "    if len(clique) > 1:\n",
    "        strong_edges.append(sorted(list(clique)))\n",
    "        print(\"\\n\", clique)\n",
    "\n",
    "        for node_id in clique:\n",
    "            dat: dict = graph.nodes[node_id]\n",
    "            print(f\"{node_id:3}\", dat[\"name\"])"
   ]
  },
  {
   "cell_type": "code",
   "execution_count": 38,
   "id": "ea07af77-f5f4-4ff3-8c24-75c5e973f11a",
   "metadata": {
    "execution": {
     "iopub.execute_input": "2025-06-19T19:49:24.423314Z",
     "iopub.status.busy": "2025-06-19T19:49:24.422657Z",
     "iopub.status.idle": "2025-06-19T19:49:24.516128Z",
     "shell.execute_reply": "2025-06-19T19:49:24.515525Z",
     "shell.execute_reply.started": "2025-06-19T19:49:24.423258Z"
    }
   },
   "outputs": [],
   "source": [
    "path_counts: typing.List[ int ] = [\n",
    "    len(path[1]) + 1\n",
    "    for path in nx.all_pairs_all_shortest_paths(graph)\n",
    "]"
   ]
  },
  {
   "cell_type": "code",
   "execution_count": 39,
   "id": "a3131783-74bb-457c-b4a1-db045e2e8c89",
   "metadata": {
    "execution": {
     "iopub.execute_input": "2025-06-19T19:49:25.254032Z",
     "iopub.status.busy": "2025-06-19T19:49:25.253379Z",
     "iopub.status.idle": "2025-06-19T19:49:25.367394Z",
     "shell.execute_reply": "2025-06-19T19:49:25.367153Z",
     "shell.execute_reply.started": "2025-06-19T19:49:25.253986Z"
    },
    "scrolled": true
   },
   "outputs": [
    {
     "data": {
      "image/png": "[encoded data removed]",
      "text/plain": [
       "<Figure size 400x150 with 1 Axes>"
      ]
     },
     "metadata": {},
     "output_type": "display_data"
    }
   ],
   "source": [
    "fig, ax = plt.subplots(figsize = (4, 1.5))\n",
    "plt.rcParams[\"font.family\"] = \"sans-serif\"\n",
    "\n",
    "y = sns.histplot(path_counts)\n",
    "y.tick_params(axis = \"y\", size = 9, colors = \"gray\")\n",
    "y.bar_label(y.containers[0], padding = 3, color = \"gray\", fontsize = 7)\n",
    "\n",
    "plt.xlabel(\"path length\", size = 10, fontstyle = \"italic\")\n",
    "plt.ylabel(\"count\", size = 10, fontstyle = \"italic\")\n",
    "\n",
    "plt.axvline(x = statistics.median(path_counts), color = \"red\", lw = 5, alpha = 0.3)\n",
    "\n",
    "plt.gca().xaxis.set_major_formatter(FuncFormatter(lambda x, _: int(x)))\n",
    "y.set(xticks = range(min(path_counts), max(path_counts) + 1))\n",
    "\n",
    "sns.despine(bottom = True, left = True)\n",
    "plt.yscale(\"log\")\n",
    "\n",
    "plt.legend([], [], frameon = False);"
   ]
  },
  {
   "cell_type": "markdown",
   "id": "27b89ca4-e0f5-4f90-a891-18496f909b43",
   "metadata": {},
   "source": [
    "insights:\n",
    "\n",
    "  * fully connected graph, `avg path length = 4`\n",
    "  * 2 strongly connected components, among pairs of the \"drain\" shell companies"
   ]
  },
  {
   "cell_type": "markdown",
   "id": "e3b6bc9b-3020-43d7-afd4-f738ef92f2d4",
   "metadata": {},
   "source": [
    "## flow analysis"
   ]
  },
  {
   "cell_type": "code",
   "execution_count": 40,
   "id": "d5832592-44ff-4e92-a8a0-7bdc38c83260",
   "metadata": {
    "execution": {
     "iopub.execute_input": "2025-06-19T19:49:27.263477Z",
     "iopub.status.busy": "2025-06-19T19:49:27.263136Z",
     "iopub.status.idle": "2025-06-19T19:49:27.275502Z",
     "shell.execute_reply": "2025-06-19T19:49:27.275145Z",
     "shell.execute_reply.started": "2025-06-19T19:49:27.263462Z"
    }
   },
   "outputs": [
    {
     "data": {
      "text/plain": [
       "0.9896265560165975"
      ]
     },
     "execution_count": 40,
     "metadata": {},
     "output_type": "execute_result"
    }
   ],
   "source": [
    "nx.flow_hierarchy(graph)"
   ]
  },
  {
   "cell_type": "markdown",
   "id": "66722ff6-712b-448d-9335-1f40b676c9ad",
   "metadata": {},
   "source": [
    "since most of the nodes are on the periphery, what's happening in-between them?"
   ]
  },
  {
   "cell_type": "code",
   "execution_count": 41,
   "id": "a62ba335-b535-4710-969f-a765549a5855",
   "metadata": {
    "execution": {
     "iopub.execute_input": "2025-06-19T19:49:28.212060Z",
     "iopub.status.busy": "2025-06-19T19:49:28.211400Z",
     "iopub.status.idle": "2025-06-19T19:49:28.269663Z",
     "shell.execute_reply": "2025-06-19T19:49:28.269211Z",
     "shell.execute_reply.started": "2025-06-19T19:49:28.212001Z"
    }
   },
   "outputs": [
    {
     "name": "stdout",
     "output_type": "stream",
     "text": [
      "17 {'name': 'GLOBECOM TRADE L.P', 'degree': 4, 'count': 4, 'volume': 15608252.0, 'credits': 0, 'debits': 15608252.0, 'balance': -15608252.0, 'rank': 0.0}\n",
      "66 {'name': 'RIVERLANE LLP', 'degree': 4, 'count': 4, 'volume': 82016410.99000001, 'credits': 0, 'debits': 82016410.99000001, 'balance': -82016410.99, 'rank': 0.0}\n"
     ]
    }
   ],
   "source": [
    "for node_id in nx.center(graph.to_undirected()):\n",
    "    print(node_id, graph.nodes[node_id])"
   ]
  },
  {
   "cell_type": "code",
   "execution_count": 42,
   "id": "dbfbe667-db85-4fbe-a5d8-981721efaf36",
   "metadata": {
    "execution": {
     "iopub.execute_input": "2025-06-19T19:49:28.753243Z",
     "iopub.status.busy": "2025-06-19T19:49:28.752615Z",
     "iopub.status.idle": "2025-06-19T19:49:28.879001Z",
     "shell.execute_reply": "2025-06-19T19:49:28.878706Z",
     "shell.execute_reply.started": "2025-06-19T19:49:28.753201Z"
    }
   },
   "outputs": [
    {
     "name": "stderr",
     "output_type": "stream",
     "text": [
      "ic| neg_bal: 423, pos_bal: 0, zed_bal: 0\n"
     ]
    }
   ],
   "source": [
    "neg_bal: int = 0  # sources\n",
    "pos_bal: int = 0  # drains\n",
    "zed_bal: int = 0  # conduits\n",
    "\n",
    "for node_id in nx.periphery(graph.to_undirected()):\n",
    "    dat: dict = graph.nodes[node_id]\n",
    "\n",
    "    if dat[\"balance\"] < 0:\n",
    "        neg_bal += 1\n",
    "    elif dat[\"balance\"] > 0:\n",
    "        pos_bal += 1\n",
    "    else:\n",
    "        zed_bal += 1\n",
    "\n",
    "ic(neg_bal, pos_bal, zed_bal);"
   ]
  },
  {
   "cell_type": "code",
   "execution_count": 43,
   "id": "590be1f0-9872-4c40-a307-630e0f306c40",
   "metadata": {
    "execution": {
     "iopub.execute_input": "2025-06-19T19:49:29.498720Z",
     "iopub.status.busy": "2025-06-19T19:49:29.497985Z",
     "iopub.status.idle": "2025-06-19T19:49:29.503763Z",
     "shell.execute_reply": "2025-06-19T19:49:29.503026Z",
     "shell.execute_reply.started": "2025-06-19T19:49:29.498682Z"
    }
   },
   "outputs": [
    {
     "data": {
      "text/plain": [
       "437"
      ]
     },
     "execution_count": 43,
     "metadata": {},
     "output_type": "execute_result"
    }
   ],
   "source": [
    "len(graph.nodes)"
   ]
  },
  {
   "cell_type": "code",
   "execution_count": 44,
   "id": "d4914c31-2670-43cc-ae97-9926794927c4",
   "metadata": {
    "execution": {
     "iopub.execute_input": "2025-06-19T19:49:29.943986Z",
     "iopub.status.busy": "2025-06-19T19:49:29.943551Z",
     "iopub.status.idle": "2025-06-19T19:49:29.995210Z",
     "shell.execute_reply": "2025-06-19T19:49:29.994657Z",
     "shell.execute_reply.started": "2025-06-19T19:49:29.943962Z"
    }
   },
   "outputs": [
    {
     "data": {
      "text/plain": [
       "423"
      ]
     },
     "execution_count": 44,
     "metadata": {},
     "output_type": "execute_result"
    }
   ],
   "source": [
    "len(list(nx.periphery(graph.to_undirected())))"
   ]
  },
  {
   "cell_type": "code",
   "execution_count": 45,
   "id": "6129dbe8-3e18-4c3d-aed3-7e357483e213",
   "metadata": {
    "execution": {
     "iopub.execute_input": "2025-06-19T19:49:30.828704Z",
     "iopub.status.busy": "2025-06-19T19:49:30.828061Z",
     "iopub.status.idle": "2025-06-19T19:49:30.887880Z",
     "shell.execute_reply": "2025-06-19T19:49:30.887410Z",
     "shell.execute_reply.started": "2025-06-19T19:49:30.828655Z"
    }
   },
   "outputs": [
    {
     "name": "stdout",
     "output_type": "stream",
     "text": [
      "  1 {'name': 'LCM ALLIANCE LLP', 'degree': 273, 'count': 273, 'volume': 864872099.2599998, 'credits': 856428392.2599998, 'debits': 8443707.0, 'balance': 847984685.26, 'rank': 0.0039}\n",
      "  3 {'name': 'METASTAR INVEST LLP', 'degree': 134, 'count': 134, 'volume': 429629674.48999995, 'credits': 355769076.48999995, 'debits': 73860598.0, 'balance': 281908478.49, 'rank': 0.0028}\n",
      "298 {'name': 'POLUX MANAGEMENT LP', 'degree': 20, 'count': 20, 'volume': 356302899.13, 'credits': 337737855.13, 'debits': 18565044.0, 'balance': 319172811.13, 'rank': 0.0011}\n",
      "302 {'name': 'HILUX SERVICES LP', 'degree': 61, 'count': 61, 'volume': 1586775234.5099998, 'credits': 1506708859.3299997, 'debits': 80066375.18, 'balance': 1426642484.15, 'rank': 0.0011}\n",
      " 66 {'name': 'RIVERLANE LLP', 'degree': 4, 'count': 4, 'volume': 82016410.99000001, 'credits': 0, 'debits': 82016410.99000001, 'balance': -82016410.99, 'rank': 0.0}\n",
      "  7 {'name': 'DANSKE BANK A/S EESTI FILIAAL', 'degree': 3, 'count': 3, 'volume': 4800552.32, 'credits': 0, 'debits': 4800552.32, 'balance': -4800552.32, 'rank': 0.0}\n",
      "170 {'name': 'MOLONEY TRADE LLP', 'degree': 3, 'count': 3, 'volume': 15548305.0, 'credits': 0, 'debits': 15548305.0, 'balance': -15548305.0, 'rank': 0.0}\n",
      " 11 {'name': 'DEUTDEFFXXX', 'degree': 3, 'count': 3, 'volume': 3260845.29, 'credits': 0, 'debits': 3260845.29, 'balance': -3260845.29, 'rank': 0.0}\n",
      "107 {'name': 'WILLROCK UNITED LLP', 'degree': 3, 'count': 3, 'volume': 15501000.0, 'credits': 0, 'debits': 15501000.0, 'balance': -15501000.0, 'rank': 0.0}\n",
      "205 {'name': 'HARDWARE SYSTEM LLP', 'degree': 2, 'count': 2, 'volume': 2163508.0, 'credits': 0, 'debits': 2163508.0, 'balance': -2163508.0, 'rank': 0.0}\n",
      " 17 {'name': 'GLOBECOM TRADE L.P', 'degree': 4, 'count': 4, 'volume': 15608252.0, 'credits': 0, 'debits': 15608252.0, 'balance': -15608252.0, 'rank': 0.0}\n",
      "241 {'name': 'BONDWEST LLP', 'degree': 2, 'count': 2, 'volume': 7210000.0, 'credits': 0, 'debits': 7210000.0, 'balance': -7210000.0, 'rank': 0.0}\n",
      "147 {'name': 'DELFRONT IMPORT LLP', 'degree': 2, 'count': 2, 'volume': 18955446.0, 'credits': 0, 'debits': 18955446.0, 'balance': -18955446.0, 'rank': 0.0}\n",
      "375 {'name': 'REDPARK SALES CORP', 'degree': 3, 'count': 3, 'volume': 2236020.0, 'credits': 0, 'debits': 2236020.0, 'balance': -2236020.0, 'rank': 0.0}\n"
     ]
    }
   ],
   "source": [
    "non_periph: set = set(graph.nodes) - set(nx.periphery(graph.to_undirected()))\n",
    "\n",
    "details: dict = {\n",
    "    node_id: graph.nodes[node_id]\n",
    "    for node_id in non_periph\n",
    "}\n",
    "\n",
    "for node_id, dat in sorted(details.items(), key = lambda pair: pair[1][\"rank\"], reverse = True):\n",
    "    print(f\"{node_id:3}\", dat)"
   ]
  },
  {
   "cell_type": "markdown",
   "id": "57a9d17e-3aac-41e2-bad6-6ddb50b025be",
   "metadata": {},
   "source": [
    "let's keep track of these intermediary nodes in particular, which don't rank as high in centrality -- what is flowing through them?"
   ]
  },
  {
   "cell_type": "code",
   "execution_count": 46,
   "id": "b27368e5-6839-4d1b-9fad-5613e103de90",
   "metadata": {
    "execution": {
     "iopub.execute_input": "2025-06-19T19:49:31.801618Z",
     "iopub.status.busy": "2025-06-19T19:49:31.801282Z",
     "iopub.status.idle": "2025-06-19T19:49:31.805014Z",
     "shell.execute_reply": "2025-06-19T19:49:31.804255Z",
     "shell.execute_reply.started": "2025-06-19T19:49:31.801598Z"
    }
   },
   "outputs": [],
   "source": [
    "intermed: typing.Set[ int ] = non_periph - set([ 1, 302, 298, 3, ])"
   ]
  },
  {
   "cell_type": "markdown",
   "id": "04b7bb4c-ce5a-4113-ab40-e0c975884ee1",
   "metadata": {},
   "source": [
    "insights:\n",
    "\n",
    "  * nodes in the periphery are \"sources\" (negative balance) and none are \"drains\" (end with a positive balance)\n",
    "\n",
    "  * 10 intermediary nodes don't rank as high in centrality as the 4 \"drain\" shell companies mentioned in the investigative journalism articles\n",
    "     * these 10 are in the computed \"center\" of the graph\n",
    "     * what patterns of transactions flow through these?"
   ]
  },
  {
   "cell_type": "markdown",
   "id": "44a18916-c7b0-413c-af3e-d3e7580e8276",
   "metadata": {},
   "source": [
    "## directed flows"
   ]
  },
  {
   "cell_type": "code",
   "execution_count": 47,
   "id": "f41e0d69-009e-4298-954f-2660e558b9cb",
   "metadata": {
    "execution": {
     "iopub.execute_input": "2025-06-19T19:49:33.949099Z",
     "iopub.status.busy": "2025-06-19T19:49:33.948822Z",
     "iopub.status.idle": "2025-06-19T19:49:33.952826Z",
     "shell.execute_reply": "2025-06-19T19:49:33.952413Z",
     "shell.execute_reply.started": "2025-06-19T19:49:33.949081Z"
    }
   },
   "outputs": [
    {
     "name": "stdout",
     "output_type": "stream",
     "text": [
      "272 in degree   1 LCM ALLIANCE LLP\n",
      "132 in degree   3 METASTAR INVEST LLP\n",
      " 18 in degree 298 POLUX MANAGEMENT LP\n",
      " 60 in degree 302 HILUX SERVICES LP\n"
     ]
    }
   ],
   "source": [
    "for node_id in graph.nodes():\n",
    "    deg: int = graph.in_degree(node_id)\n",
    "\n",
    "    if deg > 0:\n",
    "        dat = graph.nodes[node_id]\n",
    "        print(f\"{deg:3} in degree {node_id:3}\", dat[\"name\"])"
   ]
  },
  {
   "cell_type": "code",
   "execution_count": 48,
   "id": "92c0b413-5a80-4fe7-bfb5-e634dae843ed",
   "metadata": {
    "execution": {
     "iopub.execute_input": "2025-06-19T19:49:34.481158Z",
     "iopub.status.busy": "2025-06-19T19:49:34.480696Z",
     "iopub.status.idle": "2025-06-19T19:49:34.486975Z",
     "shell.execute_reply": "2025-06-19T19:49:34.485914Z",
     "shell.execute_reply.started": "2025-06-19T19:49:34.481126Z"
    }
   },
   "outputs": [],
   "source": [
    "for node_id in graph.nodes():\n",
    "    deg: int = graph.out_degree(node_id)\n",
    "    graph.nodes[node_id][\"out_deg\"] = deg"
   ]
  },
  {
   "cell_type": "markdown",
   "id": "f9864db7-04ed-471c-a839-39c3b48a7ac3",
   "metadata": {},
   "source": [
    "label the \"role\" for each node"
   ]
  },
  {
   "cell_type": "code",
   "execution_count": 49,
   "id": "b24e73b8-3ecd-45c9-add0-3ac0c094939b",
   "metadata": {
    "execution": {
     "iopub.execute_input": "2025-06-19T19:49:35.692532Z",
     "iopub.status.busy": "2025-06-19T19:49:35.692175Z",
     "iopub.status.idle": "2025-06-19T19:49:35.697383Z",
     "shell.execute_reply": "2025-06-19T19:49:35.696753Z",
     "shell.execute_reply.started": "2025-06-19T19:49:35.692513Z"
    }
   },
   "outputs": [],
   "source": [
    "for node_id in graph.nodes():\n",
    "    if graph.in_degree(node_id) > 0:\n",
    "        graph.nodes[node_id][\"role\"] = \"drain\"\n",
    "    elif graph.out_degree(node_id) > 1:\n",
    "        graph.nodes[node_id][\"role\"] = \"multi-source\"\n",
    "    elif graph.nodes[node_id][\"balance\"] < 0:\n",
    "        graph.nodes[node_id][\"role\"] = \"source\""
   ]
  },
  {
   "cell_type": "code",
   "execution_count": 50,
   "id": "93be74bd-bb87-4570-85c3-97cbd0ebbdee",
   "metadata": {
    "execution": {
     "iopub.execute_input": "2025-06-19T19:49:36.298202Z",
     "iopub.status.busy": "2025-06-19T19:49:36.297597Z",
     "iopub.status.idle": "2025-06-19T19:49:36.319062Z",
     "shell.execute_reply": "2025-06-19T19:49:36.318178Z",
     "shell.execute_reply.started": "2025-06-19T19:49:36.298163Z"
    }
   },
   "outputs": [
    {
     "data": {
      "text/html": [
       "<div>\n",
       "<style scoped>\n",
       "    .dataframe tbody tr th:only-of-type {\n",
       "        vertical-align: middle;\n",
       "    }\n",
       "\n",
       "    .dataframe tbody tr th {\n",
       "        vertical-align: top;\n",
       "    }\n",
       "\n",
       "    .dataframe thead th {\n",
       "        text-align: right;\n",
       "    }\n",
       "</style>\n",
       "<table border=\"1\" class=\"dataframe\">\n",
       "  <thead>\n",
       "    <tr style=\"text-align: right;\">\n",
       "      <th></th>\n",
       "      <th>node_id</th>\n",
       "      <th>name</th>\n",
       "      <th>role</th>\n",
       "      <th>out_deg</th>\n",
       "      <th>balance</th>\n",
       "      <th>count</th>\n",
       "      <th>volume</th>\n",
       "      <th>credits</th>\n",
       "      <th>debits</th>\n",
       "    </tr>\n",
       "  </thead>\n",
       "  <tbody>\n",
       "    <tr>\n",
       "      <th>0</th>\n",
       "      <td>0</td>\n",
       "      <td>AZARBAYCAN METANOL KOMPANI MMC</td>\n",
       "      <td>source</td>\n",
       "      <td>1</td>\n",
       "      <td>-1.511916e+06</td>\n",
       "      <td>1</td>\n",
       "      <td>1.511916e+06</td>\n",
       "      <td>0.000000e+00</td>\n",
       "      <td>1511916.50</td>\n",
       "    </tr>\n",
       "    <tr>\n",
       "      <th>1</th>\n",
       "      <td>1</td>\n",
       "      <td>LCM ALLIANCE LLP</td>\n",
       "      <td>drain</td>\n",
       "      <td>1</td>\n",
       "      <td>8.479847e+08</td>\n",
       "      <td>273</td>\n",
       "      <td>8.648721e+08</td>\n",
       "      <td>8.564284e+08</td>\n",
       "      <td>8443707.00</td>\n",
       "    </tr>\n",
       "    <tr>\n",
       "      <th>2</th>\n",
       "      <td>2</td>\n",
       "      <td>SKN ELECTRICAL SERVICES LIMITEDACCO</td>\n",
       "      <td>source</td>\n",
       "      <td>1</td>\n",
       "      <td>-1.100632e+05</td>\n",
       "      <td>1</td>\n",
       "      <td>1.100632e+05</td>\n",
       "      <td>0.000000e+00</td>\n",
       "      <td>110063.19</td>\n",
       "    </tr>\n",
       "    <tr>\n",
       "      <th>3</th>\n",
       "      <td>3</td>\n",
       "      <td>METASTAR INVEST LLP</td>\n",
       "      <td>drain</td>\n",
       "      <td>2</td>\n",
       "      <td>2.819085e+08</td>\n",
       "      <td>134</td>\n",
       "      <td>4.296297e+08</td>\n",
       "      <td>3.557691e+08</td>\n",
       "      <td>73860598.00</td>\n",
       "    </tr>\n",
       "    <tr>\n",
       "      <th>4</th>\n",
       "      <td>4</td>\n",
       "      <td>INMAXO CAPITAL CORP.</td>\n",
       "      <td>source</td>\n",
       "      <td>1</td>\n",
       "      <td>-4.152311e+05</td>\n",
       "      <td>1</td>\n",
       "      <td>4.152311e+05</td>\n",
       "      <td>0.000000e+00</td>\n",
       "      <td>415231.08</td>\n",
       "    </tr>\n",
       "  </tbody>\n",
       "</table>\n",
       "</div>"
      ],
      "text/plain": [
       "   node_id                                 name    role  out_deg  \\\n",
       "0        0       AZARBAYCAN METANOL KOMPANI MMC  source        1   \n",
       "1        1                     LCM ALLIANCE LLP   drain        1   \n",
       "2        2  SKN ELECTRICAL SERVICES LIMITEDACCO  source        1   \n",
       "3        3                  METASTAR INVEST LLP   drain        2   \n",
       "4        4                 INMAXO CAPITAL CORP.  source        1   \n",
       "\n",
       "        balance  count        volume       credits       debits  \n",
       "0 -1.511916e+06      1  1.511916e+06  0.000000e+00   1511916.50  \n",
       "1  8.479847e+08    273  8.648721e+08  8.564284e+08   8443707.00  \n",
       "2 -1.100632e+05      1  1.100632e+05  0.000000e+00    110063.19  \n",
       "3  2.819085e+08    134  4.296297e+08  3.557691e+08  73860598.00  \n",
       "4 -4.152311e+05      1  4.152311e+05  0.000000e+00    415231.08  "
      ]
     },
     "execution_count": 50,
     "metadata": {},
     "output_type": "execute_result"
    }
   ],
   "source": [
    "flows_dat: list = [\n",
    "    {\n",
    "        \"node_id\": node_id,\n",
    "        \"name\": dat[\"name\"],\n",
    "        \"role\": dat[\"role\"],\n",
    "        \"out_deg\": dat[\"out_deg\"],\n",
    "        \"balance\": dat[\"balance\"],\n",
    "        \"count\": dat[\"count\"],\n",
    "        \"volume\": dat[\"volume\"],\n",
    "        \"credits\": dat[\"credits\"],\n",
    "        \"debits\": dat[\"debits\"],        \n",
    "    }\n",
    "    for node_id, dat in graph.nodes(data = True)\n",
    "    if dat[\"out_deg\"] > 0\n",
    "]\n",
    "\n",
    "df_flows: pd.DataFrame = pd.DataFrame.from_dict(\n",
    "    flows_dat,\n",
    "    orient = \"columns\"\n",
    ")\n",
    "\n",
    "df_flows.head()"
   ]
  },
  {
   "cell_type": "code",
   "execution_count": 51,
   "id": "004d3853-8fe3-4c51-adc8-f7c349c4586a",
   "metadata": {
    "execution": {
     "iopub.execute_input": "2025-06-19T19:49:36.789679Z",
     "iopub.status.busy": "2025-06-19T19:49:36.789068Z",
     "iopub.status.idle": "2025-06-19T19:49:36.822515Z",
     "shell.execute_reply": "2025-06-19T19:49:36.821790Z",
     "shell.execute_reply.started": "2025-06-19T19:49:36.789634Z"
    }
   },
   "outputs": [
    {
     "data": {
      "text/html": [
       "<div>\n",
       "<style scoped>\n",
       "    .dataframe tbody tr th:only-of-type {\n",
       "        vertical-align: middle;\n",
       "    }\n",
       "\n",
       "    .dataframe tbody tr th {\n",
       "        vertical-align: top;\n",
       "    }\n",
       "\n",
       "    .dataframe thead th {\n",
       "        text-align: right;\n",
       "    }\n",
       "</style>\n",
       "<table border=\"1\" class=\"dataframe\">\n",
       "  <thead>\n",
       "    <tr style=\"text-align: right;\">\n",
       "      <th></th>\n",
       "      <th>node_id</th>\n",
       "      <th>name</th>\n",
       "      <th>role</th>\n",
       "      <th>out_deg</th>\n",
       "      <th>balance</th>\n",
       "      <th>count</th>\n",
       "      <th>volume</th>\n",
       "      <th>credits</th>\n",
       "      <th>debits</th>\n",
       "    </tr>\n",
       "  </thead>\n",
       "  <tbody>\n",
       "    <tr>\n",
       "      <th>count</th>\n",
       "      <td>437.000000</td>\n",
       "      <td>437</td>\n",
       "      <td>437</td>\n",
       "      <td>437.000000</td>\n",
       "      <td>4.370000e+02</td>\n",
       "      <td>437.000000</td>\n",
       "      <td>4.370000e+02</td>\n",
       "      <td>4.370000e+02</td>\n",
       "      <td>4.370000e+02</td>\n",
       "    </tr>\n",
       "    <tr>\n",
       "      <th>mean</th>\n",
       "      <td>218.000000</td>\n",
       "      <td>NaN</td>\n",
       "      <td>NaN</td>\n",
       "      <td>1.102975</td>\n",
       "      <td>1.363951e-10</td>\n",
       "      <td>2.205950</td>\n",
       "      <td>1.398922e+07</td>\n",
       "      <td>6.994609e+06</td>\n",
       "      <td>6.994609e+06</td>\n",
       "    </tr>\n",
       "    <tr>\n",
       "      <th>min</th>\n",
       "      <td>0.000000</td>\n",
       "      <td>NaN</td>\n",
       "      <td>NaN</td>\n",
       "      <td>1.000000</td>\n",
       "      <td>-1.452793e+09</td>\n",
       "      <td>1.000000</td>\n",
       "      <td>6.600000e-01</td>\n",
       "      <td>0.000000e+00</td>\n",
       "      <td>6.600000e-01</td>\n",
       "    </tr>\n",
       "    <tr>\n",
       "      <th>max</th>\n",
       "      <td>436.000000</td>\n",
       "      <td>NaN</td>\n",
       "      <td>NaN</td>\n",
       "      <td>4.000000</td>\n",
       "      <td>1.426642e+09</td>\n",
       "      <td>273.000000</td>\n",
       "      <td>1.586775e+09</td>\n",
       "      <td>1.506709e+09</td>\n",
       "      <td>1.452793e+09</td>\n",
       "    </tr>\n",
       "    <tr>\n",
       "      <th>std</th>\n",
       "      <td>126.295289</td>\n",
       "      <td>NaN</td>\n",
       "      <td>NaN</td>\n",
       "      <td>0.378208</td>\n",
       "      <td>1.082390e+08</td>\n",
       "      <td>14.766024</td>\n",
       "      <td>1.139791e+08</td>\n",
       "      <td>8.597658e+07</td>\n",
       "      <td>7.043787e+07</td>\n",
       "    </tr>\n",
       "    <tr>\n",
       "      <th>freq</th>\n",
       "      <td>NaN</td>\n",
       "      <td>1</td>\n",
       "      <td>399</td>\n",
       "      <td>NaN</td>\n",
       "      <td>NaN</td>\n",
       "      <td>NaN</td>\n",
       "      <td>NaN</td>\n",
       "      <td>NaN</td>\n",
       "      <td>NaN</td>\n",
       "    </tr>\n",
       "    <tr>\n",
       "      <th>unique</th>\n",
       "      <td>NaN</td>\n",
       "      <td>437</td>\n",
       "      <td>3</td>\n",
       "      <td>NaN</td>\n",
       "      <td>NaN</td>\n",
       "      <td>NaN</td>\n",
       "      <td>NaN</td>\n",
       "      <td>NaN</td>\n",
       "      <td>NaN</td>\n",
       "    </tr>\n",
       "  </tbody>\n",
       "</table>\n",
       "</div>"
      ],
      "text/plain": [
       "           node_id name role     out_deg       balance       count  \\\n",
       "count   437.000000  437  437  437.000000  4.370000e+02  437.000000   \n",
       "mean    218.000000  NaN  NaN    1.102975  1.363951e-10    2.205950   \n",
       "min       0.000000  NaN  NaN    1.000000 -1.452793e+09    1.000000   \n",
       "max     436.000000  NaN  NaN    4.000000  1.426642e+09  273.000000   \n",
       "std     126.295289  NaN  NaN    0.378208  1.082390e+08   14.766024   \n",
       "freq           NaN    1  399         NaN           NaN         NaN   \n",
       "unique         NaN  437    3         NaN           NaN         NaN   \n",
       "\n",
       "              volume       credits        debits  \n",
       "count   4.370000e+02  4.370000e+02  4.370000e+02  \n",
       "mean    1.398922e+07  6.994609e+06  6.994609e+06  \n",
       "min     6.600000e-01  0.000000e+00  6.600000e-01  \n",
       "max     1.586775e+09  1.506709e+09  1.452793e+09  \n",
       "std     1.139791e+08  8.597658e+07  7.043787e+07  \n",
       "freq             NaN           NaN           NaN  \n",
       "unique           NaN           NaN           NaN  "
      ]
     },
     "execution_count": 51,
     "metadata": {},
     "output_type": "execute_result"
    }
   ],
   "source": [
    "df_flows.describe(include = \"all\").loc[[ \"count\", \"mean\", \"min\", \"max\", \"std\", \"freq\", \"unique\", ]]"
   ]
  },
  {
   "cell_type": "code",
   "execution_count": 52,
   "id": "cc74cfc3-3b6d-4032-8b2d-ccd7805e14fb",
   "metadata": {
    "execution": {
     "iopub.execute_input": "2025-06-19T19:49:37.313798Z",
     "iopub.status.busy": "2025-06-19T19:49:37.313355Z",
     "iopub.status.idle": "2025-06-19T19:49:37.321571Z",
     "shell.execute_reply": "2025-06-19T19:49:37.320844Z",
     "shell.execute_reply.started": "2025-06-19T19:49:37.313775Z"
    }
   },
   "outputs": [
    {
     "data": {
      "text/plain": [
       "role\n",
       "drain             4\n",
       "multi-source     34\n",
       "source          399\n",
       "Name: node_id, dtype: int64"
      ]
     },
     "execution_count": 52,
     "metadata": {},
     "output_type": "execute_result"
    }
   ],
   "source": [
    "df_flows.groupby([\"role\"]).count()[\"node_id\"]"
   ]
  },
  {
   "cell_type": "code",
   "execution_count": 53,
   "id": "dd3f9bc4-9c55-43e1-87d7-735f1dd97ffc",
   "metadata": {
    "execution": {
     "iopub.execute_input": "2025-06-19T19:49:37.789061Z",
     "iopub.status.busy": "2025-06-19T19:49:37.788586Z",
     "iopub.status.idle": "2025-06-19T19:49:37.966377Z",
     "shell.execute_reply": "2025-06-19T19:49:37.965997Z",
     "shell.execute_reply.started": "2025-06-19T19:49:37.789032Z"
    }
   },
   "outputs": [
    {
     "data": {
      "image/png": "[encoded data removed]",
      "text/plain": [
       "<Figure size 500x100 with 1 Axes>"
      ]
     },
     "metadata": {},
     "output_type": "display_data"
    }
   ],
   "source": [
    "dat = df_flows[\"out_deg\"].to_list()\n",
    "\n",
    "fig, ax = plt.subplots(figsize = (5, 1))\n",
    "plt.rcParams[\"font.family\"] = \"sans-serif\"\n",
    "\n",
    "y = sns.histplot(dat)\n",
    "y.tick_params(axis = \"y\", size = 9, colors = \"gray\")\n",
    "y.bar_label(y.containers[0], padding = 3, color = \"gray\", fontsize = 7)\n",
    "\n",
    "plt.xlabel(\"out degree\", size = 10, fontstyle = \"italic\")\n",
    "plt.ylabel(\"count\", size = 10, fontstyle = \"italic\")\n",
    "\n",
    "plt.gca().xaxis.set_major_formatter(FuncFormatter(lambda x, _: int(x)))\n",
    "y.set(xticks = range(min(dat), max(dat) + 1))\n",
    "\n",
    "sns.despine(bottom = True, left = True)\n",
    "plt.yscale(\"log\")\n",
    "\n",
    "plt.legend([], [], frameon = False);"
   ]
  },
  {
   "cell_type": "code",
   "execution_count": 54,
   "id": "b1e94937-89cc-4a50-9760-aad0fa10fbb2",
   "metadata": {
    "execution": {
     "iopub.execute_input": "2025-06-19T19:49:38.680673Z",
     "iopub.status.busy": "2025-06-19T19:49:38.680233Z",
     "iopub.status.idle": "2025-06-19T19:49:39.068062Z",
     "shell.execute_reply": "2025-06-19T19:49:39.067791Z",
     "shell.execute_reply.started": "2025-06-19T19:49:38.680647Z"
    }
   },
   "outputs": [
    {
     "data": {
      "image/png": "[encoded data removed]",
      "text/plain": [
       "<Figure size 500x600 with 1 Axes>"
      ]
     },
     "metadata": {},
     "output_type": "display_data"
    }
   ],
   "source": [
    "x: list = df_flows[\"out_deg\"].to_list()\n",
    "y: list = df_flows[\"balance\"].to_list()\n",
    "labels: list = df_flows[\"name\"].to_list()\n",
    "\n",
    "fig, ax = plt.subplots(figsize = (5, 6))\n",
    "plt.rcParams[\"font.family\"] = \"sans-serif\"\n",
    "\n",
    "sns.scatterplot(data = df_flows, x = \"out_deg\", y = \"balance\")\n",
    "\n",
    "for i, label in enumerate(labels):\n",
    "    plt.annotate(label, (x[i], y[i]), alpha = 0.3, fontsize = 7)\n",
    "\n",
    "plt.axhline(y = 0, color = \"red\", lw = 2, alpha = 0.2)\n",
    "\n",
    "plt.show()"
   ]
  },
  {
   "cell_type": "markdown",
   "id": "39f9080c-6133-4cb6-9eb7-1e03af4e1c8a",
   "metadata": {},
   "source": [
    "here are the shell companies which had more funds transferred out than transferred in"
   ]
  },
  {
   "cell_type": "code",
   "execution_count": 55,
   "id": "ffb30c07-5758-4b4b-ae24-80eb7f316309",
   "metadata": {
    "execution": {
     "iopub.execute_input": "2025-06-19T19:49:40.551533Z",
     "iopub.status.busy": "2025-06-19T19:49:40.551210Z",
     "iopub.status.idle": "2025-06-19T19:49:40.975981Z",
     "shell.execute_reply": "2025-06-19T19:49:40.975718Z",
     "shell.execute_reply.started": "2025-06-19T19:49:40.551509Z"
    },
    "scrolled": true
   },
   "outputs": [
    {
     "data": {
      "image/png": "[encoded data removed]",
      "text/plain": [
       "<Figure size 640x480 with 1 Axes>"
      ]
     },
     "metadata": {},
     "output_type": "display_data"
    }
   ],
   "source": [
    "x: list = df_flows[\"out_deg\"].to_list()\n",
    "y: list = df_flows[\"debits\"].to_list()\n",
    "labels: list = df_flows[\"name\"].to_list()\n",
    "\n",
    "sns.scatterplot(data = df_flows, x = \"out_deg\", y = \"debits\")\n",
    "\n",
    "for i, label in enumerate(labels):\n",
    "    plt.annotate(label, (x[i], y[i]), alpha = 0.3, fontsize = 7)\n",
    "\n",
    "plt.yscale(\"log\")\n",
    "plt.show()"
   ]
  },
  {
   "cell_type": "code",
   "execution_count": 56,
   "id": "a31a8670-d576-4778-be16-377fe966843b",
   "metadata": {
    "execution": {
     "iopub.execute_input": "2025-06-19T19:49:42.044099Z",
     "iopub.status.busy": "2025-06-19T19:49:42.043463Z",
     "iopub.status.idle": "2025-06-19T19:49:42.154342Z",
     "shell.execute_reply": "2025-06-19T19:49:42.154057Z",
     "shell.execute_reply.started": "2025-06-19T19:49:42.044057Z"
    }
   },
   "outputs": [
    {
     "data": {
      "image/png": "[encoded data removed]",
      "text/plain": [
       "<Figure size 500x600 with 1 Axes>"
      ]
     },
     "metadata": {},
     "output_type": "display_data"
    }
   ],
   "source": [
    "x: list = df_flows[\"count\"].to_list()\n",
    "y: list = df_flows[\"volume\"].to_list()\n",
    "labels: list = df_flows[\"name\"].to_list()\n",
    "\n",
    "fig, ax = plt.subplots(figsize = (5, 6))\n",
    "plt.rcParams[\"font.family\"] = \"sans-serif\"\n",
    "\n",
    "sns.scatterplot(data = df_flows, x = \"count\", y = \"volume\")\n",
    "\n",
    "for i, label in enumerate(labels):\n",
    "    if x[i] > 1:\n",
    "        plt.annotate(label, (x[i], y[i]), alpha = 0.3, fontsize = 7)\n",
    "\n",
    "plt.show()"
   ]
  },
  {
   "cell_type": "markdown",
   "id": "ea404d62-611d-466a-9887-5e61f7bbeeba",
   "metadata": {},
   "source": [
    "One lingering question: how much much was \"shuffled\" between the four \"drain\" shell companies, ostensibly in an effort to hide their operations?"
   ]
  },
  {
   "cell_type": "code",
   "execution_count": 57,
   "id": "f47e1d3d-d2d4-44ec-a7f6-8796f634c50b",
   "metadata": {
    "execution": {
     "iopub.execute_input": "2025-06-19T19:49:43.100392Z",
     "iopub.status.busy": "2025-06-19T19:49:43.099880Z",
     "iopub.status.idle": "2025-06-19T19:49:43.144504Z",
     "shell.execute_reply": "2025-06-19T19:49:43.144074Z",
     "shell.execute_reply.started": "2025-06-19T19:49:43.100355Z"
    }
   },
   "outputs": [
    {
     "name": "stderr",
     "output_type": "stream",
     "text": [
      "ic| end_balance: 2875708459.03\n",
      "ic| total_credits: 3056644183.209999\n",
      "ic| total_debits: 180935724.18\n",
      "ic| round(total_debits / total_credits, 3): 0.059\n"
     ]
    }
   ],
   "source": [
    "end_balance: float = float(df_flows.loc[df_flows[\"role\"] == \"drain\"][\"balance\"].sum())\n",
    "ic(end_balance);\n",
    "\n",
    "total_credits: float = float(df_flows.loc[df_flows[\"role\"] == \"drain\"][\"credits\"].sum())\n",
    "ic(total_credits);\n",
    "\n",
    "total_debits: float = float(df_flows.loc[df_flows[\"role\"] == \"drain\"][\"debits\"].sum())\n",
    "ic(total_debits);\n",
    "\n",
    "ic(round(total_debits / total_credits, 3));"
   ]
  },
  {
   "cell_type": "markdown",
   "id": "71c44436-0ed6-4aa6-a18a-0d19912dcd4f",
   "metadata": {},
   "source": [
    "insights:\n",
    "\n",
    "  * role \"source\" = 399\n",
    "  * role \"multi-source\" = 34\n",
    "  * role \"drain\" = 4\n",
    "  * the \"drain\" companies shuffled $181M (5.9%) between each other, ostensibly to conceal operations?"
   ]
  },
  {
   "cell_type": "markdown",
   "id": "d7426f50-3b74-4e67-9a8d-6e215bf49494",
   "metadata": {},
   "source": [
    "## serialize results"
   ]
  },
  {
   "cell_type": "code",
   "execution_count": 58,
   "id": "58a85cc0-6b70-4abf-9b66-47fda08e397b",
   "metadata": {
    "execution": {
     "iopub.execute_input": "2025-06-19T19:49:48.691156Z",
     "iopub.status.busy": "2025-06-19T19:49:48.690800Z",
     "iopub.status.idle": "2025-06-19T19:49:48.755805Z",
     "shell.execute_reply": "2025-06-19T19:49:48.755277Z",
     "shell.execute_reply.started": "2025-06-19T19:49:48.691131Z"
    }
   },
   "outputs": [
    {
     "ename": "TypeError",
     "evalue": "node_link_data() got an unexpected keyword argument 'edges'",
     "output_type": "error",
     "traceback": [
      "\u001b[0;31m---------------------------------------------------------------------------\u001b[0m",
      "\u001b[0;31mTypeError\u001b[0m                                 Traceback (most recent call last)",
      "Cell \u001b[0;32mIn[58], line 4\u001b[0m\n\u001b[1;32m      1\u001b[0m occrp_file: pathlib\u001b[38;5;241m.\u001b[39mPath \u001b[38;5;241m=\u001b[39m data_path \u001b[38;5;241m/\u001b[39m \u001b[38;5;124m\"\u001b[39m\u001b[38;5;124moccrp.json\u001b[39m\u001b[38;5;124m\"\u001b[39m\n\u001b[1;32m      3\u001b[0m \u001b[38;5;28;01mwith\u001b[39;00m \u001b[38;5;28mopen\u001b[39m(occrp_file, \u001b[38;5;124m\"\u001b[39m\u001b[38;5;124mw\u001b[39m\u001b[38;5;124m\"\u001b[39m) \u001b[38;5;28;01mas\u001b[39;00m fp:  \u001b[38;5;66;03m# pylint: disable=W1514                                                                                                    \u001b[39;00m\n\u001b[0;32m----> 4\u001b[0m     dat: \u001b[38;5;28mdict\u001b[39m \u001b[38;5;241m=\u001b[39m \u001b[43mnx\u001b[49m\u001b[38;5;241;43m.\u001b[39;49m\u001b[43mnode_link_data\u001b[49m\u001b[43m(\u001b[49m\n\u001b[1;32m      5\u001b[0m \u001b[43m        \u001b[49m\u001b[43mgraph\u001b[49m\u001b[43m,\u001b[49m\n\u001b[1;32m      6\u001b[0m \u001b[43m        \u001b[49m\u001b[43medges\u001b[49m\u001b[43m \u001b[49m\u001b[38;5;241;43m=\u001b[39;49m\u001b[43m \u001b[49m\u001b[38;5;124;43m\"\u001b[39;49m\u001b[38;5;124;43medges\u001b[39;49m\u001b[38;5;124;43m\"\u001b[39;49m\u001b[43m,\u001b[49m\u001b[43m \u001b[49m\u001b[38;5;66;43;03m# for forward compatibility                                                                                                          \u001b[39;49;00m\n\u001b[1;32m      7\u001b[0m \u001b[43m    \u001b[49m\u001b[43m)\u001b[49m\n\u001b[1;32m      9\u001b[0m     json\u001b[38;5;241m.\u001b[39mdump(\n\u001b[1;32m     10\u001b[0m         dat,\n\u001b[1;32m     11\u001b[0m         fp,\n\u001b[1;32m     12\u001b[0m         indent \u001b[38;5;241m=\u001b[39m \u001b[38;5;241m2\u001b[39m,\n\u001b[1;32m     13\u001b[0m         ensure_ascii \u001b[38;5;241m=\u001b[39m \u001b[38;5;28;01mFalse\u001b[39;00m,\n\u001b[1;32m     14\u001b[0m     )\n",
      "\u001b[0;31mTypeError\u001b[0m: node_link_data() got an unexpected keyword argument 'edges'"
     ]
    }
   ],
   "source": [
    "occrp_file: pathlib.Path = data_path / \"occrp.json\"\n",
    "\n",
    "with open(occrp_file, \"w\") as fp:  # pylint: disable=W1514                                                                                                    \n",
    "    dat: dict = nx.node_link_data(\n",
    "        graph,\n",
    "        edges = \"edges\", # for forward compatibility                                                                                                          \n",
    "    )\n",
    "\n",
    "    json.dump(\n",
    "        dat,\n",
    "        fp,\n",
    "        indent = 2,\n",
    "        ensure_ascii = False,\n",
    "    )"
   ]
  },
  {
   "cell_type": "markdown",
   "id": "431c83cc-99dc-4621-ab00-3208868cb45a",
   "metadata": {
    "collapsed": true,
    "execution": {
     "iopub.execute_input": "2025-02-22T18:05:25.422591Z",
     "iopub.status.busy": "2025-02-22T18:05:25.421835Z",
     "iopub.status.idle": "2025-02-22T18:05:25.431535Z",
     "shell.execute_reply": "2025-02-22T18:05:25.430982Z",
     "shell.execute_reply.started": "2025-02-22T18:05:25.422555Z"
    },
    "jupyter": {
     "outputs_hidden": true
    }
   },
   "source": [
    "## triadic census"
   ]
  },
  {
   "cell_type": "code",
   "execution_count": 59,
   "id": "dacd2eb0-4fe2-4282-9a40-585453141818",
   "metadata": {
    "execution": {
     "iopub.execute_input": "2025-06-19T19:49:49.814059Z",
     "iopub.status.busy": "2025-06-19T19:49:49.813609Z",
     "iopub.status.idle": "2025-06-19T19:49:49.930331Z",
     "shell.execute_reply": "2025-06-19T19:49:49.930065Z",
     "shell.execute_reply.started": "2025-06-19T19:49:49.814031Z"
    }
   },
   "outputs": [
    {
     "name": "stdout",
     "output_type": "stream",
     "text": [
      "triad   003: 13652536 occurrences\n",
      "triad   012:  113313 occurrences\n",
      "triad  021U:   46815 occurrences\n",
      "triad   102:     425 occurrences\n",
      "triad  111D:     411 occurrences\n",
      "triad  120D:      33 occurrences\n",
      "triad  021D:      19 occurrences\n",
      "triad  021C:      15 occurrences\n",
      "triad  030T:       2 occurrences\n",
      "triad  111U:       1 occurrences\n"
     ]
    }
   ],
   "source": [
    "for triad, occurrences in sorted(nx.triadic_census(graph).items(), key = lambda x: x[1], reverse = True):\n",
    "    if occurrences > 0:\n",
    "        print(f\"triad {triad:>5}: {occurrences:7d} occurrences\")"
   ]
  },
  {
   "cell_type": "markdown",
   "id": "f275b154-6320-4928-bfa4-89feb3fd1538",
   "metadata": {
    "execution": {
     "iopub.execute_input": "2025-02-22T23:57:23.373603Z",
     "iopub.status.busy": "2025-02-22T23:57:23.373208Z",
     "iopub.status.idle": "2025-02-22T23:57:23.378425Z",
     "shell.execute_reply": "2025-02-22T23:57:23.377409Z",
     "shell.execute_reply.started": "2025-02-22T23:57:23.373581Z"
    }
   },
   "source": [
    "<img\n",
    " src=\"https://figures.semanticscholar.org/6ebe86cdf25f3b58dd98dd9c1c00c3f5c2491734/2-Figure1-1.png\"\n",
    " style=\"height:500px\"\n",
    "/>"
   ]
  },
  {
   "cell_type": "markdown",
   "id": "7d625455-67d3-4d92-b4c6-8ecfdce20bfc",
   "metadata": {
    "jp-MarkdownHeadingCollapsed": true
   },
   "source": [
    "insights:\n",
    "\n",
    "  * the many `021U` triads indicate \"burst in beneficiaries\" AML tradecraft pattern?"
   ]
  },
  {
   "cell_type": "markdown",
   "id": "ae0ce45c-ee39-41ae-b41b-7125f344146a",
   "metadata": {},
   "source": [
    "## network visualization"
   ]
  },
  {
   "cell_type": "code",
   "execution_count": 60,
   "id": "0f46be94-aa09-4300-a653-6e102bf10e1d",
   "metadata": {
    "execution": {
     "iopub.execute_input": "2025-06-19T19:49:51.818013Z",
     "iopub.status.busy": "2025-06-19T19:49:51.817378Z",
     "iopub.status.idle": "2025-06-19T19:49:51.822208Z",
     "shell.execute_reply": "2025-06-19T19:49:51.821619Z",
     "shell.execute_reply.started": "2025-06-19T19:49:51.817982Z"
    }
   },
   "outputs": [],
   "source": [
    "role_colors: dict = {\n",
    "    \"source\": \"#BDC561\",\n",
    "    \"multi-source\": \"#D9CAD7\",\n",
    "    \"drain\": \"#C25FB8\",\n",
    "}\n",
    "\n",
    "role_shapes: dict = {\n",
    "    \"source\": \"square\",\n",
    "    \"multi-source\": \"diamond\",\n",
    "    \"drain\": \"circle\",\n",
    "}"
   ]
  },
  {
   "cell_type": "code",
   "execution_count": 61,
   "id": "0df20808-a6f1-4d8d-af88-3bf22d45a1c6",
   "metadata": {
    "execution": {
     "iopub.execute_input": "2025-06-19T19:49:52.302062Z",
     "iopub.status.busy": "2025-06-19T19:49:52.301631Z",
     "iopub.status.idle": "2025-06-19T19:49:52.308670Z",
     "shell.execute_reply": "2025-06-19T19:49:52.307990Z",
     "shell.execute_reply.started": "2025-06-19T19:49:52.302039Z"
    }
   },
   "outputs": [],
   "source": [
    "def render_graph (\n",
    "    graph: nx.DiGraph,\n",
    "    ) -> pyvis.network.Network:\n",
    "    \"\"\"\n",
    "    Generate a `PyVis` network visualization from the DiGraph\n",
    "    \"\"\"\n",
    "    net: pyvis.network.Network = pyvis.network.Network(\n",
    "        notebook = True,\n",
    "        cdn_resources = \"in_line\",\n",
    "        directed = True,\n",
    "        height = \"900px\", \n",
    "        width = \"100%\",\n",
    "    )\n",
    "    \n",
    "    # adjust node attributes\n",
    "    net.from_nx(graph)\n",
    "\n",
    "    for node in net.nodes:\n",
    "        node[\"value\"] = node[\"volume\"]\n",
    "        node[\"label\"] = node[\"name\"]\n",
    "\n",
    "        node[\"color\"] = role_colors[node[\"role\"]]\n",
    "        node[\"shape\"] = role_shapes[node[\"role\"]]\n",
    "\n",
    "        if node[\"name\"] == \"BAKTELEKOM MMC\":\n",
    "            node[\"color\"] = \"#3381EA\"\n",
    "\n",
    "        title: str = node[\"name\"] + \"\\nnode_id: \" + str(node[\"id\"])\n",
    "\n",
    "        for key in [ \"role\", \"rank\", \"count\" ]:\n",
    "            title += f\"\\n{key}: \" + str(node[key])\n",
    "\n",
    "        for key in [ \"volume\", \"balance\", \"credits\", \"debits\", ]:\n",
    "            title += f\"\\n{key}: {node[key]:.3e}\"\n",
    "        \n",
    "        node[\"title\"] = title\n",
    "    \n",
    "    # adjust edge attributes\n",
    "    for edge in net.edges:\n",
    "        arc: list = sorted([ edge[\"from\"], edge[\"to\"] ])\n",
    "\n",
    "        if arc in strong_edges:\n",
    "            edge[\"width\"] = 10\n",
    "\n",
    "    return net"
   ]
  },
  {
   "cell_type": "markdown",
   "id": "334867d5-2dc2-44b4-9eff-025e4c2e8a47",
   "metadata": {},
   "source": [
    "construct a graph `PyVis` for visualization"
   ]
  },
  {
   "cell_type": "code",
   "execution_count": 62,
   "id": "f0ad2d29-411c-49fe-94d1-68118807194b",
   "metadata": {
    "execution": {
     "iopub.execute_input": "2025-06-19T19:49:53.328448Z",
     "iopub.status.busy": "2025-06-19T19:49:53.327792Z",
     "iopub.status.idle": "2025-06-19T19:49:53.415201Z",
     "shell.execute_reply": "2025-06-19T19:49:53.414939Z",
     "shell.execute_reply.started": "2025-06-19T19:49:53.328404Z"
    }
   },
   "outputs": [
    {
     "name": "stdout",
     "output_type": "stream",
     "text": [
      "occrp.html\n"
     ]
    },
    {
     "data": {
      "text/html": [
       "\n",
       "        <iframe\n",
       "            width=\"100%\"\n",
       "            height=\"900px\"\n",
       "            src=\"occrp.html\"\n",
       "            frameborder=\"0\"\n",
       "            allowfullscreen\n",
       "            \n",
       "        ></iframe>\n",
       "        "
      ],
      "text/plain": [
       "<IPython.lib.display.IFrame at 0x330106e10>"
      ]
     },
     "execution_count": 62,
     "metadata": {},
     "output_type": "execute_result"
    }
   ],
   "source": [
    "net: pyvis.network.Network = render_graph(graph)\n",
    "\n",
    "net.force_atlas_2based()\n",
    "net.toggle_physics(True)\n",
    "\n",
    "net.prep_notebook()\n",
    "net.show_buttons(filter_ = [ \"physics\" ])\n",
    "\n",
    "options: str =     \"\"\"\n",
    "  \"physics\": {\n",
    "    \"forceAtlas2Based\": {\n",
    "      \"centralGravity\": 0.04,\n",
    "      \"springLength\": 5,\n",
    "      \"springConstant\": 0.32,\n",
    "      \"avoidOverlap\": 0.02\n",
    "    },\n",
    "    \"minVelocity\": 0.75,\n",
    "    \"solver\": \"forceAtlas2Based\"\n",
    "  }\n",
    "    \"\"\"\n",
    "\n",
    "#net.set_options(options)\n",
    "# setting options via Py interface doesn't work?\n",
    "\n",
    "net.show(\"occrp.html\")"
   ]
  },
  {
   "cell_type": "markdown",
   "id": "6d1b03e3-ffa9-48df-a7c0-721a83dcc325",
   "metadata": {},
   "source": [
    "Note: to see the final graph, load the HTML file `occrp.html` in your browser."
   ]
  },
  {
   "cell_type": "markdown",
   "id": "605f098a-1c12-42bf-a14e-0318ef87bdac",
   "metadata": {},
   "source": [
    "## summary"
   ]
  },
  {
   "cell_type": "markdown",
   "id": "e7ef6090-fb33-4827-9458-c4dcd1183ba9",
   "metadata": {},
   "source": [
    "#### graph shape:\n",
    "\n",
    "  * this is a sparse directed graph with cycles\n",
    "  * it's not wide, `diameter = 4`\n",
    "  * power law distribution for node degree\n",
    "  * fully connected graph, `avg path length = 4`\n",
    "  * there are 2 strongly connected components, among pairs of the \"drain\" shell companies\n",
    "  * the many `021U` triads indicate a \"burst in beneficiaries\" AML tradecraft pattern\n",
    "  * 423 nodes in the periphery are \"sources\" (negative balance) and none are \"drains\" (end with a positive balance)\n",
    "\n",
    "#### money transfers:\n",
    "\n",
    "  * a total of \\$3.06B in money transfers flowed through ~4K transactions\n",
    "  * mean transfer amount is \\$751K\n",
    "  * max transfer amount is \\$20.6M\n",
    "  * mean total transfer between two nodes is \\$6.34M\n",
    "  * max total transfer is \\$1.24B\n",
    "  * mean of the median transfer amount between two nodes is \\$46.7K\n",
    "  * mean credits/debits through a given node is \\$7M\n",
    "  * mean count of transfers through a given node is 2.2\n",
    "\n",
    "  * exponential distribution for inter-arrival times (days)\n",
    "\t* min 0\n",
    "\t* median 2\n",
    "\t* mean 7.68\n",
    "\t* max 377\n",
    "\t* stdev 20.51\n",
    "\n",
    "#### shell companies:\n",
    "\n",
    "  * roles of the shell companies:\n",
    "\t* \"source\" 399\n",
    "\t* \"multi-source\" 34 (transfers to 2+ other companies)\n",
    "\t* \"drain\" 4\n",
    "\n",
    " * the \"drain\" companies shuffled $181M (5.9%) between each other, ostensibly to conceal operations?\n",
    "\n",
    "#### strategy:\n",
    "\n",
    "  * \"BAKTELEKOM MMC\", the local bank, was the largest \"source\"\n",
    "  * funds were sourced through 432 other shell companies\n",
    "  * funds drained into 4 companies: \"LCM ALLIANCE LLP\", \"METASTAR INVEST LLP\", \"POLUX MANAGEMENT LP\", \"HILUX SERVICES LP\"\n",
    "\n",
    "OCCRP analysis and the subsequent investigative journalism articles mention these 4 top shell companies involved in the \"Azerbaijani Laundromat\"\n",
    "\n",
    "There are 10 shell companies which are sources of funds for multiple drains:\n",
    "\n",
    "  * \"DANSKE BANK A/S EESTI FILIAAL\"\n",
    "  * \"RIVERLANE LLP\"\n",
    "  * \"GLOBECOM TRADE L.P\"\n",
    "  * \"MOLONEY TRADE LLP\"\n",
    "  * \"DEUTDEFFXXX\"\n",
    "  * \"WILLROCK UNITED LLP\"\n",
    "  * \"HARDWARE SYSTEM LLP\"\n",
    "  * \"BONDWEST LLP\"\n",
    "  * \"DELFRONT IMPORT LLP\"\n",
    "  * \"REDPARK SALES CORP\"\n",
    "\n",
    "Leaked transaction data came from an Estonian branch of Danske Bank, which is one of these multi-source nodes: \"DANSKE BANK A/S EESTI FILIAAL\" https://thebanks.eu/banks/13002"
   ]
  }
 ],
 "metadata": {
  "kernelspec": {
   "display_name": "Python 3 (ipykernel)",
   "language": "python",
   "name": "python3"
  },
  "language_info": {
   "codemirror_mode": {
    "name": "ipython",
    "version": 3
   },
   "file_extension": ".py",
   "mimetype": "text/x-python",
   "name": "python",
   "nbconvert_exporter": "python",
   "pygments_lexer": "ipython3",
   "version": "3.11.9"
  }
 },
 "nbformat": 4,
 "nbformat_minor": 5
}
